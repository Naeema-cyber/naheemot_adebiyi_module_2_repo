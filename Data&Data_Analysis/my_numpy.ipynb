{
 "cells": [
  {
   "cell_type": "markdown",
   "id": "e10363de",
   "metadata": {},
   "source": [
    "### **Understanding Numpy**"
   ]
  },
  {
   "cell_type": "markdown",
   "id": "073db019",
   "metadata": {},
   "source": [
    "- Numpy (Numerical Python) is the foundation library for scientific computing in python. It provides N-dimensional array object and tools for working with these arrays.\n",
    "- T hink of NumPy as the engine that powers most data science libraries - pandas uses NumPy arrarys internally, scikit-learn expects NumPy arrays for machine learning, and matplotlib uses NumPy for plotting.\n",
    "- NumPy operations are implemented in C, making them 10-100x faster than pure Python.\n",
    "- NumPy arrays store data more compactly than python lists.\n",
    "- Vectorization: Perform operations on entire arrays without writing loops.\n",
    "- Work with arrays of different shapes seamlessly.\n",
    "- Foundation for pandas, scikit-learn, matplotlib, and more."
   ]
  },
  {
   "cell_type": "code",
   "execution_count": null,
   "id": "d7e7c1ae",
   "metadata": {},
   "outputs": [],
   "source": [
    "# import all necessary libraries\n",
    "\n",
    "import numpy as np\n",
    "import matplotlib.pyplot as plt\n",
    "import time\n",
    "\n",
    "# Check NumPy version \n",
    "print(f\"Numpy version: {np.__version__}\")\n",
    "\n",
    "# Display settings for cleaner output\n",
    "np.set_printoptions(precision=3, suppress=True)\n",
    "\n"
   ]
  },
  {
   "cell_type": "markdown",
   "id": "ed715113",
   "metadata": {},
   "source": [
    "* Creating Numpy Arrays"
   ]
  },
  {
   "cell_type": "code",
   "execution_count": null,
   "id": "a630176d",
   "metadata": {},
   "outputs": [],
   "source": [
    "# Creating arrays from python lists\n",
    "# ID array: A simple sequence of numbers\n",
    "arr1d = np.array([1, 2, 3, 4, 5])\n",
    "\n",
    "# 2D array: Think of this as a matrix or table with rows and columns\n",
    "arr2d = np.array([[1,2,3],\n",
    "                  [4,5,6]])\n",
    "#3D array: Like a stack of 2D arrays - useful for images. time series. etc.\n",
    "arr3d = np.array([[[1, 2], [3, 4]],\n",
    "                  [[5,6], [7, 8]]])\n",
    "print(\"1D arrays:\" arr1d)\n",
    "print(\"2D arrat:\\n\", arr2d)\n",
    "print(\"3D array:\\n\", arr3d)"
   ]
  }
 ],
 "metadata": {
  "kernelspec": {
   "display_name": "my_venv (3.13.7)",
   "language": "python",
   "name": "python3"
  },
  "language_info": {
   "codemirror_mode": {
    "name": "ipython",
    "version": 3
   },
   "file_extension": ".py",
   "mimetype": "text/x-python",
   "name": "python",
   "nbconvert_exporter": "python",
   "pygments_lexer": "ipython3",
   "version": "3.13.7"
  }
 },
 "nbformat": 4,
 "nbformat_minor": 5
}
