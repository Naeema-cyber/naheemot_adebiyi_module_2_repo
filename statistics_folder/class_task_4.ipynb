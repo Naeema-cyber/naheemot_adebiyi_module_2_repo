{
 "cells": [
  {
   "cell_type": "markdown",
   "id": "6eb94fad",
   "metadata": {},
   "source": [
    "### Class task 4"
   ]
  },
  {
   "cell_type": "markdown",
   "id": "ef78255c",
   "metadata": {},
   "source": [
    "### Given ([4,8,6,5,3]):\n",
    "Maximum = 8, Minimum = 3\n",
    "\n",
    "Range = 8-3 = 5\n",
    "\n",
    "Calculate the variance"
   ]
  },
  {
   "cell_type": "markdown",
   "id": "3f7b0414",
   "metadata": {},
   "source": [
    "**Variance**\n",
    "\n",
    "$$\n",
    "\\frac{\\sum_{i=1}^n{(x-µ)^2}}{n}"
   ]
  },
  {
   "cell_type": "markdown",
   "id": "d7e41ae5",
   "metadata": {},
   "source": [
    "**Mean**\n",
    "$$\n",
    "Mean = \\frac{4 + 8 + 6 + 5 + 3 }{5}\n",
    "$$\n",
    "\n",
    "$$\n",
    "Mean = \\frac{26}{5}\n",
    "$$\n",
    " \n",
    "$$\n",
    "Mean(µ) = 5.2\n",
    "$$\n",
    "\n",
    "\n",
    "**Calculate the variance**\n",
    "\n",
    "| Dataset (x) | x(n) - µ       | (x(n) - µ)^2 |\n",
    "| ----------- | -------------- | -------------|\n",
    "|    4        | 4 - 5.2 = -1.2 |  1.44        |\n",
    "|    8        | 8 - 5.2 = 2.8  |  7.84        |\n",
    "|    6        | 6 - 5.2 = 0.8  |  0.64        |\n",
    "|    5        | 5 - 5.2 = -0.2 |  0.04        |\n",
    "|    3        | 3 - 5.2 = -2.2 |  4.84        |\n",
    "|             |                | Total = 14.8 |\n",
    "\n",
    "\n",
    "**Variance**\n",
    "$$\n",
    "Variance =\\frac{14.8}{5}\n",
    "$$\n",
    "\n",
    "$$\n",
    "Variance = 2.96\n",
    "$$"
   ]
  }
 ],
 "metadata": {
  "language_info": {
   "name": "python"
  }
 },
 "nbformat": 4,
 "nbformat_minor": 5
}
