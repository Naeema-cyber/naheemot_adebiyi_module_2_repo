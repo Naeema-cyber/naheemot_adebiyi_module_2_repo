{
 "cells": [
  {
   "cell_type": "code",
   "execution_count": 5,
   "id": "277bf3c8",
   "metadata": {},
   "outputs": [
    {
     "data": {
      "text/plain": [
       "array([[30, 16, 25, 26, 47,  7],\n",
       "       [37, 33, 16,  8, 41, 19],\n",
       "       [11,  5, 11, 19, 11, 29],\n",
       "       [46, 43,  4, 36, 46, 36],\n",
       "       [48, 18, 43, 13, 25, 22],\n",
       "       [34, 30,  2, 13, 33, 42]], dtype=int32)"
      ]
     },
     "execution_count": 5,
     "metadata": {},
     "output_type": "execute_result"
    }
   ],
   "source": [
    "import numpy as np\n",
    "\n",
    "\n",
    "# 1. Create a 6x6 Numpy array with random integers between 1 and 50. Display the array\n",
    "\n",
    "new_array = np.random.randint(1, 50, (6,6))\n",
    "new_array"
   ]
  },
  {
   "cell_type": "code",
   "execution_count": 6,
   "id": "3dae1b22",
   "metadata": {},
   "outputs": [
    {
     "data": {
      "text/plain": [
       "array([[30, 16, 25, 26, 47,  7],\n",
       "       [37, 33, 16,  8, 41, 19]], dtype=int32)"
      ]
     },
     "execution_count": 6,
     "metadata": {},
     "output_type": "execute_result"
    }
   ],
   "source": [
    "# 2. Extract the following from the array you created in Question 1: The first two rows. The last three columns. All even numbers.\n",
    "\n",
    "# The first two rows\n",
    "new_rows = new_array[0:2, 0:]\n",
    "new_rows\n"
   ]
  },
  {
   "cell_type": "code",
   "execution_count": 7,
   "id": "2ae72beb",
   "metadata": {},
   "outputs": [
    {
     "data": {
      "text/plain": [
       "array([[26, 47,  7],\n",
       "       [ 8, 41, 19],\n",
       "       [19, 11, 29],\n",
       "       [36, 46, 36],\n",
       "       [13, 25, 22],\n",
       "       [13, 33, 42]], dtype=int32)"
      ]
     },
     "execution_count": 7,
     "metadata": {},
     "output_type": "execute_result"
    }
   ],
   "source": [
    "# The last three columns\n",
    "new_column = new_array[0:, -3:] \n",
    "new_column"
   ]
  },
  {
   "cell_type": "code",
   "execution_count": 17,
   "id": "b546044e",
   "metadata": {},
   "outputs": [
    {
     "data": {
      "text/plain": [
       "array([30, 16, 26, 16,  8, 46,  4, 36, 46, 36, 48, 18, 22, 34, 30,  2, 42],\n",
       "      dtype=int32)"
      ]
     },
     "execution_count": 17,
     "metadata": {},
     "output_type": "execute_result"
    }
   ],
   "source": [
    "# For all even numbers\n",
    "even_numbers = new_array[new_array % 2 == 0]\n",
    "even_numbers\n"
   ]
  },
  {
   "cell_type": "markdown",
   "id": "627151f5",
   "metadata": {},
   "source": [
    "# Question 3"
   ]
  },
  {
   "cell_type": "code",
   "execution_count": 9,
   "id": "56fbd003",
   "metadata": {},
   "outputs": [
    {
     "data": {
      "text/plain": [
       "array([[[30, 16, 25, 26, 47,  7],\n",
       "        [37, 33, 16,  8, 41, 19]],\n",
       "\n",
       "       [[11,  5, 11, 19, 11, 29],\n",
       "        [46, 43,  4, 36, 46, 36]],\n",
       "\n",
       "       [[48, 18, 43, 13, 25, 22],\n",
       "        [34, 30,  2, 13, 33, 42]]], dtype=int32)"
      ]
     },
     "execution_count": 9,
     "metadata": {},
     "output_type": "execute_result"
    }
   ],
   "source": [
    "# Perform the following array transformations:\n",
    "# Reshape the array into a 3D(3, 2, 6) array.\n",
    "\n",
    "new_shape = new_array.reshape(3,2,6)\n",
    "new_shape"
   ]
  },
  {
   "cell_type": "code",
   "execution_count": 10,
   "id": "60b369b5",
   "metadata": {},
   "outputs": [
    {
     "data": {
      "text/plain": [
       "array([30, 16, 25, 26, 47,  7, 37, 33, 16,  8, 41, 19, 11,  5, 11, 19, 11,\n",
       "       29, 46, 43,  4, 36, 46, 36, 48, 18, 43, 13, 25, 22, 34, 30,  2, 13,\n",
       "       33, 42], dtype=int32)"
      ]
     },
     "execution_count": 10,
     "metadata": {},
     "output_type": "execute_result"
    }
   ],
   "source": [
    "# Flatten the reshaped array back to 1D\n",
    "flat = new_shape.flatten()\n",
    "flat"
   ]
  },
  {
   "cell_type": "markdown",
   "id": "8c903e2e",
   "metadata": {},
   "source": [
    "# Question 4"
   ]
  },
  {
   "cell_type": "code",
   "execution_count": 11,
   "id": "b96999d8",
   "metadata": {},
   "outputs": [
    {
     "data": {
      "text/plain": [
       "array([[1., 0., 0., 0.],\n",
       "       [0., 1., 0., 0.],\n",
       "       [0., 0., 1., 0.],\n",
       "       [0., 0., 0., 1.]])"
      ]
     },
     "execution_count": 11,
     "metadata": {},
     "output_type": "execute_result"
    }
   ],
   "source": [
    "# Generate a 4x4 identity matrix and replace the diagonal with numbers from 10 to 40, with a step of 10.\n",
    "\n",
    "np.identity(4)"
   ]
  },
  {
   "cell_type": "code",
   "execution_count": 12,
   "id": "37b3a8a5",
   "metadata": {},
   "outputs": [
    {
     "data": {
      "text/plain": [
       "array([[10,  0,  0,  0],\n",
       "       [ 0, 20,  0,  0],\n",
       "       [ 0,  0, 30,  0],\n",
       "       [ 0,  0,  0, 40]])"
      ]
     },
     "execution_count": 12,
     "metadata": {},
     "output_type": "execute_result"
    }
   ],
   "source": [
    "np.diag(np.arange(10,50,10))"
   ]
  },
  {
   "cell_type": "markdown",
   "id": "323e35bb",
   "metadata": {},
   "source": [
    "# Question 5"
   ]
  },
  {
   "cell_type": "code",
   "execution_count": 13,
   "id": "36e51bfa",
   "metadata": {},
   "outputs": [
    {
     "name": "stdout",
     "output_type": "stream",
     "text": [
      "[[ 71  62  60]\n",
      " [170 101 122]\n",
      " [156 100 120]]\n"
     ]
    }
   ],
   "source": [
    "#Perform matrix multiplication between: A3x4 matrix of random integers (1-10) A 4x3 matrix of random integers (1-10)\n",
    "\n",
    "matrix_1 = np.random.randint(1 , 10, (3,4))\n",
    "matrix_2 = np.random.randint(1, 10, (4,3))\n",
    "result = np.matmul(matrix_1, matrix_2)\n",
    "print(result)"
   ]
  },
  {
   "cell_type": "markdown",
   "id": "6fe1c875",
   "metadata": {},
   "source": [
    "# Question 6"
   ]
  },
  {
   "cell_type": "code",
   "execution_count": null,
   "id": "db539788",
   "metadata": {},
   "outputs": [],
   "source": [
    "# Create a function that takes a 2D Numpy array as input and returns a new array where: All even numbers are squared. All odd numbers are replaced by -1\n",
    "\n",
    "def main():\n",
    "    rows = int(input(\"Enter the number of rows: \"))\n",
    "    cols = int(input(\"Enter the number of columns: \"))\n",
    "\n",
    "    arr = np.arange(rows * cols).reshape(rows,cols)\n",
    "    new_arr = np.where(arr % 2 == 0, arr **2, -1)\n",
    "    print(new_arr)\n",
    "main()\n",
    "\n"
   ]
  }
 ],
 "metadata": {
  "kernelspec": {
   "display_name": "my_venv",
   "language": "python",
   "name": "python3"
  },
  "language_info": {
   "codemirror_mode": {
    "name": "ipython",
    "version": 3
   },
   "file_extension": ".py",
   "mimetype": "text/x-python",
   "name": "python",
   "nbconvert_exporter": "python",
   "pygments_lexer": "ipython3",
   "version": "3.13.5"
  }
 },
 "nbformat": 4,
 "nbformat_minor": 5
}
