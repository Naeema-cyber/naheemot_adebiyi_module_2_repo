{
 "cells": [
  {
   "cell_type": "markdown",
   "id": "de0af1c2",
   "metadata": {},
   "source": [
    "### Mean, Median & Mode"
   ]
  },
  {
   "cell_type": "markdown",
   "id": "0d1344d5",
   "metadata": {},
   "source": [
    "### 1. Class Test Scores\n",
    "\n",
    "The following are the Mathematics tedt scores (out of 20) for a class of 15 students: 5,8,10,12,12,12,13,14,14,15,16,18,18,20,20\n",
    "\n",
    "* Find the mean, median, and mode of the scores.\n",
    "$$\n",
    "mean = \\frac{5+8+10+12+12+12+13+14+14+15+16+18+18+20+20}{15} \n",
    "$$\n",
    "$$\n",
    "\\frac{207}{15}\n",
    "$$\n",
    "mean = 13.8\n",
    "\n",
    "median = 14\n",
    "\n",
    "mode = 12\n",
    "\n",
    "* If the lowest score (5) was wrongly recorded and should have been 10, how would the mean change? Would the median and mode change? Explain.\n",
    "$$\n",
    "mean =\\frac{10+8+10+12+12+12+13+14+15+16+18+18+20+20}{15} \n",
    "$$\n",
    "$$\n",
    "= \\frac{212}{15} \n",
    "$$\n",
    "mean = 14.1\n",
    "\n",
    "The median and the mode will not be affected because the median is the middle value and the mode is the highest occuring value which is 12."
   ]
  },
  {
   "cell_type": "markdown",
   "id": "5f9cceb4",
   "metadata": {},
   "source": [
    "### 2. Daily Commute Times\n",
    "A group of 9 students reported the time ( in minutes) it takes them to get to school each day: \n",
    "15,20,20,25,25,30,60,65,120\n",
    "* Find the mean, median, and mode of the data.\n",
    "$$\n",
    "mean = \\frac{15+20+20+25+25+30+60+65+120}{9} \n",
    "$$\n",
    "$$\n",
    "= \\frac{380}{9} \n",
    "$$\n",
    "mean = 42.2\n",
    "\n",
    "median = 25\n",
    "\n",
    "mode = 20 and 25\n",
    "\n",
    "* Which measure (mean, median, or mode) do you think best represents the \"typical\" time it takes students to get to school? Why?\n",
    "Median and mode are the best probable approach beacause of the outliers present in the data."
   ]
  },
  {
   "cell_type": "markdown",
   "id": "da5044e1",
   "metadata": {},
   "source": [
    "### 3. Shoe Sizes\n",
    "The shoe sizes of students in a class are:\n",
    "38,39, 38, 40, 41, 42, 39, 39, 40, 38, 37, 39, 40, 41, 42\n",
    "\n",
    "sorting the data = 37,38,38,38,39,39,39,39,40,40,40,41,41,42,42\n",
    "\n",
    "* Find the mode of the data.\n",
    "\n",
    "mode = 39\n",
    "\n",
    "* If a shoe company wants to donate free shoes, which size should they produce most of? Why?\n",
    "\n",
    "The size that will mostly be produced will be size 39 because it is the highest occurring value in the dataset.\n",
    "\n",
    "* What if they only want to produce one size that would fit the \"average\" student? Should they use mean, median, or mode? Defend your answer.\n",
    "\n",
    "If they decide to use mean, the average size will be 39.5.\n",
    "\n",
    "If they decide to use median, the average size will  be 39.\n",
    "\n",
    "If they decide to go with the mode, the average size will still be 39 because it is the highest occurring value.\n"
   ]
  }
 ],
 "metadata": {
  "language_info": {
   "name": "python"
  }
 },
 "nbformat": 4,
 "nbformat_minor": 5
}
