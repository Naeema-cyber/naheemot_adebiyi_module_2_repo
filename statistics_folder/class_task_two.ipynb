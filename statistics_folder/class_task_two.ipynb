{
 "cells": [
  {
   "cell_type": "markdown",
   "id": "688af654",
   "metadata": {},
   "source": [
    "# CLASS TASK 2\n",
    "\n",
    "__1. Identify the number of rows and columns in each matrix.__"
   ]
  },
  {
   "cell_type": "markdown",
   "id": "5c4bc898",
   "metadata": {},
   "source": [
    "__Matrix A__  \n",
    "\n",
    "Rows - 2\n",
    "Columns - 3\n",
    "\n",
    "The order is 2 by 3\n",
    "\n",
    "\n",
    "__Matrix B__\n",
    " \n",
    "Rows - 3\n",
    "Columns - 2\n",
    "\n",
    "The order is 3 by 2"
   ]
  },
  {
   "cell_type": "code",
   "execution_count": 1,
   "id": "f38d38ee",
   "metadata": {},
   "outputs": [
    {
     "name": "stdout",
     "output_type": "stream",
     "text": [
      "Matrix A (2x3): [[ 2 -1  3]\n",
      " [ 0  4  1]]\n",
      "Shape: (2, 3)\n",
      "Matrix B: (3x2) [[ 1  2]\n",
      " [-2  0]\n",
      " [ 2 -3]]\n",
      "Shape: (3, 2)\n"
     ]
    }
   ],
   "source": [
    "# using numpy for numerical operations\n",
    "import numpy as np\n",
    "# creating matrix A array which is a 2x3 matrix\n",
    "A = np.array([[2, -1, 3], \n",
    "              [0, 4, 1]])\n",
    "\n",
    "# creating matrix B array which is a 3x2 matrix\n",
    "B = np.array([\n",
    "             [1, 2],\n",
    "             [-2, 0],\n",
    "             [2, -3]])\n",
    "\n",
    "# identify the number of rows and columns in matrix A:\n",
    "print(\"Matrix A (2x3):\",  A)\n",
    "print(\"Shape:\", A.shape)\n",
    "\n",
    "# identify the number of rows and columns in matrix B:\n",
    "print(\"Matrix B: (3x2)\", B)\n",
    "print(\"Shape:\", B.shape)"
   ]
  },
  {
   "cell_type": "markdown",
   "id": "8390a571",
   "metadata": {},
   "source": [
    "__2. Determine whether the matrices can be multiplied. If so, specify whether it's (AB),(BA), or both.__"
   ]
  },
  {
   "cell_type": "markdown",
   "id": "696c8658",
   "metadata": {},
   "source": [
    "The number of rows in matrix A is equal to the number of columns in matrix B, this makes them compatible for multiplication.\n",
    "A = 2x3\n",
    "B = 3x2\n",
    "In this case the AB multiplication can be multiplied.\n",
    "\n",
    "The number of number of rows in matrix B is equal to the number of columns in matrix A which also makes it possible for multiplication.\n",
    "\n",
    "Multiplication in matrices are not commutative which means the result of AB is not equal to BA as AB!= BA."
   ]
  },
  {
   "cell_type": "markdown",
   "id": "97372544",
   "metadata": {},
   "source": [
    "3. __If the multiplication is defined, compute the resulting matrix.__\n",
    "For matrix AB:\n",
    "\n",
    "A = np.array([[2,-1,3],\n",
    "              [0,4,1]])\n",
    "B = np.array([[1,2],\n",
    "              [-2,0],\n",
    "              [5,-3]])\n",
    "\n",
    "              \n",
    "\n",
    "AB = Row 1 column 1             Row 1 column 2\n",
    "     [(2*1)+(-1*-2)+(3*5)]    [(2*2)+(-1*0)+(3*-3)]\n",
    "\n",
    "    Row 2 column 1              Row 2 column 2\n",
    "    [(0*1)+(4*-2)+(1*5)]        [(0*2)+(4*0)+(1*-3)]\n",
    "\n",
    "\n",
    "\n",
    "AB = [(2+2+15), (4+0+(-9))\n",
    "      (0+(-8)+5), (0+0+(-3))]\n",
    "\n",
    "\n",
    "AB = [[19, -5],\n",
    "      [-3, -3]]\n",
    "\n",
    "\n",
    "The resulting order for matrix AB is (2*2) matrix.\n",
    "\n",
    "\n",
    "\n",
    "For matrix BA:\n",
    "B = np.array([[1,2],\n",
    "             [-2,0],\n",
    "             [5,-3]])\n",
    "\n",
    "\n",
    "A = np.array([[2,-1,3]\n",
    "              [0,4,1]])\n",
    "\n",
    "\n",
    "\n",
    "BA = row 1 column 1     row 1 column 2      row 1 column 3\n",
    "    [(1*2)+(2*0)]       [(1*-1)+(2*4)]      [(1*3)+(2*1)]\n",
    "    row 2 column 1      row 2 column 2      row 3 column 3\n",
    "    [(-2*2)+(0*0)]      [(-2*-1)+(0*4)]     [(-2*3)+(0*1)]\n",
    "    row 3 column 1      row 3 column 2      row 3 column 3\n",
    "    [(5*2)+(-3*0)]      [(5*-1)+(-3*4)]     [(5*3)+(-3*1)]\n",
    "\n",
    "\n",
    "\n",
    "BA = [(2),(7),(5),\n",
    "      (-4),(-2),(-6),\n",
    "      (10),(-17),(12)]\n",
    "\n",
    "\n",
    "BA = [[2,7,5],\n",
    "      [-4,2,-6],\n",
    "      [10,-17,12]]\n",
    "\n",
    "      \n",
    "The resulting order for matrix BA is (3*3) matrix.\n"
   ]
  },
  {
   "cell_type": "code",
   "execution_count": 3,
   "id": "62e0e425",
   "metadata": {},
   "outputs": [
    {
     "name": "stdout",
     "output_type": "stream",
     "text": [
      "Matrix AXB =\n",
      " [[19 -5]\n",
      " [-3 -3]]\n",
      "Shape: (2, 2)\n"
     ]
    }
   ],
   "source": [
    "A = np.array([[2, -1, 3], \n",
    "              [0, 4, 1]])\n",
    "\n",
    "\n",
    "B = np.array([\n",
    "             [1, 2],\n",
    "             [-2, 0],\n",
    "             [5, -3]])\n",
    "\n",
    "# For matrix AB:\n",
    "AB = A @ B\n",
    "print(\"Matrix AXB =\\n\", AB)\n",
    "print(\"Shape:\", AB.shape)"
   ]
  },
  {
   "cell_type": "code",
   "execution_count": 5,
   "id": "13679ebc",
   "metadata": {},
   "outputs": [
    {
     "name": "stdout",
     "output_type": "stream",
     "text": [
      "Matrix BXA =\n",
      " [[  2   7   5]\n",
      " [ -4   2  -6]\n",
      " [ 10 -17  12]]\n",
      "Shape: (3, 3)\n"
     ]
    }
   ],
   "source": [
    "A = np.array([[2, -1, 3], \n",
    "              [0, 4, 1]])\n",
    "\n",
    "\n",
    "B = np.array([\n",
    "             [1, 2],\n",
    "             [-2, 0],\n",
    "             [5, -3]])\n",
    "\n",
    "# For matrix BA:\n",
    "BA = B @ A\n",
    "print(\"Matrix BXA =\\n\", BA)\n",
    "print(\"Shape:\", BA.shape)"
   ]
  }
 ],
 "metadata": {
  "kernelspec": {
   "display_name": "my_venv (3.13.7)",
   "language": "python",
   "name": "python3"
  },
  "language_info": {
   "codemirror_mode": {
    "name": "ipython",
    "version": 3
   },
   "file_extension": ".py",
   "mimetype": "text/x-python",
   "name": "python",
   "nbconvert_exporter": "python",
   "pygments_lexer": "ipython3",
   "version": "3.13.7"
  }
 },
 "nbformat": 4,
 "nbformat_minor": 5
}
