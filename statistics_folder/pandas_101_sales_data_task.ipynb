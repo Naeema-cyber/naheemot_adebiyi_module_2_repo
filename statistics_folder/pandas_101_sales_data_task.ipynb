{
 "cells": [
  {
   "cell_type": "code",
   "execution_count": 33,
   "id": "2188184c",
   "metadata": {},
   "outputs": [],
   "source": [
    "import pandas as pd"
   ]
  },
  {
   "cell_type": "code",
   "execution_count": 34,
   "id": "2d288b60",
   "metadata": {},
   "outputs": [
    {
     "data": {
      "text/html": [
       "<div>\n",
       "<style scoped>\n",
       "    .dataframe tbody tr th:only-of-type {\n",
       "        vertical-align: middle;\n",
       "    }\n",
       "\n",
       "    .dataframe tbody tr th {\n",
       "        vertical-align: top;\n",
       "    }\n",
       "\n",
       "    .dataframe thead th {\n",
       "        text-align: right;\n",
       "    }\n",
       "</style>\n",
       "<table border=\"1\" class=\"dataframe\">\n",
       "  <thead>\n",
       "    <tr style=\"text-align: right;\">\n",
       "      <th></th>\n",
       "      <th>Sales Person</th>\n",
       "      <th>Geography</th>\n",
       "      <th>Product</th>\n",
       "      <th>Date</th>\n",
       "      <th>Amount</th>\n",
       "      <th>Boxes</th>\n",
       "    </tr>\n",
       "  </thead>\n",
       "  <tbody>\n",
       "    <tr>\n",
       "      <th>0</th>\n",
       "      <td>Barr Faughny</td>\n",
       "      <td>New Zealand</td>\n",
       "      <td>Raspberry Choco</td>\n",
       "      <td>2021-01-01</td>\n",
       "      <td>8414</td>\n",
       "      <td>495</td>\n",
       "    </tr>\n",
       "    <tr>\n",
       "      <th>1</th>\n",
       "      <td>Dennison Crosswaite</td>\n",
       "      <td>Canada</td>\n",
       "      <td>White Choc</td>\n",
       "      <td>2021-01-01</td>\n",
       "      <td>532</td>\n",
       "      <td>54</td>\n",
       "    </tr>\n",
       "    <tr>\n",
       "      <th>2</th>\n",
       "      <td>Karlen McCaffrey</td>\n",
       "      <td>USA</td>\n",
       "      <td>99% Dark &amp; Pure</td>\n",
       "      <td>2021-01-01</td>\n",
       "      <td>5376</td>\n",
       "      <td>269</td>\n",
       "    </tr>\n",
       "    <tr>\n",
       "      <th>3</th>\n",
       "      <td>Barr Faughny</td>\n",
       "      <td>New Zealand</td>\n",
       "      <td>Baker's Choco Chips</td>\n",
       "      <td>2021-01-01</td>\n",
       "      <td>259</td>\n",
       "      <td>22</td>\n",
       "    </tr>\n",
       "    <tr>\n",
       "      <th>4</th>\n",
       "      <td>Beverie Moffet</td>\n",
       "      <td>USA</td>\n",
       "      <td>Manuka Honey Choco</td>\n",
       "      <td>2021-01-01</td>\n",
       "      <td>5530</td>\n",
       "      <td>179</td>\n",
       "    </tr>\n",
       "  </tbody>\n",
       "</table>\n",
       "</div>"
      ],
      "text/plain": [
       "          Sales Person      Geography              Product       Date  Amount  \\\n",
       "0         Barr Faughny    New Zealand      Raspberry Choco 2021-01-01    8414   \n",
       "1  Dennison Crosswaite         Canada           White Choc 2021-01-01     532   \n",
       "2     Karlen McCaffrey            USA      99% Dark & Pure 2021-01-01    5376   \n",
       "3         Barr Faughny    New Zealand  Baker's Choco Chips 2021-01-01     259   \n",
       "4       Beverie Moffet            USA   Manuka Honey Choco 2021-01-01    5530   \n",
       "\n",
       "   Boxes  \n",
       "0    495  \n",
       "1     54  \n",
       "2    269  \n",
       "3     22  \n",
       "4    179  "
      ]
     },
     "execution_count": 34,
     "metadata": {},
     "output_type": "execute_result"
    }
   ],
   "source": [
    "# loc and iloc are called indexers\n",
    "#Let's learn how they work and how they differ from each other\n",
    "sales = pd.read_excel(\"Sales Data.xlsx\")\n",
    "\n",
    "sales.head()"
   ]
  },
  {
   "cell_type": "code",
   "execution_count": 35,
   "id": "9d69c98a",
   "metadata": {},
   "outputs": [
    {
     "data": {
      "text/plain": [
       "Sales Person    0\n",
       "Geography       0\n",
       "Product         0\n",
       "Date            0\n",
       "Amount          0\n",
       "Boxes           0\n",
       "dtype: int64"
      ]
     },
     "execution_count": 35,
     "metadata": {},
     "output_type": "execute_result"
    }
   ],
   "source": [
    "sales.isna().sum()"
   ]
  },
  {
   "cell_type": "code",
   "execution_count": 36,
   "id": "6f767c9a",
   "metadata": {},
   "outputs": [
    {
     "data": {
      "text/plain": [
       "(3791, 6)"
      ]
     },
     "execution_count": 36,
     "metadata": {},
     "output_type": "execute_result"
    }
   ],
   "source": [
    "sales.shape"
   ]
  },
  {
   "cell_type": "code",
   "execution_count": 37,
   "id": "1687a2ed",
   "metadata": {},
   "outputs": [
    {
     "data": {
      "text/html": [
       "<div>\n",
       "<style scoped>\n",
       "    .dataframe tbody tr th:only-of-type {\n",
       "        vertical-align: middle;\n",
       "    }\n",
       "\n",
       "    .dataframe tbody tr th {\n",
       "        vertical-align: top;\n",
       "    }\n",
       "\n",
       "    .dataframe thead th {\n",
       "        text-align: right;\n",
       "    }\n",
       "</style>\n",
       "<table border=\"1\" class=\"dataframe\">\n",
       "  <thead>\n",
       "    <tr style=\"text-align: right;\">\n",
       "      <th></th>\n",
       "      <th>Sales Person</th>\n",
       "      <th>Geography</th>\n",
       "      <th>Product</th>\n",
       "      <th>Date</th>\n",
       "      <th>Amount</th>\n",
       "      <th>Boxes</th>\n",
       "    </tr>\n",
       "  </thead>\n",
       "  <tbody>\n",
       "    <tr>\n",
       "      <th>0</th>\n",
       "      <td>Barr Faughny</td>\n",
       "      <td>New Zealand</td>\n",
       "      <td>Raspberry Choco</td>\n",
       "      <td>2021-01-01</td>\n",
       "      <td>8414</td>\n",
       "      <td>495</td>\n",
       "    </tr>\n",
       "    <tr>\n",
       "      <th>2</th>\n",
       "      <td>Karlen McCaffrey</td>\n",
       "      <td>USA</td>\n",
       "      <td>99% Dark &amp; Pure</td>\n",
       "      <td>2021-01-01</td>\n",
       "      <td>5376</td>\n",
       "      <td>269</td>\n",
       "    </tr>\n",
       "    <tr>\n",
       "      <th>4</th>\n",
       "      <td>Beverie Moffet</td>\n",
       "      <td>USA</td>\n",
       "      <td>Manuka Honey Choco</td>\n",
       "      <td>2021-01-01</td>\n",
       "      <td>5530</td>\n",
       "      <td>179</td>\n",
       "    </tr>\n",
       "    <tr>\n",
       "      <th>6</th>\n",
       "      <td>Oby Sorrel</td>\n",
       "      <td>UK</td>\n",
       "      <td>Raspberry Choco</td>\n",
       "      <td>2021-01-01</td>\n",
       "      <td>1057</td>\n",
       "      <td>71</td>\n",
       "    </tr>\n",
       "  </tbody>\n",
       "</table>\n",
       "</div>"
      ],
      "text/plain": [
       "       Sales Person      Geography             Product       Date  Amount  \\\n",
       "0      Barr Faughny    New Zealand     Raspberry Choco 2021-01-01    8414   \n",
       "2  Karlen McCaffrey            USA     99% Dark & Pure 2021-01-01    5376   \n",
       "4    Beverie Moffet            USA  Manuka Honey Choco 2021-01-01    5530   \n",
       "6        Oby Sorrel             UK     Raspberry Choco 2021-01-01    1057   \n",
       "\n",
       "   Boxes  \n",
       "0    495  \n",
       "2    269  \n",
       "4    179  \n",
       "6     71  "
      ]
     },
     "execution_count": 37,
     "metadata": {},
     "output_type": "execute_result"
    }
   ],
   "source": [
    "# for loc and iloc, argument 1 is for rows while argument 2 is for columns\n",
    "# The main purpose of the loc and iloc is for indexing\n",
    "\n",
    "# Using loc\n",
    "[0,2,4,6]\n",
    "sales.loc[[0,2,4,6]]  # This works with both integer and strings...\n",
    "#sales.loc[[0,2,4,6]] # list of the row I want to separate..... double braces..."
   ]
  },
  {
   "cell_type": "code",
   "execution_count": 38,
   "id": "115ba403",
   "metadata": {},
   "outputs": [
    {
     "data": {
      "text/html": [
       "<div>\n",
       "<style scoped>\n",
       "    .dataframe tbody tr th:only-of-type {\n",
       "        vertical-align: middle;\n",
       "    }\n",
       "\n",
       "    .dataframe tbody tr th {\n",
       "        vertical-align: top;\n",
       "    }\n",
       "\n",
       "    .dataframe thead th {\n",
       "        text-align: right;\n",
       "    }\n",
       "</style>\n",
       "<table border=\"1\" class=\"dataframe\">\n",
       "  <thead>\n",
       "    <tr style=\"text-align: right;\">\n",
       "      <th></th>\n",
       "      <th>Sales Person</th>\n",
       "      <th>Product</th>\n",
       "      <th>Boxes</th>\n",
       "    </tr>\n",
       "  </thead>\n",
       "  <tbody>\n",
       "    <tr>\n",
       "      <th>0</th>\n",
       "      <td>Barr Faughny</td>\n",
       "      <td>Raspberry Choco</td>\n",
       "      <td>495</td>\n",
       "    </tr>\n",
       "    <tr>\n",
       "      <th>2</th>\n",
       "      <td>Karlen McCaffrey</td>\n",
       "      <td>99% Dark &amp; Pure</td>\n",
       "      <td>269</td>\n",
       "    </tr>\n",
       "    <tr>\n",
       "      <th>4</th>\n",
       "      <td>Beverie Moffet</td>\n",
       "      <td>Manuka Honey Choco</td>\n",
       "      <td>179</td>\n",
       "    </tr>\n",
       "    <tr>\n",
       "      <th>6</th>\n",
       "      <td>Oby Sorrel</td>\n",
       "      <td>Raspberry Choco</td>\n",
       "      <td>71</td>\n",
       "    </tr>\n",
       "  </tbody>\n",
       "</table>\n",
       "</div>"
      ],
      "text/plain": [
       "       Sales Person             Product  Boxes\n",
       "0      Barr Faughny     Raspberry Choco    495\n",
       "2  Karlen McCaffrey     99% Dark & Pure    269\n",
       "4    Beverie Moffet  Manuka Honey Choco    179\n",
       "6        Oby Sorrel     Raspberry Choco     71"
      ]
     },
     "execution_count": 38,
     "metadata": {},
     "output_type": "execute_result"
    }
   ],
   "source": [
    "# Indexing columns... this one is having first argument for the row and second argument for the column using column names or string\n",
    "sales.loc[[0,2,4,6],['Sales Person','Product','Boxes']]"
   ]
  },
  {
   "cell_type": "code",
   "execution_count": 39,
   "id": "4632177d",
   "metadata": {},
   "outputs": [
    {
     "data": {
      "text/html": [
       "<div>\n",
       "<style scoped>\n",
       "    .dataframe tbody tr th:only-of-type {\n",
       "        vertical-align: middle;\n",
       "    }\n",
       "\n",
       "    .dataframe tbody tr th {\n",
       "        vertical-align: top;\n",
       "    }\n",
       "\n",
       "    .dataframe thead th {\n",
       "        text-align: right;\n",
       "    }\n",
       "</style>\n",
       "<table border=\"1\" class=\"dataframe\">\n",
       "  <thead>\n",
       "    <tr style=\"text-align: right;\">\n",
       "      <th></th>\n",
       "      <th>Sales Person</th>\n",
       "      <th>Geography</th>\n",
       "      <th>Product</th>\n",
       "      <th>Date</th>\n",
       "    </tr>\n",
       "  </thead>\n",
       "  <tbody>\n",
       "    <tr>\n",
       "      <th>0</th>\n",
       "      <td>Barr Faughny</td>\n",
       "      <td>New Zealand</td>\n",
       "      <td>Raspberry Choco</td>\n",
       "      <td>2021-01-01</td>\n",
       "    </tr>\n",
       "    <tr>\n",
       "      <th>2</th>\n",
       "      <td>Karlen McCaffrey</td>\n",
       "      <td>USA</td>\n",
       "      <td>99% Dark &amp; Pure</td>\n",
       "      <td>2021-01-01</td>\n",
       "    </tr>\n",
       "    <tr>\n",
       "      <th>4</th>\n",
       "      <td>Beverie Moffet</td>\n",
       "      <td>USA</td>\n",
       "      <td>Manuka Honey Choco</td>\n",
       "      <td>2021-01-01</td>\n",
       "    </tr>\n",
       "    <tr>\n",
       "      <th>6</th>\n",
       "      <td>Oby Sorrel</td>\n",
       "      <td>UK</td>\n",
       "      <td>Raspberry Choco</td>\n",
       "      <td>2021-01-01</td>\n",
       "    </tr>\n",
       "  </tbody>\n",
       "</table>\n",
       "</div>"
      ],
      "text/plain": [
       "       Sales Person      Geography             Product       Date\n",
       "0      Barr Faughny    New Zealand     Raspberry Choco 2021-01-01\n",
       "2  Karlen McCaffrey            USA     99% Dark & Pure 2021-01-01\n",
       "4    Beverie Moffet            USA  Manuka Honey Choco 2021-01-01\n",
       "6        Oby Sorrel             UK     Raspberry Choco 2021-01-01"
      ]
     },
     "execution_count": 39,
     "metadata": {},
     "output_type": "execute_result"
    }
   ],
   "source": [
    "sales.iloc[[0,2,4,6],[0,1,2,3]]"
   ]
  },
  {
   "cell_type": "code",
   "execution_count": 40,
   "id": "b01573eb",
   "metadata": {},
   "outputs": [
    {
     "data": {
      "text/html": [
       "<div>\n",
       "<style scoped>\n",
       "    .dataframe tbody tr th:only-of-type {\n",
       "        vertical-align: middle;\n",
       "    }\n",
       "\n",
       "    .dataframe tbody tr th {\n",
       "        vertical-align: top;\n",
       "    }\n",
       "\n",
       "    .dataframe thead th {\n",
       "        text-align: right;\n",
       "    }\n",
       "</style>\n",
       "<table border=\"1\" class=\"dataframe\">\n",
       "  <thead>\n",
       "    <tr style=\"text-align: right;\">\n",
       "      <th></th>\n",
       "      <th>Sales Person</th>\n",
       "      <th>Geography</th>\n",
       "      <th>Product</th>\n",
       "      <th>Date</th>\n",
       "      <th>Amount</th>\n",
       "      <th>Boxes</th>\n",
       "    </tr>\n",
       "  </thead>\n",
       "  <tbody>\n",
       "    <tr>\n",
       "      <th>0</th>\n",
       "      <td>Barr Faughny</td>\n",
       "      <td>New Zealand</td>\n",
       "      <td>Raspberry Choco</td>\n",
       "      <td>2021-01-01</td>\n",
       "      <td>8414</td>\n",
       "      <td>495</td>\n",
       "    </tr>\n",
       "    <tr>\n",
       "      <th>1</th>\n",
       "      <td>Dennison Crosswaite</td>\n",
       "      <td>Canada</td>\n",
       "      <td>White Choc</td>\n",
       "      <td>2021-01-01</td>\n",
       "      <td>532</td>\n",
       "      <td>54</td>\n",
       "    </tr>\n",
       "    <tr>\n",
       "      <th>2</th>\n",
       "      <td>Karlen McCaffrey</td>\n",
       "      <td>USA</td>\n",
       "      <td>99% Dark &amp; Pure</td>\n",
       "      <td>2021-01-01</td>\n",
       "      <td>5376</td>\n",
       "      <td>269</td>\n",
       "    </tr>\n",
       "    <tr>\n",
       "      <th>3</th>\n",
       "      <td>Barr Faughny</td>\n",
       "      <td>New Zealand</td>\n",
       "      <td>Baker's Choco Chips</td>\n",
       "      <td>2021-01-01</td>\n",
       "      <td>259</td>\n",
       "      <td>22</td>\n",
       "    </tr>\n",
       "    <tr>\n",
       "      <th>4</th>\n",
       "      <td>Beverie Moffet</td>\n",
       "      <td>USA</td>\n",
       "      <td>Manuka Honey Choco</td>\n",
       "      <td>2021-01-01</td>\n",
       "      <td>5530</td>\n",
       "      <td>179</td>\n",
       "    </tr>\n",
       "    <tr>\n",
       "      <th>...</th>\n",
       "      <td>...</td>\n",
       "      <td>...</td>\n",
       "      <td>...</td>\n",
       "      <td>...</td>\n",
       "      <td>...</td>\n",
       "      <td>...</td>\n",
       "    </tr>\n",
       "    <tr>\n",
       "      <th>3786</th>\n",
       "      <td>Van Tuxwell</td>\n",
       "      <td>India</td>\n",
       "      <td>Drinking Coco</td>\n",
       "      <td>2022-01-19</td>\n",
       "      <td>10682</td>\n",
       "      <td>1526</td>\n",
       "    </tr>\n",
       "    <tr>\n",
       "      <th>3787</th>\n",
       "      <td>Rafaelita Blaksland</td>\n",
       "      <td>Australia</td>\n",
       "      <td>Mint Chip Choco</td>\n",
       "      <td>2022-01-18</td>\n",
       "      <td>11746</td>\n",
       "      <td>511</td>\n",
       "    </tr>\n",
       "    <tr>\n",
       "      <th>3788</th>\n",
       "      <td>Kelci Walkden</td>\n",
       "      <td>Australia</td>\n",
       "      <td>Spicy Special Slims</td>\n",
       "      <td>2022-01-03</td>\n",
       "      <td>8862</td>\n",
       "      <td>1477</td>\n",
       "    </tr>\n",
       "    <tr>\n",
       "      <th>3789</th>\n",
       "      <td>Gunar Cockshoot</td>\n",
       "      <td>New Zealand</td>\n",
       "      <td>Mint Chip Choco</td>\n",
       "      <td>2022-01-21</td>\n",
       "      <td>11592</td>\n",
       "      <td>527</td>\n",
       "    </tr>\n",
       "    <tr>\n",
       "      <th>3790</th>\n",
       "      <td>Mallorie Waber</td>\n",
       "      <td>USA</td>\n",
       "      <td>Spicy Special Slims</td>\n",
       "      <td>2022-01-07</td>\n",
       "      <td>3871</td>\n",
       "      <td>431</td>\n",
       "    </tr>\n",
       "  </tbody>\n",
       "</table>\n",
       "<p>3791 rows × 6 columns</p>\n",
       "</div>"
      ],
      "text/plain": [
       "             Sales Person      Geography              Product       Date  \\\n",
       "0            Barr Faughny    New Zealand      Raspberry Choco 2021-01-01   \n",
       "1     Dennison Crosswaite         Canada           White Choc 2021-01-01   \n",
       "2        Karlen McCaffrey            USA      99% Dark & Pure 2021-01-01   \n",
       "3            Barr Faughny    New Zealand  Baker's Choco Chips 2021-01-01   \n",
       "4          Beverie Moffet            USA   Manuka Honey Choco 2021-01-01   \n",
       "...                   ...            ...                  ...        ...   \n",
       "3786          Van Tuxwell         India         Drinking Coco 2022-01-19   \n",
       "3787  Rafaelita Blaksland     Australia       Mint Chip Choco 2022-01-18   \n",
       "3788        Kelci Walkden     Australia   Spicy Special Slims 2022-01-03   \n",
       "3789      Gunar Cockshoot   New Zealand       Mint Chip Choco 2022-01-21   \n",
       "3790       Mallorie Waber         USA     Spicy Special Slims 2022-01-07   \n",
       "\n",
       "      Amount  Boxes  \n",
       "0       8414    495  \n",
       "1        532     54  \n",
       "2       5376    269  \n",
       "3        259     22  \n",
       "4       5530    179  \n",
       "...      ...    ...  \n",
       "3786   10682   1526  \n",
       "3787   11746    511  \n",
       "3788    8862   1477  \n",
       "3789   11592    527  \n",
       "3790    3871    431  \n",
       "\n",
       "[3791 rows x 6 columns]"
      ]
     },
     "execution_count": 40,
     "metadata": {},
     "output_type": "execute_result"
    }
   ],
   "source": [
    "#Slicing using iloc and loc\n",
    "\n",
    "sales.iloc[::]\n",
    "#sales.iloc[:]\n",
    "#sales.iloc[0:-1] # all of this 3 gives the same output in slicing, returning all of the rows.."
   ]
  },
  {
   "cell_type": "code",
   "execution_count": 41,
   "id": "d2f1d1a3",
   "metadata": {},
   "outputs": [
    {
     "data": {
      "text/html": [
       "<div>\n",
       "<style scoped>\n",
       "    .dataframe tbody tr th:only-of-type {\n",
       "        vertical-align: middle;\n",
       "    }\n",
       "\n",
       "    .dataframe tbody tr th {\n",
       "        vertical-align: top;\n",
       "    }\n",
       "\n",
       "    .dataframe thead th {\n",
       "        text-align: right;\n",
       "    }\n",
       "</style>\n",
       "<table border=\"1\" class=\"dataframe\">\n",
       "  <thead>\n",
       "    <tr style=\"text-align: right;\">\n",
       "      <th></th>\n",
       "      <th>Sales Person</th>\n",
       "      <th>Geography</th>\n",
       "      <th>Product</th>\n",
       "      <th>Date</th>\n",
       "      <th>Amount</th>\n",
       "      <th>Boxes</th>\n",
       "    </tr>\n",
       "  </thead>\n",
       "  <tbody>\n",
       "    <tr>\n",
       "      <th>0</th>\n",
       "      <td>Barr Faughny</td>\n",
       "      <td>New Zealand</td>\n",
       "      <td>Raspberry Choco</td>\n",
       "      <td>2021-01-01</td>\n",
       "      <td>8414</td>\n",
       "      <td>495</td>\n",
       "    </tr>\n",
       "    <tr>\n",
       "      <th>1</th>\n",
       "      <td>Dennison Crosswaite</td>\n",
       "      <td>Canada</td>\n",
       "      <td>White Choc</td>\n",
       "      <td>2021-01-01</td>\n",
       "      <td>532</td>\n",
       "      <td>54</td>\n",
       "    </tr>\n",
       "    <tr>\n",
       "      <th>2</th>\n",
       "      <td>Karlen McCaffrey</td>\n",
       "      <td>USA</td>\n",
       "      <td>99% Dark &amp; Pure</td>\n",
       "      <td>2021-01-01</td>\n",
       "      <td>5376</td>\n",
       "      <td>269</td>\n",
       "    </tr>\n",
       "    <tr>\n",
       "      <th>3</th>\n",
       "      <td>Barr Faughny</td>\n",
       "      <td>New Zealand</td>\n",
       "      <td>Baker's Choco Chips</td>\n",
       "      <td>2021-01-01</td>\n",
       "      <td>259</td>\n",
       "      <td>22</td>\n",
       "    </tr>\n",
       "    <tr>\n",
       "      <th>4</th>\n",
       "      <td>Beverie Moffet</td>\n",
       "      <td>USA</td>\n",
       "      <td>Manuka Honey Choco</td>\n",
       "      <td>2021-01-01</td>\n",
       "      <td>5530</td>\n",
       "      <td>179</td>\n",
       "    </tr>\n",
       "    <tr>\n",
       "      <th>...</th>\n",
       "      <td>...</td>\n",
       "      <td>...</td>\n",
       "      <td>...</td>\n",
       "      <td>...</td>\n",
       "      <td>...</td>\n",
       "      <td>...</td>\n",
       "    </tr>\n",
       "    <tr>\n",
       "      <th>3786</th>\n",
       "      <td>Van Tuxwell</td>\n",
       "      <td>India</td>\n",
       "      <td>Drinking Coco</td>\n",
       "      <td>2022-01-19</td>\n",
       "      <td>10682</td>\n",
       "      <td>1526</td>\n",
       "    </tr>\n",
       "    <tr>\n",
       "      <th>3787</th>\n",
       "      <td>Rafaelita Blaksland</td>\n",
       "      <td>Australia</td>\n",
       "      <td>Mint Chip Choco</td>\n",
       "      <td>2022-01-18</td>\n",
       "      <td>11746</td>\n",
       "      <td>511</td>\n",
       "    </tr>\n",
       "    <tr>\n",
       "      <th>3788</th>\n",
       "      <td>Kelci Walkden</td>\n",
       "      <td>Australia</td>\n",
       "      <td>Spicy Special Slims</td>\n",
       "      <td>2022-01-03</td>\n",
       "      <td>8862</td>\n",
       "      <td>1477</td>\n",
       "    </tr>\n",
       "    <tr>\n",
       "      <th>3789</th>\n",
       "      <td>Gunar Cockshoot</td>\n",
       "      <td>New Zealand</td>\n",
       "      <td>Mint Chip Choco</td>\n",
       "      <td>2022-01-21</td>\n",
       "      <td>11592</td>\n",
       "      <td>527</td>\n",
       "    </tr>\n",
       "    <tr>\n",
       "      <th>3790</th>\n",
       "      <td>Mallorie Waber</td>\n",
       "      <td>USA</td>\n",
       "      <td>Spicy Special Slims</td>\n",
       "      <td>2022-01-07</td>\n",
       "      <td>3871</td>\n",
       "      <td>431</td>\n",
       "    </tr>\n",
       "  </tbody>\n",
       "</table>\n",
       "<p>3791 rows × 6 columns</p>\n",
       "</div>"
      ],
      "text/plain": [
       "             Sales Person      Geography              Product       Date  \\\n",
       "0            Barr Faughny    New Zealand      Raspberry Choco 2021-01-01   \n",
       "1     Dennison Crosswaite         Canada           White Choc 2021-01-01   \n",
       "2        Karlen McCaffrey            USA      99% Dark & Pure 2021-01-01   \n",
       "3            Barr Faughny    New Zealand  Baker's Choco Chips 2021-01-01   \n",
       "4          Beverie Moffet            USA   Manuka Honey Choco 2021-01-01   \n",
       "...                   ...            ...                  ...        ...   \n",
       "3786          Van Tuxwell         India         Drinking Coco 2022-01-19   \n",
       "3787  Rafaelita Blaksland     Australia       Mint Chip Choco 2022-01-18   \n",
       "3788        Kelci Walkden     Australia   Spicy Special Slims 2022-01-03   \n",
       "3789      Gunar Cockshoot   New Zealand       Mint Chip Choco 2022-01-21   \n",
       "3790       Mallorie Waber         USA     Spicy Special Slims 2022-01-07   \n",
       "\n",
       "      Amount  Boxes  \n",
       "0       8414    495  \n",
       "1        532     54  \n",
       "2       5376    269  \n",
       "3        259     22  \n",
       "4       5530    179  \n",
       "...      ...    ...  \n",
       "3786   10682   1526  \n",
       "3787   11746    511  \n",
       "3788    8862   1477  \n",
       "3789   11592    527  \n",
       "3790    3871    431  \n",
       "\n",
       "[3791 rows x 6 columns]"
      ]
     },
     "execution_count": 41,
     "metadata": {},
     "output_type": "execute_result"
    }
   ],
   "source": [
    "# Using loc...\n",
    "# sales.loc[:] # this does the samething as above...\n",
    "# sales.loc[::]\n",
    "sales.loc[-1:] # this is quite different of that of .iloc[]"
   ]
  },
  {
   "cell_type": "code",
   "execution_count": 42,
   "id": "a951ba05",
   "metadata": {},
   "outputs": [
    {
     "data": {
      "text/html": [
       "<div>\n",
       "<style scoped>\n",
       "    .dataframe tbody tr th:only-of-type {\n",
       "        vertical-align: middle;\n",
       "    }\n",
       "\n",
       "    .dataframe tbody tr th {\n",
       "        vertical-align: top;\n",
       "    }\n",
       "\n",
       "    .dataframe thead th {\n",
       "        text-align: right;\n",
       "    }\n",
       "</style>\n",
       "<table border=\"1\" class=\"dataframe\">\n",
       "  <thead>\n",
       "    <tr style=\"text-align: right;\">\n",
       "      <th></th>\n",
       "      <th>Sales Person</th>\n",
       "      <th>Geography</th>\n",
       "      <th>Product</th>\n",
       "    </tr>\n",
       "  </thead>\n",
       "  <tbody>\n",
       "    <tr>\n",
       "      <th>0</th>\n",
       "      <td>Barr Faughny</td>\n",
       "      <td>New Zealand</td>\n",
       "      <td>Raspberry Choco</td>\n",
       "    </tr>\n",
       "    <tr>\n",
       "      <th>1</th>\n",
       "      <td>Dennison Crosswaite</td>\n",
       "      <td>Canada</td>\n",
       "      <td>White Choc</td>\n",
       "    </tr>\n",
       "    <tr>\n",
       "      <th>2</th>\n",
       "      <td>Karlen McCaffrey</td>\n",
       "      <td>USA</td>\n",
       "      <td>99% Dark &amp; Pure</td>\n",
       "    </tr>\n",
       "    <tr>\n",
       "      <th>3</th>\n",
       "      <td>Barr Faughny</td>\n",
       "      <td>New Zealand</td>\n",
       "      <td>Baker's Choco Chips</td>\n",
       "    </tr>\n",
       "    <tr>\n",
       "      <th>4</th>\n",
       "      <td>Beverie Moffet</td>\n",
       "      <td>USA</td>\n",
       "      <td>Manuka Honey Choco</td>\n",
       "    </tr>\n",
       "  </tbody>\n",
       "</table>\n",
       "</div>"
      ],
      "text/plain": [
       "          Sales Person      Geography              Product\n",
       "0         Barr Faughny    New Zealand      Raspberry Choco\n",
       "1  Dennison Crosswaite         Canada           White Choc\n",
       "2     Karlen McCaffrey            USA      99% Dark & Pure\n",
       "3         Barr Faughny    New Zealand  Baker's Choco Chips\n",
       "4       Beverie Moffet            USA   Manuka Honey Choco"
      ]
     },
     "execution_count": 42,
     "metadata": {},
     "output_type": "execute_result"
    }
   ],
   "source": [
    "# Let's use loc and iloc to slice columns....\n",
    "sales.loc[0:4, 'Sales Person': 'Product']"
   ]
  },
  {
   "cell_type": "code",
   "execution_count": 43,
   "id": "8b6dce09",
   "metadata": {},
   "outputs": [
    {
     "data": {
      "text/html": [
       "<div>\n",
       "<style scoped>\n",
       "    .dataframe tbody tr th:only-of-type {\n",
       "        vertical-align: middle;\n",
       "    }\n",
       "\n",
       "    .dataframe tbody tr th {\n",
       "        vertical-align: top;\n",
       "    }\n",
       "\n",
       "    .dataframe thead th {\n",
       "        text-align: right;\n",
       "    }\n",
       "</style>\n",
       "<table border=\"1\" class=\"dataframe\">\n",
       "  <thead>\n",
       "    <tr style=\"text-align: right;\">\n",
       "      <th></th>\n",
       "      <th>Sales Person</th>\n",
       "      <th>Geography</th>\n",
       "      <th>Product</th>\n",
       "      <th>Date</th>\n",
       "    </tr>\n",
       "  </thead>\n",
       "  <tbody>\n",
       "    <tr>\n",
       "      <th>0</th>\n",
       "      <td>Barr Faughny</td>\n",
       "      <td>New Zealand</td>\n",
       "      <td>Raspberry Choco</td>\n",
       "      <td>2021-01-01</td>\n",
       "    </tr>\n",
       "    <tr>\n",
       "      <th>1</th>\n",
       "      <td>Dennison Crosswaite</td>\n",
       "      <td>Canada</td>\n",
       "      <td>White Choc</td>\n",
       "      <td>2021-01-01</td>\n",
       "    </tr>\n",
       "    <tr>\n",
       "      <th>2</th>\n",
       "      <td>Karlen McCaffrey</td>\n",
       "      <td>USA</td>\n",
       "      <td>99% Dark &amp; Pure</td>\n",
       "      <td>2021-01-01</td>\n",
       "    </tr>\n",
       "    <tr>\n",
       "      <th>3</th>\n",
       "      <td>Barr Faughny</td>\n",
       "      <td>New Zealand</td>\n",
       "      <td>Baker's Choco Chips</td>\n",
       "      <td>2021-01-01</td>\n",
       "    </tr>\n",
       "  </tbody>\n",
       "</table>\n",
       "</div>"
      ],
      "text/plain": [
       "          Sales Person      Geography              Product       Date\n",
       "0         Barr Faughny    New Zealand      Raspberry Choco 2021-01-01\n",
       "1  Dennison Crosswaite         Canada           White Choc 2021-01-01\n",
       "2     Karlen McCaffrey            USA      99% Dark & Pure 2021-01-01\n",
       "3         Barr Faughny    New Zealand  Baker's Choco Chips 2021-01-01"
      ]
     },
     "execution_count": 43,
     "metadata": {},
     "output_type": "execute_result"
    }
   ],
   "source": [
    "# Using iloc for integer or index numbers\n",
    "sales.iloc[0:4,0:4]"
   ]
  },
  {
   "cell_type": "code",
   "execution_count": 44,
   "id": "79ace727",
   "metadata": {},
   "outputs": [
    {
     "data": {
      "text/html": [
       "<div>\n",
       "<style scoped>\n",
       "    .dataframe tbody tr th:only-of-type {\n",
       "        vertical-align: middle;\n",
       "    }\n",
       "\n",
       "    .dataframe tbody tr th {\n",
       "        vertical-align: top;\n",
       "    }\n",
       "\n",
       "    .dataframe thead th {\n",
       "        text-align: right;\n",
       "    }\n",
       "</style>\n",
       "<table border=\"1\" class=\"dataframe\">\n",
       "  <thead>\n",
       "    <tr style=\"text-align: right;\">\n",
       "      <th></th>\n",
       "      <th>Geography</th>\n",
       "      <th>Product</th>\n",
       "      <th>Date</th>\n",
       "    </tr>\n",
       "  </thead>\n",
       "  <tbody>\n",
       "    <tr>\n",
       "      <th>0</th>\n",
       "      <td>New Zealand</td>\n",
       "      <td>Raspberry Choco</td>\n",
       "      <td>2021-01-01</td>\n",
       "    </tr>\n",
       "    <tr>\n",
       "      <th>1</th>\n",
       "      <td>Canada</td>\n",
       "      <td>White Choc</td>\n",
       "      <td>2021-01-01</td>\n",
       "    </tr>\n",
       "    <tr>\n",
       "      <th>2</th>\n",
       "      <td>USA</td>\n",
       "      <td>99% Dark &amp; Pure</td>\n",
       "      <td>2021-01-01</td>\n",
       "    </tr>\n",
       "    <tr>\n",
       "      <th>3</th>\n",
       "      <td>New Zealand</td>\n",
       "      <td>Baker's Choco Chips</td>\n",
       "      <td>2021-01-01</td>\n",
       "    </tr>\n",
       "    <tr>\n",
       "      <th>4</th>\n",
       "      <td>USA</td>\n",
       "      <td>Manuka Honey Choco</td>\n",
       "      <td>2021-01-01</td>\n",
       "    </tr>\n",
       "    <tr>\n",
       "      <th>...</th>\n",
       "      <td>...</td>\n",
       "      <td>...</td>\n",
       "      <td>...</td>\n",
       "    </tr>\n",
       "    <tr>\n",
       "      <th>3785</th>\n",
       "      <td>UK</td>\n",
       "      <td>70% Dark Bites</td>\n",
       "      <td>2022-01-04</td>\n",
       "    </tr>\n",
       "    <tr>\n",
       "      <th>3786</th>\n",
       "      <td>India</td>\n",
       "      <td>Drinking Coco</td>\n",
       "      <td>2022-01-19</td>\n",
       "    </tr>\n",
       "    <tr>\n",
       "      <th>3787</th>\n",
       "      <td>Australia</td>\n",
       "      <td>Mint Chip Choco</td>\n",
       "      <td>2022-01-18</td>\n",
       "    </tr>\n",
       "    <tr>\n",
       "      <th>3788</th>\n",
       "      <td>Australia</td>\n",
       "      <td>Spicy Special Slims</td>\n",
       "      <td>2022-01-03</td>\n",
       "    </tr>\n",
       "    <tr>\n",
       "      <th>3789</th>\n",
       "      <td>New Zealand</td>\n",
       "      <td>Mint Chip Choco</td>\n",
       "      <td>2022-01-21</td>\n",
       "    </tr>\n",
       "  </tbody>\n",
       "</table>\n",
       "<p>3790 rows × 3 columns</p>\n",
       "</div>"
      ],
      "text/plain": [
       "          Geography              Product       Date\n",
       "0       New Zealand      Raspberry Choco 2021-01-01\n",
       "1            Canada           White Choc 2021-01-01\n",
       "2               USA      99% Dark & Pure 2021-01-01\n",
       "3       New Zealand  Baker's Choco Chips 2021-01-01\n",
       "4               USA   Manuka Honey Choco 2021-01-01\n",
       "...             ...                  ...        ...\n",
       "3785           UK         70% Dark Bites 2022-01-04\n",
       "3786         India         Drinking Coco 2022-01-19\n",
       "3787     Australia       Mint Chip Choco 2022-01-18\n",
       "3788     Australia   Spicy Special Slims 2022-01-03\n",
       "3789   New Zealand       Mint Chip Choco 2022-01-21\n",
       "\n",
       "[3790 rows x 3 columns]"
      ]
     },
     "execution_count": 44,
     "metadata": {},
     "output_type": "execute_result"
    }
   ],
   "source": [
    "sales.iloc[0:-1,1:4]"
   ]
  },
  {
   "cell_type": "code",
   "execution_count": 45,
   "id": "7bb7c55e",
   "metadata": {},
   "outputs": [
    {
     "data": {
      "text/html": [
       "<div>\n",
       "<style scoped>\n",
       "    .dataframe tbody tr th:only-of-type {\n",
       "        vertical-align: middle;\n",
       "    }\n",
       "\n",
       "    .dataframe tbody tr th {\n",
       "        vertical-align: top;\n",
       "    }\n",
       "\n",
       "    .dataframe thead th {\n",
       "        text-align: right;\n",
       "    }\n",
       "</style>\n",
       "<table border=\"1\" class=\"dataframe\">\n",
       "  <thead>\n",
       "    <tr style=\"text-align: right;\">\n",
       "      <th></th>\n",
       "      <th>Sales Person</th>\n",
       "      <th>Product</th>\n",
       "      <th>Date</th>\n",
       "      <th>Amount</th>\n",
       "      <th>Boxes</th>\n",
       "    </tr>\n",
       "    <tr>\n",
       "      <th>Geography</th>\n",
       "      <th></th>\n",
       "      <th></th>\n",
       "      <th></th>\n",
       "      <th></th>\n",
       "      <th></th>\n",
       "    </tr>\n",
       "  </thead>\n",
       "  <tbody>\n",
       "    <tr>\n",
       "      <th>New Zealand</th>\n",
       "      <td>Barr Faughny</td>\n",
       "      <td>Raspberry Choco</td>\n",
       "      <td>2021-01-01</td>\n",
       "      <td>8414</td>\n",
       "      <td>495</td>\n",
       "    </tr>\n",
       "    <tr>\n",
       "      <th>Canada</th>\n",
       "      <td>Dennison Crosswaite</td>\n",
       "      <td>White Choc</td>\n",
       "      <td>2021-01-01</td>\n",
       "      <td>532</td>\n",
       "      <td>54</td>\n",
       "    </tr>\n",
       "    <tr>\n",
       "      <th>USA</th>\n",
       "      <td>Karlen McCaffrey</td>\n",
       "      <td>99% Dark &amp; Pure</td>\n",
       "      <td>2021-01-01</td>\n",
       "      <td>5376</td>\n",
       "      <td>269</td>\n",
       "    </tr>\n",
       "  </tbody>\n",
       "</table>\n",
       "</div>"
      ],
      "text/plain": [
       "                    Sales Person          Product       Date  Amount  Boxes\n",
       "Geography                                                                  \n",
       "New Zealand         Barr Faughny  Raspberry Choco 2021-01-01    8414    495\n",
       " Canada      Dennison Crosswaite       White Choc 2021-01-01     532     54\n",
       " USA            Karlen McCaffrey  99% Dark & Pure 2021-01-01    5376    269"
      ]
     },
     "execution_count": 45,
     "metadata": {},
     "output_type": "execute_result"
    }
   ],
   "source": [
    "sales.set_index(\"Geography\", inplace=True)\n",
    "sales.head(3)"
   ]
  },
  {
   "cell_type": "code",
   "execution_count": 46,
   "id": "41849c4f",
   "metadata": {},
   "outputs": [
    {
     "data": {
      "text/plain": [
       "Index(['   Australia', '   Canada', '   India', '   New Zealand', '   UK',\n",
       "       '   USA', '  Australia', '  Canada', '  India', '  New Zealand', '  UK',\n",
       "       '  USA', ' Australia', ' Canada', ' India', ' New Zealand', ' UK',\n",
       "       ' USA', 'Australia', 'Australia ', 'Australia  ', 'Australia   ',\n",
       "       'Canada', 'Canada ', 'Canada  ', 'Canada   ', 'India', 'India ',\n",
       "       'India  ', 'India   ', 'New Zealand', 'New Zealand ', 'New Zealand  ',\n",
       "       'New Zealand   ', 'UK', 'UK ', 'UK  ', 'UK   ', 'USA', 'USA ', 'USA  ',\n",
       "       'USA   '],\n",
       "      dtype='object', name='Geography')"
      ]
     },
     "execution_count": 46,
     "metadata": {},
     "output_type": "execute_result"
    }
   ],
   "source": [
    "\n",
    "unique_index =sales.index.unique().sort_values()\n",
    "unique_index\n"
   ]
  },
  {
   "cell_type": "code",
   "execution_count": 47,
   "id": "e879b0c0",
   "metadata": {},
   "outputs": [
    {
     "data": {
      "text/plain": [
       "Geography\n",
       "India             166\n",
       "UK                165\n",
       "USA               157\n",
       "New Zealand       157\n",
       "   Australia      153\n",
       "  Canada          152\n",
       "   Canada         149\n",
       "Canada            147\n",
       "   USA            145\n",
       "   New Zealand    145\n",
       "Name: count, dtype: int64"
      ]
     },
     "execution_count": 47,
     "metadata": {},
     "output_type": "execute_result"
    }
   ],
   "source": [
    "sales.index.value_counts().head(10)"
   ]
  },
  {
   "cell_type": "code",
   "execution_count": 48,
   "id": "943d012d",
   "metadata": {},
   "outputs": [
    {
     "data": {
      "text/plain": [
       "<Axes: xlabel='Geography'>"
      ]
     },
     "execution_count": 48,
     "metadata": {},
     "output_type": "execute_result"
    },
    {
     "data": {
      "image/png": "[encoded data removed]",
      "text/plain": [
       "<Figure size 640x480 with 1 Axes>"
      ]
     },
     "metadata": {},
     "output_type": "display_data"
    }
   ],
   "source": [
    "sales.index.value_counts().head(10).plot(kind = 'bar')"
   ]
  },
  {
   "cell_type": "code",
   "execution_count": 49,
   "id": "65d334e8",
   "metadata": {},
   "outputs": [
    {
     "data": {
      "text/plain": [
       "<Axes: xlabel='Geography'>"
      ]
     },
     "execution_count": 49,
     "metadata": {},
     "output_type": "execute_result"
    },
    {
     "data": {
      "image/png": "[encoded data removed]",
      "text/plain": [
       "<Figure size 2000x2000 with 1 Axes>"
      ]
     },
     "metadata": {},
     "output_type": "display_data"
    }
   ],
   "source": [
    "sales.index.value_counts().head(100).plot(kind = 'bar', figsize = (20,20))"
   ]
  },
  {
   "cell_type": "code",
   "execution_count": 50,
   "id": "73bbef76",
   "metadata": {},
   "outputs": [
    {
     "data": {
      "text/plain": [
       "42"
      ]
     },
     "execution_count": 50,
     "metadata": {},
     "output_type": "execute_result"
    }
   ],
   "source": [
    "unique_index.nunique()"
   ]
  },
  {
   "cell_type": "code",
   "execution_count": 51,
   "id": "ad3c2bcb",
   "metadata": {},
   "outputs": [
    {
     "data": {
      "text/plain": [
       "Index(['Sales Person', 'Product', 'Date', 'Amount', 'Boxes'], dtype='object')"
      ]
     },
     "execution_count": 51,
     "metadata": {},
     "output_type": "execute_result"
    }
   ],
   "source": [
    "sales.columns"
   ]
  },
  {
   "cell_type": "code",
   "execution_count": 52,
   "id": "9efba9e7",
   "metadata": {},
   "outputs": [
    {
     "data": {
      "text/plain": [
       "5"
      ]
     },
     "execution_count": 52,
     "metadata": {},
     "output_type": "execute_result"
    }
   ],
   "source": [
    "len(sales.columns)"
   ]
  },
  {
   "cell_type": "code",
   "execution_count": 53,
   "id": "bf8ca95d",
   "metadata": {},
   "outputs": [
    {
     "data": {
      "text/html": [
       "<div>\n",
       "<style scoped>\n",
       "    .dataframe tbody tr th:only-of-type {\n",
       "        vertical-align: middle;\n",
       "    }\n",
       "\n",
       "    .dataframe tbody tr th {\n",
       "        vertical-align: top;\n",
       "    }\n",
       "\n",
       "    .dataframe thead th {\n",
       "        text-align: right;\n",
       "    }\n",
       "</style>\n",
       "<table border=\"1\" class=\"dataframe\">\n",
       "  <thead>\n",
       "    <tr style=\"text-align: right;\">\n",
       "      <th></th>\n",
       "      <th>Sales Person</th>\n",
       "      <th>Product</th>\n",
       "      <th>Date</th>\n",
       "      <th>Amount</th>\n",
       "      <th>Boxes</th>\n",
       "    </tr>\n",
       "    <tr>\n",
       "      <th>Geography</th>\n",
       "      <th></th>\n",
       "      <th></th>\n",
       "      <th></th>\n",
       "      <th></th>\n",
       "      <th></th>\n",
       "    </tr>\n",
       "  </thead>\n",
       "  <tbody>\n",
       "    <tr>\n",
       "      <th>UK</th>\n",
       "      <td>Karlen McCaffrey</td>\n",
       "      <td>Orange Choco</td>\n",
       "      <td>2021-01-04</td>\n",
       "      <td>147</td>\n",
       "      <td>11</td>\n",
       "    </tr>\n",
       "    <tr>\n",
       "      <th>UK</th>\n",
       "      <td>Madelene Upcott</td>\n",
       "      <td>Fruit &amp; Nut Bars</td>\n",
       "      <td>2021-01-05</td>\n",
       "      <td>7063</td>\n",
       "      <td>643</td>\n",
       "    </tr>\n",
       "    <tr>\n",
       "      <th>UK</th>\n",
       "      <td>Jan Morforth</td>\n",
       "      <td>Peanut Butter Cubes</td>\n",
       "      <td>2021-01-06</td>\n",
       "      <td>7182</td>\n",
       "      <td>378</td>\n",
       "    </tr>\n",
       "    <tr>\n",
       "      <th>UK</th>\n",
       "      <td>Kelci Walkden</td>\n",
       "      <td>Caramel Stuffed Bars</td>\n",
       "      <td>2021-01-07</td>\n",
       "      <td>3073</td>\n",
       "      <td>129</td>\n",
       "    </tr>\n",
       "    <tr>\n",
       "      <th>UK</th>\n",
       "      <td>Kelci Walkden</td>\n",
       "      <td>99% Dark &amp; Pure</td>\n",
       "      <td>2021-01-11</td>\n",
       "      <td>5124</td>\n",
       "      <td>285</td>\n",
       "    </tr>\n",
       "    <tr>\n",
       "      <th>...</th>\n",
       "      <td>...</td>\n",
       "      <td>...</td>\n",
       "      <td>...</td>\n",
       "      <td>...</td>\n",
       "      <td>...</td>\n",
       "    </tr>\n",
       "    <tr>\n",
       "      <th>UK</th>\n",
       "      <td>Andria Kimpton</td>\n",
       "      <td>Raspberry Choco</td>\n",
       "      <td>2022-01-13</td>\n",
       "      <td>21490</td>\n",
       "      <td>1132</td>\n",
       "    </tr>\n",
       "    <tr>\n",
       "      <th>UK</th>\n",
       "      <td>Dennison Crosswaite</td>\n",
       "      <td>50% Dark Bites</td>\n",
       "      <td>2022-01-14</td>\n",
       "      <td>4123</td>\n",
       "      <td>148</td>\n",
       "    </tr>\n",
       "    <tr>\n",
       "      <th>UK</th>\n",
       "      <td>Jehu Rudeforth</td>\n",
       "      <td>Drinking Coco</td>\n",
       "      <td>2022-01-28</td>\n",
       "      <td>14413</td>\n",
       "      <td>1802</td>\n",
       "    </tr>\n",
       "    <tr>\n",
       "      <th>UK</th>\n",
       "      <td>Roddy Speechley</td>\n",
       "      <td>Almond Choco</td>\n",
       "      <td>2022-01-07</td>\n",
       "      <td>14560</td>\n",
       "      <td>607</td>\n",
       "    </tr>\n",
       "    <tr>\n",
       "      <th>UK</th>\n",
       "      <td>Dennison Crosswaite</td>\n",
       "      <td>Smooth Sliky Salty</td>\n",
       "      <td>2022-01-25</td>\n",
       "      <td>8799</td>\n",
       "      <td>550</td>\n",
       "    </tr>\n",
       "  </tbody>\n",
       "</table>\n",
       "<p>165 rows × 5 columns</p>\n",
       "</div>"
      ],
      "text/plain": [
       "                  Sales Person               Product       Date  Amount  Boxes\n",
       "Geography                                                                     \n",
       "UK            Karlen McCaffrey          Orange Choco 2021-01-04     147     11\n",
       "UK             Madelene Upcott      Fruit & Nut Bars 2021-01-05    7063    643\n",
       "UK                Jan Morforth   Peanut Butter Cubes 2021-01-06    7182    378\n",
       "UK               Kelci Walkden  Caramel Stuffed Bars 2021-01-07    3073    129\n",
       "UK               Kelci Walkden       99% Dark & Pure 2021-01-11    5124    285\n",
       "...                        ...                   ...        ...     ...    ...\n",
       "UK              Andria Kimpton       Raspberry Choco 2022-01-13   21490   1132\n",
       "UK         Dennison Crosswaite        50% Dark Bites 2022-01-14    4123    148\n",
       "UK              Jehu Rudeforth         Drinking Coco 2022-01-28   14413   1802\n",
       "UK             Roddy Speechley          Almond Choco 2022-01-07   14560    607\n",
       "UK         Dennison Crosswaite    Smooth Sliky Salty 2022-01-25    8799    550\n",
       "\n",
       "[165 rows x 5 columns]"
      ]
     },
     "execution_count": 53,
     "metadata": {},
     "output_type": "execute_result"
    }
   ],
   "source": [
    "sales.loc['UK']"
   ]
  },
  {
   "cell_type": "code",
   "execution_count": 54,
   "id": "5a8a7a17",
   "metadata": {},
   "outputs": [
    {
     "data": {
      "text/html": [
       "<div>\n",
       "<style scoped>\n",
       "    .dataframe tbody tr th:only-of-type {\n",
       "        vertical-align: middle;\n",
       "    }\n",
       "\n",
       "    .dataframe tbody tr th {\n",
       "        vertical-align: top;\n",
       "    }\n",
       "\n",
       "    .dataframe thead th {\n",
       "        text-align: right;\n",
       "    }\n",
       "</style>\n",
       "<table border=\"1\" class=\"dataframe\">\n",
       "  <thead>\n",
       "    <tr style=\"text-align: right;\">\n",
       "      <th></th>\n",
       "      <th>Sales Person</th>\n",
       "      <th>Product</th>\n",
       "      <th>Date</th>\n",
       "      <th>Amount</th>\n",
       "      <th>Boxes</th>\n",
       "    </tr>\n",
       "    <tr>\n",
       "      <th>Geography</th>\n",
       "      <th></th>\n",
       "      <th></th>\n",
       "      <th></th>\n",
       "      <th></th>\n",
       "      <th></th>\n",
       "    </tr>\n",
       "  </thead>\n",
       "  <tbody>\n",
       "    <tr>\n",
       "      <th>New Zealand</th>\n",
       "      <td>Barr Faughny</td>\n",
       "      <td>Raspberry Choco</td>\n",
       "      <td>2021-01-01</td>\n",
       "      <td>8414</td>\n",
       "      <td>495</td>\n",
       "    </tr>\n",
       "    <tr>\n",
       "      <th>Canada</th>\n",
       "      <td>Dennison Crosswaite</td>\n",
       "      <td>White Choc</td>\n",
       "      <td>2021-01-01</td>\n",
       "      <td>532</td>\n",
       "      <td>54</td>\n",
       "    </tr>\n",
       "    <tr>\n",
       "      <th>USA</th>\n",
       "      <td>Karlen McCaffrey</td>\n",
       "      <td>99% Dark &amp; Pure</td>\n",
       "      <td>2021-01-01</td>\n",
       "      <td>5376</td>\n",
       "      <td>269</td>\n",
       "    </tr>\n",
       "  </tbody>\n",
       "</table>\n",
       "</div>"
      ],
      "text/plain": [
       "                    Sales Person          Product       Date  Amount  Boxes\n",
       "Geography                                                                  \n",
       "New Zealand         Barr Faughny  Raspberry Choco 2021-01-01    8414    495\n",
       " Canada      Dennison Crosswaite       White Choc 2021-01-01     532     54\n",
       " USA            Karlen McCaffrey  99% Dark & Pure 2021-01-01    5376    269"
      ]
     },
     "execution_count": 54,
     "metadata": {},
     "output_type": "execute_result"
    }
   ],
   "source": [
    "sales.iloc[0:3]"
   ]
  },
  {
   "cell_type": "code",
   "execution_count": 55,
   "id": "88f72cd5",
   "metadata": {},
   "outputs": [
    {
     "data": {
      "text/html": [
       "<div>\n",
       "<style scoped>\n",
       "    .dataframe tbody tr th:only-of-type {\n",
       "        vertical-align: middle;\n",
       "    }\n",
       "\n",
       "    .dataframe tbody tr th {\n",
       "        vertical-align: top;\n",
       "    }\n",
       "\n",
       "    .dataframe thead th {\n",
       "        text-align: right;\n",
       "    }\n",
       "</style>\n",
       "<table border=\"1\" class=\"dataframe\">\n",
       "  <thead>\n",
       "    <tr style=\"text-align: right;\">\n",
       "      <th></th>\n",
       "      <th>Sales Person</th>\n",
       "      <th>Product</th>\n",
       "      <th>Date</th>\n",
       "      <th>Amount</th>\n",
       "      <th>Boxes</th>\n",
       "    </tr>\n",
       "    <tr>\n",
       "      <th>Geography</th>\n",
       "      <th></th>\n",
       "      <th></th>\n",
       "      <th></th>\n",
       "      <th></th>\n",
       "      <th></th>\n",
       "    </tr>\n",
       "  </thead>\n",
       "  <tbody>\n",
       "  </tbody>\n",
       "</table>\n",
       "</div>"
      ],
      "text/plain": [
       "Empty DataFrame\n",
       "Columns: [Sales Person, Product, Date, Amount, Boxes]\n",
       "Index: []"
      ]
     },
     "execution_count": 55,
     "metadata": {},
     "output_type": "execute_result"
    }
   ],
   "source": [
    "# Filtering\n",
    "sales[sales[\"Product\"] == \"Canada\"]"
   ]
  },
  {
   "cell_type": "code",
   "execution_count": 56,
   "id": "5370743b",
   "metadata": {},
   "outputs": [
    {
     "data": {
      "text/plain": [
       "26"
      ]
     },
     "execution_count": 56,
     "metadata": {},
     "output_type": "execute_result"
    }
   ],
   "source": [
    "# Total number of sales person\n",
    "sales[\"Sales Person\"].nunique()"
   ]
  },
  {
   "cell_type": "code",
   "execution_count": 57,
   "id": "49eab9bb",
   "metadata": {},
   "outputs": [
    {
     "data": {
      "text/plain": [
       "<Axes: xlabel='Sales Person'>"
      ]
     },
     "execution_count": 57,
     "metadata": {},
     "output_type": "execute_result"
    },
    {
     "data": {
      "image/png": "[encoded data removed]",
      "text/plain": [
       "<Figure size 640x480 with 1 Axes>"
      ]
     },
     "metadata": {},
     "output_type": "display_data"
    }
   ],
   "source": [
    "#The top 10 sales person with the highest number of sales\n",
    "sales[\"Sales Person\"].value_counts().sort_values(ascending= False).head(10).plot(kind=\"bar\")"
   ]
  },
  {
   "cell_type": "code",
   "execution_count": 58,
   "id": "5bf9ab93",
   "metadata": {},
   "outputs": [],
   "source": [
    "mask = (sales[\"Sales Person\"] == \"Brien Boise\")"
   ]
  },
  {
   "cell_type": "code",
   "execution_count": 59,
   "id": "b5516f65",
   "metadata": {},
   "outputs": [
    {
     "data": {
      "text/html": [
       "<div>\n",
       "<style scoped>\n",
       "    .dataframe tbody tr th:only-of-type {\n",
       "        vertical-align: middle;\n",
       "    }\n",
       "\n",
       "    .dataframe tbody tr th {\n",
       "        vertical-align: top;\n",
       "    }\n",
       "\n",
       "    .dataframe thead th {\n",
       "        text-align: right;\n",
       "    }\n",
       "</style>\n",
       "<table border=\"1\" class=\"dataframe\">\n",
       "  <thead>\n",
       "    <tr style=\"text-align: right;\">\n",
       "      <th></th>\n",
       "      <th>Sales Person</th>\n",
       "      <th>Product</th>\n",
       "      <th>Date</th>\n",
       "      <th>Amount</th>\n",
       "      <th>Boxes</th>\n",
       "    </tr>\n",
       "    <tr>\n",
       "      <th>Geography</th>\n",
       "      <th></th>\n",
       "      <th></th>\n",
       "      <th></th>\n",
       "      <th></th>\n",
       "      <th></th>\n",
       "    </tr>\n",
       "  </thead>\n",
       "  <tbody>\n",
       "    <tr>\n",
       "      <th>Australia</th>\n",
       "      <td>Brien Boise</td>\n",
       "      <td>Caramel Stuffed Bars</td>\n",
       "      <td>2021-01-01</td>\n",
       "      <td>4039</td>\n",
       "      <td>176</td>\n",
       "    </tr>\n",
       "  </tbody>\n",
       "</table>\n",
       "</div>"
      ],
      "text/plain": [
       "          Sales Person               Product       Date  Amount  Boxes\n",
       "Geography                                                             \n",
       "Australia  Brien Boise  Caramel Stuffed Bars 2021-01-01    4039    176"
      ]
     },
     "execution_count": 59,
     "metadata": {},
     "output_type": "execute_result"
    }
   ],
   "source": [
    "sales[mask].head(1)"
   ]
  },
  {
   "cell_type": "code",
   "execution_count": 60,
   "id": "23c11294",
   "metadata": {},
   "outputs": [
    {
     "data": {
      "text/html": [
       "<div>\n",
       "<style scoped>\n",
       "    .dataframe tbody tr th:only-of-type {\n",
       "        vertical-align: middle;\n",
       "    }\n",
       "\n",
       "    .dataframe tbody tr th {\n",
       "        vertical-align: top;\n",
       "    }\n",
       "\n",
       "    .dataframe thead th {\n",
       "        text-align: right;\n",
       "    }\n",
       "</style>\n",
       "<table border=\"1\" class=\"dataframe\">\n",
       "  <thead>\n",
       "    <tr style=\"text-align: right;\">\n",
       "      <th></th>\n",
       "      <th>Sales Person</th>\n",
       "      <th>Product</th>\n",
       "      <th>Date</th>\n",
       "      <th>Amount</th>\n",
       "      <th>Boxes</th>\n",
       "    </tr>\n",
       "    <tr>\n",
       "      <th>Geography</th>\n",
       "      <th></th>\n",
       "      <th></th>\n",
       "      <th></th>\n",
       "      <th></th>\n",
       "      <th></th>\n",
       "    </tr>\n",
       "  </thead>\n",
       "  <tbody>\n",
       "    <tr>\n",
       "      <th>Australia</th>\n",
       "      <td>Brien Boise</td>\n",
       "      <td>Caramel Stuffed Bars</td>\n",
       "      <td>2021-01-01</td>\n",
       "      <td>4039</td>\n",
       "      <td>176</td>\n",
       "    </tr>\n",
       "  </tbody>\n",
       "</table>\n",
       "</div>"
      ],
      "text/plain": [
       "          Sales Person               Product       Date  Amount  Boxes\n",
       "Geography                                                             \n",
       "Australia  Brien Boise  Caramel Stuffed Bars 2021-01-01    4039    176"
      ]
     },
     "execution_count": 60,
     "metadata": {},
     "output_type": "execute_result"
    }
   ],
   "source": [
    "sales.loc[mask].head(1)"
   ]
  },
  {
   "cell_type": "code",
   "execution_count": 61,
   "id": "2b31df90",
   "metadata": {},
   "outputs": [
    {
     "data": {
      "text/html": [
       "<div>\n",
       "<style scoped>\n",
       "    .dataframe tbody tr th:only-of-type {\n",
       "        vertical-align: middle;\n",
       "    }\n",
       "\n",
       "    .dataframe tbody tr th {\n",
       "        vertical-align: top;\n",
       "    }\n",
       "\n",
       "    .dataframe thead th {\n",
       "        text-align: right;\n",
       "    }\n",
       "</style>\n",
       "<table border=\"1\" class=\"dataframe\">\n",
       "  <thead>\n",
       "    <tr style=\"text-align: right;\">\n",
       "      <th></th>\n",
       "      <th>Sales Person</th>\n",
       "      <th>Product</th>\n",
       "      <th>Date</th>\n",
       "      <th>Amount</th>\n",
       "    </tr>\n",
       "    <tr>\n",
       "      <th>Geography</th>\n",
       "      <th></th>\n",
       "      <th></th>\n",
       "      <th></th>\n",
       "      <th></th>\n",
       "    </tr>\n",
       "  </thead>\n",
       "  <tbody>\n",
       "    <tr>\n",
       "      <th>Australia</th>\n",
       "      <td>Brien Boise</td>\n",
       "      <td>Caramel Stuffed Bars</td>\n",
       "      <td>2021-01-01</td>\n",
       "      <td>4039</td>\n",
       "    </tr>\n",
       "    <tr>\n",
       "      <th>India</th>\n",
       "      <td>Brien Boise</td>\n",
       "      <td>Eclairs</td>\n",
       "      <td>2021-01-01</td>\n",
       "      <td>15596</td>\n",
       "    </tr>\n",
       "  </tbody>\n",
       "</table>\n",
       "</div>"
      ],
      "text/plain": [
       "          Sales Person               Product       Date  Amount\n",
       "Geography                                                      \n",
       "Australia  Brien Boise  Caramel Stuffed Bars 2021-01-01    4039\n",
       "India      Brien Boise               Eclairs 2021-01-01   15596"
      ]
     },
     "execution_count": 61,
     "metadata": {},
     "output_type": "execute_result"
    }
   ],
   "source": [
    "sales.loc[mask,\"Sales Person\": \"Amount\"].head(2)"
   ]
  },
  {
   "cell_type": "code",
   "execution_count": 62,
   "id": "40f0ea78",
   "metadata": {},
   "outputs": [
    {
     "data": {
      "text/plain": [
       "array([ 8414,   532,  5376, ..., 14560, 16254, 11984], shape=(1726,))"
      ]
     },
     "execution_count": 62,
     "metadata": {},
     "output_type": "execute_result"
    }
   ],
   "source": [
    "sales[\"Amount\"].unique()"
   ]
  },
  {
   "cell_type": "code",
   "execution_count": 64,
   "id": "c47431c5",
   "metadata": {},
   "outputs": [
    {
     "data": {
      "text/html": [
       "<div>\n",
       "<style scoped>\n",
       "    .dataframe tbody tr th:only-of-type {\n",
       "        vertical-align: middle;\n",
       "    }\n",
       "\n",
       "    .dataframe tbody tr th {\n",
       "        vertical-align: top;\n",
       "    }\n",
       "\n",
       "    .dataframe thead th {\n",
       "        text-align: right;\n",
       "    }\n",
       "</style>\n",
       "<table border=\"1\" class=\"dataframe\">\n",
       "  <thead>\n",
       "    <tr style=\"text-align: right;\">\n",
       "      <th></th>\n",
       "      <th>Sales Person</th>\n",
       "      <th>Product</th>\n",
       "      <th>Date</th>\n",
       "      <th>Amount</th>\n",
       "      <th>Boxes</th>\n",
       "    </tr>\n",
       "    <tr>\n",
       "      <th>Geography</th>\n",
       "      <th></th>\n",
       "      <th></th>\n",
       "      <th></th>\n",
       "      <th></th>\n",
       "      <th></th>\n",
       "    </tr>\n",
       "  </thead>\n",
       "  <tbody>\n",
       "    <tr>\n",
       "      <th>Canada</th>\n",
       "      <td>Beverie Moffet</td>\n",
       "      <td>Spicy Special Slims</td>\n",
       "      <td>2021-01-01</td>\n",
       "      <td>2387</td>\n",
       "      <td>89</td>\n",
       "    </tr>\n",
       "    <tr>\n",
       "      <th>Canada</th>\n",
       "      <td>Van Tuxwell</td>\n",
       "      <td>50% Dark Bites</td>\n",
       "      <td>2021-01-04</td>\n",
       "      <td>3920</td>\n",
       "      <td>262</td>\n",
       "    </tr>\n",
       "  </tbody>\n",
       "</table>\n",
       "</div>"
      ],
      "text/plain": [
       "             Sales Person              Product       Date  Amount  Boxes\n",
       "Geography                                                               \n",
       "Canada     Beverie Moffet  Spicy Special Slims 2021-01-01    2387     89\n",
       "Canada        Van Tuxwell       50% Dark Bites 2021-01-04    3920    262"
      ]
     },
     "execution_count": 64,
     "metadata": {},
     "output_type": "execute_result"
    }
   ],
   "source": [
    "Canada = sales.loc[\"Canada\"]\n",
    "Canada.head(2)"
   ]
  },
  {
   "cell_type": "code",
   "execution_count": 65,
   "id": "ee86e15b",
   "metadata": {},
   "outputs": [
    {
     "name": "stdout",
     "output_type": "stream",
     "text": [
      "<class 'pandas.core.frame.DataFrame'>\n",
      "Index: 147 entries, Canada to Canada\n",
      "Data columns (total 5 columns):\n",
      " #   Column        Non-Null Count  Dtype         \n",
      "---  ------        --------------  -----         \n",
      " 0   Sales Person  147 non-null    object        \n",
      " 1   Product       147 non-null    object        \n",
      " 2   Date          147 non-null    datetime64[ns]\n",
      " 3   Amount        147 non-null    int64         \n",
      " 4   Boxes         147 non-null    int64         \n",
      "dtypes: datetime64[ns](1), int64(2), object(2)\n",
      "memory usage: 6.9+ KB\n"
     ]
    }
   ],
   "source": [
    "Canada.info()"
   ]
  },
  {
   "cell_type": "code",
   "execution_count": 66,
   "id": "c5f3d9a6",
   "metadata": {},
   "outputs": [
    {
     "data": {
      "text/plain": [
       "147"
      ]
     },
     "execution_count": 66,
     "metadata": {},
     "output_type": "execute_result"
    }
   ],
   "source": [
    "Canada.shape[0]"
   ]
  },
  {
   "cell_type": "code",
   "execution_count": 68,
   "id": "455c9933",
   "metadata": {},
   "outputs": [
    {
     "data": {
      "text/plain": [
       "<Axes: xlabel='Product'>"
      ]
     },
     "execution_count": 68,
     "metadata": {},
     "output_type": "execute_result"
    },
    {
     "data": {
      "image/png": "[encoded data removed]",
      "text/plain": [
       "<Figure size 640x480 with 1 Axes>"
      ]
     },
     "metadata": {},
     "output_type": "display_data"
    }
   ],
   "source": [
    "Canada.Product.value_counts().plot(kind = \"bar\")"
   ]
  }
 ],
 "metadata": {
  "kernelspec": {
   "display_name": "my_venv (3.13.7)",
   "language": "python",
   "name": "python3"
  },
  "language_info": {
   "codemirror_mode": {
    "name": "ipython",
    "version": 3
   },
   "file_extension": ".py",
   "mimetype": "text/x-python",
   "name": "python",
   "nbconvert_exporter": "python",
   "pygments_lexer": "ipython3",
   "version": "3.13.7"
  }
 },
 "nbformat": 4,
 "nbformat_minor": 5
}
