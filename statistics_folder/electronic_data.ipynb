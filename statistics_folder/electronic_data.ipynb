{
 "cells": [
  {
   "cell_type": "code",
   "execution_count": 1,
   "id": "ff75e6cb",
   "metadata": {},
   "outputs": [
    {
     "name": "stdout",
     "output_type": "stream",
     "text": [
      "Imported successfully\n"
     ]
    }
   ],
   "source": [
    "import pandas as pd\n",
    "import matplotlib.pyplot as plt\n",
    "import numpy as np\n",
    "import seaborn as sns\n",
    "print(\"Imported successfully\")"
   ]
  },
  {
   "cell_type": "code",
   "execution_count": 2,
   "id": "cb50e600",
   "metadata": {},
   "outputs": [
    {
     "data": {
      "text/html": [
       "<div>\n",
       "<style scoped>\n",
       "    .dataframe tbody tr th:only-of-type {\n",
       "        vertical-align: middle;\n",
       "    }\n",
       "\n",
       "    .dataframe tbody tr th {\n",
       "        vertical-align: top;\n",
       "    }\n",
       "\n",
       "    .dataframe thead th {\n",
       "        text-align: right;\n",
       "    }\n",
       "</style>\n",
       "<table border=\"1\" class=\"dataframe\">\n",
       "  <thead>\n",
       "    <tr style=\"text-align: right;\">\n",
       "      <th></th>\n",
       "      <th>Date</th>\n",
       "      <th>Branch</th>\n",
       "      <th>Sales Agent</th>\n",
       "      <th>Products</th>\n",
       "      <th>Units</th>\n",
       "      <th>Price</th>\n",
       "    </tr>\n",
       "  </thead>\n",
       "  <tbody>\n",
       "    <tr>\n",
       "      <th>0</th>\n",
       "      <td>2014-09-01</td>\n",
       "      <td>Woji</td>\n",
       "      <td>Chinedu</td>\n",
       "      <td>Apple</td>\n",
       "      <td>2</td>\n",
       "      <td>125.00</td>\n",
       "    </tr>\n",
       "    <tr>\n",
       "      <th>1</th>\n",
       "      <td>2015-06-17</td>\n",
       "      <td>Woji</td>\n",
       "      <td>Emeka</td>\n",
       "      <td>Apple</td>\n",
       "      <td>5</td>\n",
       "      <td>125.00</td>\n",
       "    </tr>\n",
       "    <tr>\n",
       "      <th>2</th>\n",
       "      <td>2015-09-10</td>\n",
       "      <td>Woji</td>\n",
       "      <td>Ibrahim</td>\n",
       "      <td>Lenovo</td>\n",
       "      <td>7</td>\n",
       "      <td>1.29</td>\n",
       "    </tr>\n",
       "    <tr>\n",
       "      <th>3</th>\n",
       "      <td>2015-11-17</td>\n",
       "      <td>Woji</td>\n",
       "      <td>Tolu</td>\n",
       "      <td>HP</td>\n",
       "      <td>11</td>\n",
       "      <td>4.99</td>\n",
       "    </tr>\n",
       "    <tr>\n",
       "      <th>4</th>\n",
       "      <td>2015-10-31</td>\n",
       "      <td>Woji</td>\n",
       "      <td>Tonye</td>\n",
       "      <td>Lenovo</td>\n",
       "      <td>14</td>\n",
       "      <td>1.29</td>\n",
       "    </tr>\n",
       "  </tbody>\n",
       "</table>\n",
       "</div>"
      ],
      "text/plain": [
       "        Date Branch Sales Agent Products  Units   Price\n",
       "0 2014-09-01   Woji     Chinedu    Apple      2  125.00\n",
       "1 2015-06-17   Woji       Emeka    Apple      5  125.00\n",
       "2 2015-09-10   Woji     Ibrahim   Lenovo      7    1.29\n",
       "3 2015-11-17   Woji        Tolu       HP     11    4.99\n",
       "4 2015-10-31   Woji       Tonye   Lenovo     14    1.29"
      ]
     },
     "execution_count": 2,
     "metadata": {},
     "output_type": "execute_result"
    }
   ],
   "source": [
    "\n",
    "sales = pd.read_excel(\"electronic_sales.xlsx\")\n",
    "sales.head()"
   ]
  },
  {
   "cell_type": "code",
   "execution_count": 3,
   "id": "a818c657",
   "metadata": {},
   "outputs": [
    {
     "data": {
      "text/html": [
       "<div>\n",
       "<style scoped>\n",
       "    .dataframe tbody tr th:only-of-type {\n",
       "        vertical-align: middle;\n",
       "    }\n",
       "\n",
       "    .dataframe tbody tr th {\n",
       "        vertical-align: top;\n",
       "    }\n",
       "\n",
       "    .dataframe thead th {\n",
       "        text-align: right;\n",
       "    }\n",
       "</style>\n",
       "<table border=\"1\" class=\"dataframe\">\n",
       "  <thead>\n",
       "    <tr style=\"text-align: right;\">\n",
       "      <th></th>\n",
       "      <th>Date</th>\n",
       "      <th>Branch</th>\n",
       "      <th>Sales Agent</th>\n",
       "      <th>Products</th>\n",
       "      <th>Units</th>\n",
       "      <th>Price</th>\n",
       "      <th>Revenue</th>\n",
       "      <th>Revenue(N)</th>\n",
       "    </tr>\n",
       "  </thead>\n",
       "  <tbody>\n",
       "    <tr>\n",
       "      <th>0</th>\n",
       "      <td>2014-09-01</td>\n",
       "      <td>Woji</td>\n",
       "      <td>Chinedu</td>\n",
       "      <td>Apple</td>\n",
       "      <td>2</td>\n",
       "      <td>125.00</td>\n",
       "      <td>250.00</td>\n",
       "      <td>250000.0</td>\n",
       "    </tr>\n",
       "    <tr>\n",
       "      <th>1</th>\n",
       "      <td>2015-06-17</td>\n",
       "      <td>Woji</td>\n",
       "      <td>Emeka</td>\n",
       "      <td>Apple</td>\n",
       "      <td>5</td>\n",
       "      <td>125.00</td>\n",
       "      <td>625.00</td>\n",
       "      <td>625000.0</td>\n",
       "    </tr>\n",
       "    <tr>\n",
       "      <th>2</th>\n",
       "      <td>2015-09-10</td>\n",
       "      <td>Woji</td>\n",
       "      <td>Ibrahim</td>\n",
       "      <td>Lenovo</td>\n",
       "      <td>7</td>\n",
       "      <td>1.29</td>\n",
       "      <td>9.03</td>\n",
       "      <td>9030.0</td>\n",
       "    </tr>\n",
       "    <tr>\n",
       "      <th>3</th>\n",
       "      <td>2015-11-17</td>\n",
       "      <td>Woji</td>\n",
       "      <td>Tolu</td>\n",
       "      <td>HP</td>\n",
       "      <td>11</td>\n",
       "      <td>4.99</td>\n",
       "      <td>54.89</td>\n",
       "      <td>54890.0</td>\n",
       "    </tr>\n",
       "    <tr>\n",
       "      <th>4</th>\n",
       "      <td>2015-10-31</td>\n",
       "      <td>Woji</td>\n",
       "      <td>Tonye</td>\n",
       "      <td>Lenovo</td>\n",
       "      <td>14</td>\n",
       "      <td>1.29</td>\n",
       "      <td>18.06</td>\n",
       "      <td>18060.0</td>\n",
       "    </tr>\n",
       "  </tbody>\n",
       "</table>\n",
       "</div>"
      ],
      "text/plain": [
       "        Date Branch Sales Agent Products  Units   Price  Revenue  Revenue(N)\n",
       "0 2014-09-01   Woji     Chinedu    Apple      2  125.00   250.00    250000.0\n",
       "1 2015-06-17   Woji       Emeka    Apple      5  125.00   625.00    625000.0\n",
       "2 2015-09-10   Woji     Ibrahim   Lenovo      7    1.29     9.03      9030.0\n",
       "3 2015-11-17   Woji        Tolu       HP     11    4.99    54.89     54890.0\n",
       "4 2015-10-31   Woji       Tonye   Lenovo     14    1.29    18.06     18060.0"
      ]
     },
     "execution_count": 3,
     "metadata": {},
     "output_type": "execute_result"
    }
   ],
   "source": [
    "# Do a little bit of feature engineering\n",
    "#Add revenue column\n",
    "# To create a new column, you start with creating the new columns as a variable name\n",
    "# units X price = Revenue\n",
    "# units * price = Revenue\n",
    "sales[\"Revenue\"] = sales[\"Units\"] * sales[\"Price\"]\n",
    "\n",
    "\n",
    "# round(parameter, 2)\n",
    "sales[\"Revenue(N)\"] = round(sales[\"Units\"]*sales[\"Price\"] * 1000,2)\n",
    "sales.head()\n"
   ]
  },
  {
   "cell_type": "code",
   "execution_count": 4,
   "id": "400971ec",
   "metadata": {},
   "outputs": [
    {
     "data": {
      "text/plain": [
       "Date           datetime64[ns]\n",
       "Branch                 object\n",
       "Sales Agent            object\n",
       "Products               object\n",
       "Units                   int64\n",
       "Price                 float64\n",
       "Revenue               float64\n",
       "Revenue(N)            float64\n",
       "dtype: object"
      ]
     },
     "execution_count": 4,
     "metadata": {},
     "output_type": "execute_result"
    }
   ],
   "source": [
    "sales.dtypes"
   ]
  },
  {
   "cell_type": "code",
   "execution_count": 5,
   "id": "c38cb90d",
   "metadata": {},
   "outputs": [],
   "source": [
    "# let's convert the date column to datetime\n",
    "# Using \"pd.to_datetime()\" function\n",
    "\n",
    "#to_datetime()\n",
    "#datetime()\n",
    "sales[\"Date\"] = pd.to_datetime(sales[\"Date\"])\n"
   ]
  },
  {
   "cell_type": "code",
   "execution_count": 6,
   "id": "3f41c360",
   "metadata": {},
   "outputs": [
    {
     "data": {
      "text/html": [
       "<div>\n",
       "<style scoped>\n",
       "    .dataframe tbody tr th:only-of-type {\n",
       "        vertical-align: middle;\n",
       "    }\n",
       "\n",
       "    .dataframe tbody tr th {\n",
       "        vertical-align: top;\n",
       "    }\n",
       "\n",
       "    .dataframe thead th {\n",
       "        text-align: right;\n",
       "    }\n",
       "</style>\n",
       "<table border=\"1\" class=\"dataframe\">\n",
       "  <thead>\n",
       "    <tr style=\"text-align: right;\">\n",
       "      <th></th>\n",
       "      <th>Date</th>\n",
       "      <th>Branch</th>\n",
       "      <th>Sales Agent</th>\n",
       "      <th>Products</th>\n",
       "      <th>Units</th>\n",
       "      <th>Price</th>\n",
       "      <th>Revenue</th>\n",
       "      <th>Revenue(N)</th>\n",
       "    </tr>\n",
       "  </thead>\n",
       "  <tbody>\n",
       "    <tr>\n",
       "      <th>0</th>\n",
       "      <td>2014-09-01</td>\n",
       "      <td>Woji</td>\n",
       "      <td>Chinedu</td>\n",
       "      <td>Apple</td>\n",
       "      <td>2</td>\n",
       "      <td>125.00</td>\n",
       "      <td>250.00</td>\n",
       "      <td>250000.0</td>\n",
       "    </tr>\n",
       "    <tr>\n",
       "      <th>1</th>\n",
       "      <td>2015-06-17</td>\n",
       "      <td>Woji</td>\n",
       "      <td>Emeka</td>\n",
       "      <td>Apple</td>\n",
       "      <td>5</td>\n",
       "      <td>125.00</td>\n",
       "      <td>625.00</td>\n",
       "      <td>625000.0</td>\n",
       "    </tr>\n",
       "    <tr>\n",
       "      <th>2</th>\n",
       "      <td>2015-09-10</td>\n",
       "      <td>Woji</td>\n",
       "      <td>Ibrahim</td>\n",
       "      <td>Lenovo</td>\n",
       "      <td>7</td>\n",
       "      <td>1.29</td>\n",
       "      <td>9.03</td>\n",
       "      <td>9030.0</td>\n",
       "    </tr>\n",
       "    <tr>\n",
       "      <th>3</th>\n",
       "      <td>2015-11-17</td>\n",
       "      <td>Woji</td>\n",
       "      <td>Tolu</td>\n",
       "      <td>HP</td>\n",
       "      <td>11</td>\n",
       "      <td>4.99</td>\n",
       "      <td>54.89</td>\n",
       "      <td>54890.0</td>\n",
       "    </tr>\n",
       "    <tr>\n",
       "      <th>4</th>\n",
       "      <td>2015-10-31</td>\n",
       "      <td>Woji</td>\n",
       "      <td>Tonye</td>\n",
       "      <td>Lenovo</td>\n",
       "      <td>14</td>\n",
       "      <td>1.29</td>\n",
       "      <td>18.06</td>\n",
       "      <td>18060.0</td>\n",
       "    </tr>\n",
       "  </tbody>\n",
       "</table>\n",
       "</div>"
      ],
      "text/plain": [
       "        Date Branch Sales Agent Products  Units   Price  Revenue  Revenue(N)\n",
       "0 2014-09-01   Woji     Chinedu    Apple      2  125.00   250.00    250000.0\n",
       "1 2015-06-17   Woji       Emeka    Apple      5  125.00   625.00    625000.0\n",
       "2 2015-09-10   Woji     Ibrahim   Lenovo      7    1.29     9.03      9030.0\n",
       "3 2015-11-17   Woji        Tolu       HP     11    4.99    54.89     54890.0\n",
       "4 2015-10-31   Woji       Tonye   Lenovo     14    1.29    18.06     18060.0"
      ]
     },
     "execution_count": 6,
     "metadata": {},
     "output_type": "execute_result"
    }
   ],
   "source": [
    "sales.head()"
   ]
  },
  {
   "cell_type": "code",
   "execution_count": 7,
   "id": "da7b9674",
   "metadata": {},
   "outputs": [],
   "source": [
    "# let's do more feature engineering\n",
    "# let's work on our datetime to extract the month , year and week name\n",
    "#Using \".dt.year\", \".dt.month_name()\", \".day_name()\"\n",
    "\n",
    "sales[\"Year\"] = sales[\"Date\"].dt.year\n",
    "sales[\"Month\"] = sales[\"Date\"].dt.month_name()\n",
    "sales[\"Week\"] = sales[\"Date\"].dt.day_name()"
   ]
  },
  {
   "cell_type": "code",
   "execution_count": 8,
   "id": "036d86be",
   "metadata": {},
   "outputs": [
    {
     "data": {
      "text/html": [
       "<div>\n",
       "<style scoped>\n",
       "    .dataframe tbody tr th:only-of-type {\n",
       "        vertical-align: middle;\n",
       "    }\n",
       "\n",
       "    .dataframe tbody tr th {\n",
       "        vertical-align: top;\n",
       "    }\n",
       "\n",
       "    .dataframe thead th {\n",
       "        text-align: right;\n",
       "    }\n",
       "</style>\n",
       "<table border=\"1\" class=\"dataframe\">\n",
       "  <thead>\n",
       "    <tr style=\"text-align: right;\">\n",
       "      <th></th>\n",
       "      <th>Date</th>\n",
       "      <th>Branch</th>\n",
       "      <th>Sales Agent</th>\n",
       "      <th>Products</th>\n",
       "      <th>Units</th>\n",
       "      <th>Price</th>\n",
       "      <th>Revenue</th>\n",
       "      <th>Revenue(N)</th>\n",
       "      <th>Year</th>\n",
       "      <th>Month</th>\n",
       "      <th>Week</th>\n",
       "    </tr>\n",
       "  </thead>\n",
       "  <tbody>\n",
       "    <tr>\n",
       "      <th>0</th>\n",
       "      <td>2014-09-01</td>\n",
       "      <td>Woji</td>\n",
       "      <td>Chinedu</td>\n",
       "      <td>Apple</td>\n",
       "      <td>2</td>\n",
       "      <td>125.00</td>\n",
       "      <td>250.00</td>\n",
       "      <td>250000.0</td>\n",
       "      <td>2014</td>\n",
       "      <td>September</td>\n",
       "      <td>Monday</td>\n",
       "    </tr>\n",
       "    <tr>\n",
       "      <th>1</th>\n",
       "      <td>2015-06-17</td>\n",
       "      <td>Woji</td>\n",
       "      <td>Emeka</td>\n",
       "      <td>Apple</td>\n",
       "      <td>5</td>\n",
       "      <td>125.00</td>\n",
       "      <td>625.00</td>\n",
       "      <td>625000.0</td>\n",
       "      <td>2015</td>\n",
       "      <td>June</td>\n",
       "      <td>Wednesday</td>\n",
       "    </tr>\n",
       "    <tr>\n",
       "      <th>2</th>\n",
       "      <td>2015-09-10</td>\n",
       "      <td>Woji</td>\n",
       "      <td>Ibrahim</td>\n",
       "      <td>Lenovo</td>\n",
       "      <td>7</td>\n",
       "      <td>1.29</td>\n",
       "      <td>9.03</td>\n",
       "      <td>9030.0</td>\n",
       "      <td>2015</td>\n",
       "      <td>September</td>\n",
       "      <td>Thursday</td>\n",
       "    </tr>\n",
       "    <tr>\n",
       "      <th>3</th>\n",
       "      <td>2015-11-17</td>\n",
       "      <td>Woji</td>\n",
       "      <td>Tolu</td>\n",
       "      <td>HP</td>\n",
       "      <td>11</td>\n",
       "      <td>4.99</td>\n",
       "      <td>54.89</td>\n",
       "      <td>54890.0</td>\n",
       "      <td>2015</td>\n",
       "      <td>November</td>\n",
       "      <td>Tuesday</td>\n",
       "    </tr>\n",
       "    <tr>\n",
       "      <th>4</th>\n",
       "      <td>2015-10-31</td>\n",
       "      <td>Woji</td>\n",
       "      <td>Tonye</td>\n",
       "      <td>Lenovo</td>\n",
       "      <td>14</td>\n",
       "      <td>1.29</td>\n",
       "      <td>18.06</td>\n",
       "      <td>18060.0</td>\n",
       "      <td>2015</td>\n",
       "      <td>October</td>\n",
       "      <td>Saturday</td>\n",
       "    </tr>\n",
       "  </tbody>\n",
       "</table>\n",
       "</div>"
      ],
      "text/plain": [
       "        Date Branch Sales Agent Products  Units   Price  Revenue  Revenue(N)  \\\n",
       "0 2014-09-01   Woji     Chinedu    Apple      2  125.00   250.00    250000.0   \n",
       "1 2015-06-17   Woji       Emeka    Apple      5  125.00   625.00    625000.0   \n",
       "2 2015-09-10   Woji     Ibrahim   Lenovo      7    1.29     9.03      9030.0   \n",
       "3 2015-11-17   Woji        Tolu       HP     11    4.99    54.89     54890.0   \n",
       "4 2015-10-31   Woji       Tonye   Lenovo     14    1.29    18.06     18060.0   \n",
       "\n",
       "   Year      Month       Week  \n",
       "0  2014  September     Monday  \n",
       "1  2015       June  Wednesday  \n",
       "2  2015  September   Thursday  \n",
       "3  2015   November    Tuesday  \n",
       "4  2015    October   Saturday  "
      ]
     },
     "execution_count": 8,
     "metadata": {},
     "output_type": "execute_result"
    }
   ],
   "source": [
    "sales.head()"
   ]
  },
  {
   "cell_type": "code",
   "execution_count": 9,
   "id": "db8cc144",
   "metadata": {},
   "outputs": [
    {
     "name": "stdout",
     "output_type": "stream",
     "text": [
      "Total goods sold: 2121 units\n"
     ]
    }
   ],
   "source": [
    "# Total units sold\n",
    "Total_goods_sold = sales[\"Units\"].sum()\n",
    "print(f\"Total goods sold: {Total_goods_sold} units\")"
   ]
  },
  {
   "cell_type": "code",
   "execution_count": 10,
   "id": "3386b639",
   "metadata": {},
   "outputs": [
    {
     "name": "stdout",
     "output_type": "stream",
     "text": [
      "Total Revenue: N19627880.0\n"
     ]
    }
   ],
   "source": [
    "#Total Revenue\n",
    "Total_Revenue = sales[\"Revenue(N)\"].sum()\n",
    "print(f\"Total Revenue: N{Total_Revenue}\")"
   ]
  },
  {
   "cell_type": "code",
   "execution_count": 11,
   "id": "8c744c27",
   "metadata": {},
   "outputs": [
    {
     "name": "stdout",
     "output_type": "stream",
     "text": [
      "Average Revenue per unit: N9254.07\n"
     ]
    }
   ],
   "source": [
    "#Average Revenue per unit\n",
    "# Using \"round() function to approximate to 3 decimal place\"\n",
    "Average_Revenue_per_unit = round(Total_Revenue / Total_goods_sold,2)\n",
    "print(f\"Average Revenue per unit: N{Average_Revenue_per_unit}\")"
   ]
  },
  {
   "cell_type": "code",
   "execution_count": 12,
   "id": "8d073425",
   "metadata": {},
   "outputs": [
    {
     "name": "stdout",
     "output_type": "stream",
     "text": [
      "Numbers of products: 5\n"
     ]
    }
   ],
   "source": [
    "# Numbers of products\n",
    "# Using .nunuque() shows the numbers of unique values\n",
    "Numbers_of_products = sales[\"Products\"].nunique()\n",
    "print(f\"Numbers of products: {Numbers_of_products}\")"
   ]
  },
  {
   "cell_type": "code",
   "execution_count": 21,
   "id": "7f1b4588",
   "metadata": {},
   "outputs": [
    {
     "ename": "KeyError",
     "evalue": "'Sales Agents'",
     "output_type": "error",
     "traceback": [
      "\u001b[31m---------------------------------------------------------------------------\u001b[39m",
      "\u001b[31mKeyError\u001b[39m                                  Traceback (most recent call last)",
      "\u001b[36mFile \u001b[39m\u001b[32mc:\\Users\\ncc45554\\Desktop\\tasks\\naheemot_venv\\Lib\\site-packages\\pandas\\core\\indexes\\base.py:3812\u001b[39m, in \u001b[36mIndex.get_loc\u001b[39m\u001b[34m(self, key)\u001b[39m\n\u001b[32m   3811\u001b[39m \u001b[38;5;28;01mtry\u001b[39;00m:\n\u001b[32m-> \u001b[39m\u001b[32m3812\u001b[39m     \u001b[38;5;28;01mreturn\u001b[39;00m \u001b[38;5;28;43mself\u001b[39;49m\u001b[43m.\u001b[49m\u001b[43m_engine\u001b[49m\u001b[43m.\u001b[49m\u001b[43mget_loc\u001b[49m\u001b[43m(\u001b[49m\u001b[43mcasted_key\u001b[49m\u001b[43m)\u001b[49m\n\u001b[32m   3813\u001b[39m \u001b[38;5;28;01mexcept\u001b[39;00m \u001b[38;5;167;01mKeyError\u001b[39;00m \u001b[38;5;28;01mas\u001b[39;00m err:\n",
      "\u001b[36mFile \u001b[39m\u001b[32mpandas/_libs/index.pyx:167\u001b[39m, in \u001b[36mpandas._libs.index.IndexEngine.get_loc\u001b[39m\u001b[34m()\u001b[39m\n",
      "\u001b[36mFile \u001b[39m\u001b[32mpandas/_libs/index.pyx:196\u001b[39m, in \u001b[36mpandas._libs.index.IndexEngine.get_loc\u001b[39m\u001b[34m()\u001b[39m\n",
      "\u001b[36mFile \u001b[39m\u001b[32mpandas/_libs/hashtable_class_helper.pxi:7088\u001b[39m, in \u001b[36mpandas._libs.hashtable.PyObjectHashTable.get_item\u001b[39m\u001b[34m()\u001b[39m\n",
      "\u001b[36mFile \u001b[39m\u001b[32mpandas/_libs/hashtable_class_helper.pxi:7096\u001b[39m, in \u001b[36mpandas._libs.hashtable.PyObjectHashTable.get_item\u001b[39m\u001b[34m()\u001b[39m\n",
      "\u001b[31mKeyError\u001b[39m: 'Sales Agents'",
      "\nThe above exception was the direct cause of the following exception:\n",
      "\u001b[31mKeyError\u001b[39m                                  Traceback (most recent call last)",
      "\u001b[36mCell\u001b[39m\u001b[36m \u001b[39m\u001b[32mIn[21]\u001b[39m\u001b[32m, line 2\u001b[39m\n\u001b[32m      1\u001b[39m \u001b[38;5;66;03m#Numbers of products sold by each agent\u001b[39;00m\n\u001b[32m----> \u001b[39m\u001b[32m2\u001b[39m Numbers_of_products_by_each_agent = \u001b[43msales\u001b[49m\u001b[43m[\u001b[49m\u001b[33;43m\"\u001b[39;49m\u001b[33;43mSales Agents\u001b[39;49m\u001b[33;43m\"\u001b[39;49m\u001b[43m]\u001b[49m.nunique()\n",
      "\u001b[36mFile \u001b[39m\u001b[32mc:\\Users\\ncc45554\\Desktop\\tasks\\naheemot_venv\\Lib\\site-packages\\pandas\\core\\frame.py:4107\u001b[39m, in \u001b[36mDataFrame.__getitem__\u001b[39m\u001b[34m(self, key)\u001b[39m\n\u001b[32m   4105\u001b[39m \u001b[38;5;28;01mif\u001b[39;00m \u001b[38;5;28mself\u001b[39m.columns.nlevels > \u001b[32m1\u001b[39m:\n\u001b[32m   4106\u001b[39m     \u001b[38;5;28;01mreturn\u001b[39;00m \u001b[38;5;28mself\u001b[39m._getitem_multilevel(key)\n\u001b[32m-> \u001b[39m\u001b[32m4107\u001b[39m indexer = \u001b[38;5;28;43mself\u001b[39;49m\u001b[43m.\u001b[49m\u001b[43mcolumns\u001b[49m\u001b[43m.\u001b[49m\u001b[43mget_loc\u001b[49m\u001b[43m(\u001b[49m\u001b[43mkey\u001b[49m\u001b[43m)\u001b[49m\n\u001b[32m   4108\u001b[39m \u001b[38;5;28;01mif\u001b[39;00m is_integer(indexer):\n\u001b[32m   4109\u001b[39m     indexer = [indexer]\n",
      "\u001b[36mFile \u001b[39m\u001b[32mc:\\Users\\ncc45554\\Desktop\\tasks\\naheemot_venv\\Lib\\site-packages\\pandas\\core\\indexes\\base.py:3819\u001b[39m, in \u001b[36mIndex.get_loc\u001b[39m\u001b[34m(self, key)\u001b[39m\n\u001b[32m   3814\u001b[39m     \u001b[38;5;28;01mif\u001b[39;00m \u001b[38;5;28misinstance\u001b[39m(casted_key, \u001b[38;5;28mslice\u001b[39m) \u001b[38;5;129;01mor\u001b[39;00m (\n\u001b[32m   3815\u001b[39m         \u001b[38;5;28misinstance\u001b[39m(casted_key, abc.Iterable)\n\u001b[32m   3816\u001b[39m         \u001b[38;5;129;01mand\u001b[39;00m \u001b[38;5;28many\u001b[39m(\u001b[38;5;28misinstance\u001b[39m(x, \u001b[38;5;28mslice\u001b[39m) \u001b[38;5;28;01mfor\u001b[39;00m x \u001b[38;5;129;01min\u001b[39;00m casted_key)\n\u001b[32m   3817\u001b[39m     ):\n\u001b[32m   3818\u001b[39m         \u001b[38;5;28;01mraise\u001b[39;00m InvalidIndexError(key)\n\u001b[32m-> \u001b[39m\u001b[32m3819\u001b[39m     \u001b[38;5;28;01mraise\u001b[39;00m \u001b[38;5;167;01mKeyError\u001b[39;00m(key) \u001b[38;5;28;01mfrom\u001b[39;00m\u001b[38;5;250m \u001b[39m\u001b[34;01merr\u001b[39;00m\n\u001b[32m   3820\u001b[39m \u001b[38;5;28;01mexcept\u001b[39;00m \u001b[38;5;167;01mTypeError\u001b[39;00m:\n\u001b[32m   3821\u001b[39m     \u001b[38;5;66;03m# If we have a listlike key, _check_indexing_error will raise\u001b[39;00m\n\u001b[32m   3822\u001b[39m     \u001b[38;5;66;03m#  InvalidIndexError. Otherwise we fall through and re-raise\u001b[39;00m\n\u001b[32m   3823\u001b[39m     \u001b[38;5;66;03m#  the TypeError.\u001b[39;00m\n\u001b[32m   3824\u001b[39m     \u001b[38;5;28mself\u001b[39m._check_indexing_error(key)\n",
      "\u001b[31mKeyError\u001b[39m: 'Sales Agents'"
     ]
    }
   ],
   "source": [
    "#Numbers of products sold by each agent\n",
    "Numbers_of_products_by_each_agent = sales[\"Sales Agents\"].nunique()"
   ]
  },
  {
   "cell_type": "code",
   "execution_count": 25,
   "id": "b19d9620",
   "metadata": {},
   "outputs": [
    {
     "name": "stdout",
     "output_type": "stream",
     "text": [
      "Numbers of Sales Agents: 11\n"
     ]
    }
   ],
   "source": [
    "# Numbers of Sales Agents\n",
    "Numbers_of_sales_agents = sales[\"Sales Agent\"].nunique()\n",
    "print(f\"Numbers of Sales Agents: {Numbers_of_sales_agents}\")"
   ]
  },
  {
   "cell_type": "code",
   "execution_count": 26,
   "id": "e5d45c52",
   "metadata": {},
   "outputs": [],
   "source": [
    "sales.set_index(\"Date\", inplace=True)"
   ]
  },
  {
   "cell_type": "code",
   "execution_count": null,
   "id": "db420747",
   "metadata": {},
   "outputs": [],
   "source": []
  }
 ],
 "metadata": {
  "kernelspec": {
   "display_name": "naheemot_venv",
   "language": "python",
   "name": "python3"
  },
  "language_info": {
   "codemirror_mode": {
    "name": "ipython",
    "version": 3
   },
   "file_extension": ".py",
   "mimetype": "text/x-python",
   "name": "python",
   "nbconvert_exporter": "python",
   "pygments_lexer": "ipython3",
   "version": "3.13.5"
  }
 },
 "nbformat": 4,
 "nbformat_minor": 5
}
