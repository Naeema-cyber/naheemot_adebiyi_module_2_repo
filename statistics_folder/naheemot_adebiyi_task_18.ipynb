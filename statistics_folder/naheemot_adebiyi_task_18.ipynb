{
 "cells": [
  {
   "cell_type": "code",
   "execution_count": 117,
   "id": "b9a51b76",
   "metadata": {},
   "outputs": [],
   "source": [
    "# Importing the necessary libraries\n",
    "\n",
    "import numpy as np\n",
    "import matplotlib.pyplot as plt\n",
    "import pandas as pd"
   ]
  },
  {
   "cell_type": "markdown",
   "id": "b512b49c",
   "metadata": {},
   "source": [
    "**Data Injection**"
   ]
  },
  {
   "cell_type": "code",
   "execution_count": 118,
   "id": "45c9e027",
   "metadata": {},
   "outputs": [],
   "source": [
    "# Loading the data\n",
    "df = pd.read_csv(\"possum.csv\")"
   ]
  },
  {
   "cell_type": "markdown",
   "id": "1ae26419",
   "metadata": {},
   "source": [
    "**Performing Exploratory Data Analysis**"
   ]
  },
  {
   "cell_type": "code",
   "execution_count": 119,
   "id": "fded2703",
   "metadata": {},
   "outputs": [
    {
     "data": {
      "text/html": [
       "<div>\n",
       "<style scoped>\n",
       "    .dataframe tbody tr th:only-of-type {\n",
       "        vertical-align: middle;\n",
       "    }\n",
       "\n",
       "    .dataframe tbody tr th {\n",
       "        vertical-align: top;\n",
       "    }\n",
       "\n",
       "    .dataframe thead th {\n",
       "        text-align: right;\n",
       "    }\n",
       "</style>\n",
       "<table border=\"1\" class=\"dataframe\">\n",
       "  <thead>\n",
       "    <tr style=\"text-align: right;\">\n",
       "      <th></th>\n",
       "      <th>case</th>\n",
       "      <th>site</th>\n",
       "      <th>Pop</th>\n",
       "      <th>sex</th>\n",
       "      <th>age</th>\n",
       "      <th>hdlngth</th>\n",
       "      <th>skullw</th>\n",
       "      <th>totlngth</th>\n",
       "      <th>taill</th>\n",
       "      <th>footlgth</th>\n",
       "      <th>earconch</th>\n",
       "      <th>eye</th>\n",
       "      <th>chest</th>\n",
       "      <th>belly</th>\n",
       "    </tr>\n",
       "  </thead>\n",
       "  <tbody>\n",
       "    <tr>\n",
       "      <th>0</th>\n",
       "      <td>1</td>\n",
       "      <td>1</td>\n",
       "      <td>Vic</td>\n",
       "      <td>m</td>\n",
       "      <td>8.0</td>\n",
       "      <td>94.1</td>\n",
       "      <td>60.4</td>\n",
       "      <td>89.0</td>\n",
       "      <td>36.0</td>\n",
       "      <td>74.5</td>\n",
       "      <td>54.5</td>\n",
       "      <td>15.2</td>\n",
       "      <td>28.0</td>\n",
       "      <td>36.0</td>\n",
       "    </tr>\n",
       "    <tr>\n",
       "      <th>1</th>\n",
       "      <td>2</td>\n",
       "      <td>1</td>\n",
       "      <td>Vic</td>\n",
       "      <td>f</td>\n",
       "      <td>6.0</td>\n",
       "      <td>92.5</td>\n",
       "      <td>57.6</td>\n",
       "      <td>91.5</td>\n",
       "      <td>36.5</td>\n",
       "      <td>72.5</td>\n",
       "      <td>51.2</td>\n",
       "      <td>16.0</td>\n",
       "      <td>28.5</td>\n",
       "      <td>33.0</td>\n",
       "    </tr>\n",
       "    <tr>\n",
       "      <th>2</th>\n",
       "      <td>3</td>\n",
       "      <td>1</td>\n",
       "      <td>Vic</td>\n",
       "      <td>f</td>\n",
       "      <td>6.0</td>\n",
       "      <td>94.0</td>\n",
       "      <td>60.0</td>\n",
       "      <td>95.5</td>\n",
       "      <td>39.0</td>\n",
       "      <td>75.4</td>\n",
       "      <td>51.9</td>\n",
       "      <td>15.5</td>\n",
       "      <td>30.0</td>\n",
       "      <td>34.0</td>\n",
       "    </tr>\n",
       "    <tr>\n",
       "      <th>3</th>\n",
       "      <td>4</td>\n",
       "      <td>1</td>\n",
       "      <td>Vic</td>\n",
       "      <td>f</td>\n",
       "      <td>6.0</td>\n",
       "      <td>93.2</td>\n",
       "      <td>57.1</td>\n",
       "      <td>92.0</td>\n",
       "      <td>38.0</td>\n",
       "      <td>76.1</td>\n",
       "      <td>52.2</td>\n",
       "      <td>15.2</td>\n",
       "      <td>28.0</td>\n",
       "      <td>34.0</td>\n",
       "    </tr>\n",
       "    <tr>\n",
       "      <th>4</th>\n",
       "      <td>5</td>\n",
       "      <td>1</td>\n",
       "      <td>Vic</td>\n",
       "      <td>f</td>\n",
       "      <td>2.0</td>\n",
       "      <td>91.5</td>\n",
       "      <td>56.3</td>\n",
       "      <td>85.5</td>\n",
       "      <td>36.0</td>\n",
       "      <td>71.0</td>\n",
       "      <td>53.2</td>\n",
       "      <td>15.1</td>\n",
       "      <td>28.5</td>\n",
       "      <td>33.0</td>\n",
       "    </tr>\n",
       "    <tr>\n",
       "      <th>5</th>\n",
       "      <td>6</td>\n",
       "      <td>1</td>\n",
       "      <td>Vic</td>\n",
       "      <td>f</td>\n",
       "      <td>1.0</td>\n",
       "      <td>93.1</td>\n",
       "      <td>54.8</td>\n",
       "      <td>90.5</td>\n",
       "      <td>35.5</td>\n",
       "      <td>73.2</td>\n",
       "      <td>53.6</td>\n",
       "      <td>14.2</td>\n",
       "      <td>30.0</td>\n",
       "      <td>32.0</td>\n",
       "    </tr>\n",
       "    <tr>\n",
       "      <th>6</th>\n",
       "      <td>7</td>\n",
       "      <td>1</td>\n",
       "      <td>Vic</td>\n",
       "      <td>m</td>\n",
       "      <td>2.0</td>\n",
       "      <td>95.3</td>\n",
       "      <td>58.2</td>\n",
       "      <td>89.5</td>\n",
       "      <td>36.0</td>\n",
       "      <td>71.5</td>\n",
       "      <td>52.0</td>\n",
       "      <td>14.2</td>\n",
       "      <td>30.0</td>\n",
       "      <td>34.5</td>\n",
       "    </tr>\n",
       "    <tr>\n",
       "      <th>7</th>\n",
       "      <td>8</td>\n",
       "      <td>1</td>\n",
       "      <td>Vic</td>\n",
       "      <td>f</td>\n",
       "      <td>6.0</td>\n",
       "      <td>94.8</td>\n",
       "      <td>57.6</td>\n",
       "      <td>91.0</td>\n",
       "      <td>37.0</td>\n",
       "      <td>72.7</td>\n",
       "      <td>53.9</td>\n",
       "      <td>14.5</td>\n",
       "      <td>29.0</td>\n",
       "      <td>34.0</td>\n",
       "    </tr>\n",
       "    <tr>\n",
       "      <th>8</th>\n",
       "      <td>9</td>\n",
       "      <td>1</td>\n",
       "      <td>Vic</td>\n",
       "      <td>f</td>\n",
       "      <td>9.0</td>\n",
       "      <td>93.4</td>\n",
       "      <td>56.3</td>\n",
       "      <td>91.5</td>\n",
       "      <td>37.0</td>\n",
       "      <td>72.4</td>\n",
       "      <td>52.9</td>\n",
       "      <td>15.5</td>\n",
       "      <td>28.0</td>\n",
       "      <td>33.0</td>\n",
       "    </tr>\n",
       "    <tr>\n",
       "      <th>9</th>\n",
       "      <td>10</td>\n",
       "      <td>1</td>\n",
       "      <td>Vic</td>\n",
       "      <td>f</td>\n",
       "      <td>6.0</td>\n",
       "      <td>91.8</td>\n",
       "      <td>58.0</td>\n",
       "      <td>89.5</td>\n",
       "      <td>37.5</td>\n",
       "      <td>70.9</td>\n",
       "      <td>53.4</td>\n",
       "      <td>14.4</td>\n",
       "      <td>27.5</td>\n",
       "      <td>32.0</td>\n",
       "    </tr>\n",
       "  </tbody>\n",
       "</table>\n",
       "</div>"
      ],
      "text/plain": [
       "   case  site  Pop sex  age  hdlngth  skullw  totlngth  taill  footlgth  \\\n",
       "0     1     1  Vic   m  8.0     94.1    60.4      89.0   36.0      74.5   \n",
       "1     2     1  Vic   f  6.0     92.5    57.6      91.5   36.5      72.5   \n",
       "2     3     1  Vic   f  6.0     94.0    60.0      95.5   39.0      75.4   \n",
       "3     4     1  Vic   f  6.0     93.2    57.1      92.0   38.0      76.1   \n",
       "4     5     1  Vic   f  2.0     91.5    56.3      85.5   36.0      71.0   \n",
       "5     6     1  Vic   f  1.0     93.1    54.8      90.5   35.5      73.2   \n",
       "6     7     1  Vic   m  2.0     95.3    58.2      89.5   36.0      71.5   \n",
       "7     8     1  Vic   f  6.0     94.8    57.6      91.0   37.0      72.7   \n",
       "8     9     1  Vic   f  9.0     93.4    56.3      91.5   37.0      72.4   \n",
       "9    10     1  Vic   f  6.0     91.8    58.0      89.5   37.5      70.9   \n",
       "\n",
       "   earconch   eye  chest  belly  \n",
       "0      54.5  15.2   28.0   36.0  \n",
       "1      51.2  16.0   28.5   33.0  \n",
       "2      51.9  15.5   30.0   34.0  \n",
       "3      52.2  15.2   28.0   34.0  \n",
       "4      53.2  15.1   28.5   33.0  \n",
       "5      53.6  14.2   30.0   32.0  \n",
       "6      52.0  14.2   30.0   34.5  \n",
       "7      53.9  14.5   29.0   34.0  \n",
       "8      52.9  15.5   28.0   33.0  \n",
       "9      53.4  14.4   27.5   32.0  "
      ]
     },
     "execution_count": 119,
     "metadata": {},
     "output_type": "execute_result"
    }
   ],
   "source": [
    "df.head(10)"
   ]
  },
  {
   "cell_type": "code",
   "execution_count": 120,
   "id": "7c20be57",
   "metadata": {},
   "outputs": [
    {
     "data": {
      "text/html": [
       "<div>\n",
       "<style scoped>\n",
       "    .dataframe tbody tr th:only-of-type {\n",
       "        vertical-align: middle;\n",
       "    }\n",
       "\n",
       "    .dataframe tbody tr th {\n",
       "        vertical-align: top;\n",
       "    }\n",
       "\n",
       "    .dataframe thead th {\n",
       "        text-align: right;\n",
       "    }\n",
       "</style>\n",
       "<table border=\"1\" class=\"dataframe\">\n",
       "  <thead>\n",
       "    <tr style=\"text-align: right;\">\n",
       "      <th></th>\n",
       "      <th>case</th>\n",
       "      <th>site</th>\n",
       "      <th>Pop</th>\n",
       "      <th>sex</th>\n",
       "      <th>age</th>\n",
       "      <th>hdlngth</th>\n",
       "      <th>skullw</th>\n",
       "      <th>totlngth</th>\n",
       "      <th>taill</th>\n",
       "      <th>footlgth</th>\n",
       "      <th>earconch</th>\n",
       "      <th>eye</th>\n",
       "      <th>chest</th>\n",
       "      <th>belly</th>\n",
       "    </tr>\n",
       "  </thead>\n",
       "  <tbody>\n",
       "    <tr>\n",
       "      <th>94</th>\n",
       "      <td>95</td>\n",
       "      <td>7</td>\n",
       "      <td>other</td>\n",
       "      <td>m</td>\n",
       "      <td>4.0</td>\n",
       "      <td>91.6</td>\n",
       "      <td>56.6</td>\n",
       "      <td>88.5</td>\n",
       "      <td>37.5</td>\n",
       "      <td>64.5</td>\n",
       "      <td>45.4</td>\n",
       "      <td>14.9</td>\n",
       "      <td>27.0</td>\n",
       "      <td>31.0</td>\n",
       "    </tr>\n",
       "    <tr>\n",
       "      <th>95</th>\n",
       "      <td>96</td>\n",
       "      <td>7</td>\n",
       "      <td>other</td>\n",
       "      <td>m</td>\n",
       "      <td>4.0</td>\n",
       "      <td>94.8</td>\n",
       "      <td>55.7</td>\n",
       "      <td>83.0</td>\n",
       "      <td>38.0</td>\n",
       "      <td>66.5</td>\n",
       "      <td>47.7</td>\n",
       "      <td>14.0</td>\n",
       "      <td>25.0</td>\n",
       "      <td>33.0</td>\n",
       "    </tr>\n",
       "    <tr>\n",
       "      <th>96</th>\n",
       "      <td>97</td>\n",
       "      <td>7</td>\n",
       "      <td>other</td>\n",
       "      <td>m</td>\n",
       "      <td>3.0</td>\n",
       "      <td>91.0</td>\n",
       "      <td>53.1</td>\n",
       "      <td>86.0</td>\n",
       "      <td>38.0</td>\n",
       "      <td>63.8</td>\n",
       "      <td>46.0</td>\n",
       "      <td>14.5</td>\n",
       "      <td>25.0</td>\n",
       "      <td>31.5</td>\n",
       "    </tr>\n",
       "    <tr>\n",
       "      <th>97</th>\n",
       "      <td>98</td>\n",
       "      <td>7</td>\n",
       "      <td>other</td>\n",
       "      <td>m</td>\n",
       "      <td>5.0</td>\n",
       "      <td>93.2</td>\n",
       "      <td>68.6</td>\n",
       "      <td>84.0</td>\n",
       "      <td>35.0</td>\n",
       "      <td>65.6</td>\n",
       "      <td>44.3</td>\n",
       "      <td>14.5</td>\n",
       "      <td>28.5</td>\n",
       "      <td>32.0</td>\n",
       "    </tr>\n",
       "    <tr>\n",
       "      <th>98</th>\n",
       "      <td>99</td>\n",
       "      <td>7</td>\n",
       "      <td>other</td>\n",
       "      <td>f</td>\n",
       "      <td>3.0</td>\n",
       "      <td>93.3</td>\n",
       "      <td>56.2</td>\n",
       "      <td>86.5</td>\n",
       "      <td>38.5</td>\n",
       "      <td>64.8</td>\n",
       "      <td>43.8</td>\n",
       "      <td>14.0</td>\n",
       "      <td>28.0</td>\n",
       "      <td>35.0</td>\n",
       "    </tr>\n",
       "    <tr>\n",
       "      <th>99</th>\n",
       "      <td>100</td>\n",
       "      <td>7</td>\n",
       "      <td>other</td>\n",
       "      <td>m</td>\n",
       "      <td>1.0</td>\n",
       "      <td>89.5</td>\n",
       "      <td>56.0</td>\n",
       "      <td>81.5</td>\n",
       "      <td>36.5</td>\n",
       "      <td>66.0</td>\n",
       "      <td>46.8</td>\n",
       "      <td>14.8</td>\n",
       "      <td>23.0</td>\n",
       "      <td>27.0</td>\n",
       "    </tr>\n",
       "    <tr>\n",
       "      <th>100</th>\n",
       "      <td>101</td>\n",
       "      <td>7</td>\n",
       "      <td>other</td>\n",
       "      <td>m</td>\n",
       "      <td>1.0</td>\n",
       "      <td>88.6</td>\n",
       "      <td>54.7</td>\n",
       "      <td>82.5</td>\n",
       "      <td>39.0</td>\n",
       "      <td>64.4</td>\n",
       "      <td>48.0</td>\n",
       "      <td>14.0</td>\n",
       "      <td>25.0</td>\n",
       "      <td>33.0</td>\n",
       "    </tr>\n",
       "    <tr>\n",
       "      <th>101</th>\n",
       "      <td>102</td>\n",
       "      <td>7</td>\n",
       "      <td>other</td>\n",
       "      <td>f</td>\n",
       "      <td>6.0</td>\n",
       "      <td>92.4</td>\n",
       "      <td>55.0</td>\n",
       "      <td>89.0</td>\n",
       "      <td>38.0</td>\n",
       "      <td>63.5</td>\n",
       "      <td>45.4</td>\n",
       "      <td>13.0</td>\n",
       "      <td>25.0</td>\n",
       "      <td>30.0</td>\n",
       "    </tr>\n",
       "    <tr>\n",
       "      <th>102</th>\n",
       "      <td>103</td>\n",
       "      <td>7</td>\n",
       "      <td>other</td>\n",
       "      <td>m</td>\n",
       "      <td>4.0</td>\n",
       "      <td>91.5</td>\n",
       "      <td>55.2</td>\n",
       "      <td>82.5</td>\n",
       "      <td>36.5</td>\n",
       "      <td>62.9</td>\n",
       "      <td>45.9</td>\n",
       "      <td>15.4</td>\n",
       "      <td>25.0</td>\n",
       "      <td>29.0</td>\n",
       "    </tr>\n",
       "    <tr>\n",
       "      <th>103</th>\n",
       "      <td>104</td>\n",
       "      <td>7</td>\n",
       "      <td>other</td>\n",
       "      <td>f</td>\n",
       "      <td>3.0</td>\n",
       "      <td>93.6</td>\n",
       "      <td>59.9</td>\n",
       "      <td>89.0</td>\n",
       "      <td>40.0</td>\n",
       "      <td>67.6</td>\n",
       "      <td>46.0</td>\n",
       "      <td>14.8</td>\n",
       "      <td>28.5</td>\n",
       "      <td>33.5</td>\n",
       "    </tr>\n",
       "  </tbody>\n",
       "</table>\n",
       "</div>"
      ],
      "text/plain": [
       "     case  site    Pop sex  age  hdlngth  skullw  totlngth  taill  footlgth  \\\n",
       "94     95     7  other   m  4.0     91.6    56.6      88.5   37.5      64.5   \n",
       "95     96     7  other   m  4.0     94.8    55.7      83.0   38.0      66.5   \n",
       "96     97     7  other   m  3.0     91.0    53.1      86.0   38.0      63.8   \n",
       "97     98     7  other   m  5.0     93.2    68.6      84.0   35.0      65.6   \n",
       "98     99     7  other   f  3.0     93.3    56.2      86.5   38.5      64.8   \n",
       "99    100     7  other   m  1.0     89.5    56.0      81.5   36.5      66.0   \n",
       "100   101     7  other   m  1.0     88.6    54.7      82.5   39.0      64.4   \n",
       "101   102     7  other   f  6.0     92.4    55.0      89.0   38.0      63.5   \n",
       "102   103     7  other   m  4.0     91.5    55.2      82.5   36.5      62.9   \n",
       "103   104     7  other   f  3.0     93.6    59.9      89.0   40.0      67.6   \n",
       "\n",
       "     earconch   eye  chest  belly  \n",
       "94       45.4  14.9   27.0   31.0  \n",
       "95       47.7  14.0   25.0   33.0  \n",
       "96       46.0  14.5   25.0   31.5  \n",
       "97       44.3  14.5   28.5   32.0  \n",
       "98       43.8  14.0   28.0   35.0  \n",
       "99       46.8  14.8   23.0   27.0  \n",
       "100      48.0  14.0   25.0   33.0  \n",
       "101      45.4  13.0   25.0   30.0  \n",
       "102      45.9  15.4   25.0   29.0  \n",
       "103      46.0  14.8   28.5   33.5  "
      ]
     },
     "execution_count": 120,
     "metadata": {},
     "output_type": "execute_result"
    }
   ],
   "source": [
    "df.tail(10)"
   ]
  },
  {
   "cell_type": "code",
   "execution_count": 121,
   "id": "be069f82",
   "metadata": {},
   "outputs": [
    {
     "name": "stdout",
     "output_type": "stream",
     "text": [
      "<class 'pandas.core.frame.DataFrame'>\n",
      "RangeIndex: 104 entries, 0 to 103\n",
      "Data columns (total 14 columns):\n",
      " #   Column    Non-Null Count  Dtype  \n",
      "---  ------    --------------  -----  \n",
      " 0   case      104 non-null    int64  \n",
      " 1   site      104 non-null    int64  \n",
      " 2   Pop       104 non-null    object \n",
      " 3   sex       104 non-null    object \n",
      " 4   age       102 non-null    float64\n",
      " 5   hdlngth   104 non-null    float64\n",
      " 6   skullw    104 non-null    float64\n",
      " 7   totlngth  104 non-null    float64\n",
      " 8   taill     104 non-null    float64\n",
      " 9   footlgth  103 non-null    float64\n",
      " 10  earconch  104 non-null    float64\n",
      " 11  eye       104 non-null    float64\n",
      " 12  chest     104 non-null    float64\n",
      " 13  belly     104 non-null    float64\n",
      "dtypes: float64(10), int64(2), object(2)\n",
      "memory usage: 11.5+ KB\n"
     ]
    }
   ],
   "source": [
    "df.info()"
   ]
  },
  {
   "cell_type": "code",
   "execution_count": 122,
   "id": "3360fffa",
   "metadata": {},
   "outputs": [
    {
     "data": {
      "text/plain": [
       "case        0\n",
       "site        0\n",
       "Pop         0\n",
       "sex         0\n",
       "age         2\n",
       "hdlngth     0\n",
       "skullw      0\n",
       "totlngth    0\n",
       "taill       0\n",
       "footlgth    1\n",
       "earconch    0\n",
       "eye         0\n",
       "chest       0\n",
       "belly       0\n",
       "dtype: int64"
      ]
     },
     "execution_count": 122,
     "metadata": {},
     "output_type": "execute_result"
    }
   ],
   "source": [
    "df.isna().sum()"
   ]
  },
  {
   "cell_type": "code",
   "execution_count": 123,
   "id": "5acfb03f",
   "metadata": {},
   "outputs": [
    {
     "data": {
      "text/plain": [
       "(104, 14)"
      ]
     },
     "execution_count": 123,
     "metadata": {},
     "output_type": "execute_result"
    }
   ],
   "source": [
    "df.shape"
   ]
  },
  {
   "cell_type": "code",
   "execution_count": 124,
   "id": "f2fe0739",
   "metadata": {},
   "outputs": [],
   "source": [
    "df.fillna(0, inplace= True)"
   ]
  },
  {
   "cell_type": "code",
   "execution_count": 125,
   "id": "e2c995a9",
   "metadata": {},
   "outputs": [
    {
     "data": {
      "text/plain": [
       "case        0\n",
       "site        0\n",
       "Pop         0\n",
       "sex         0\n",
       "age         0\n",
       "hdlngth     0\n",
       "skullw      0\n",
       "totlngth    0\n",
       "taill       0\n",
       "footlgth    0\n",
       "earconch    0\n",
       "eye         0\n",
       "chest       0\n",
       "belly       0\n",
       "dtype: int64"
      ]
     },
     "execution_count": 125,
     "metadata": {},
     "output_type": "execute_result"
    }
   ],
   "source": [
    "df.isna().sum()"
   ]
  },
  {
   "cell_type": "code",
   "execution_count": 126,
   "id": "8f9044ff",
   "metadata": {},
   "outputs": [],
   "source": [
    "df.rename(columns={\"hdlngth\":\"head length\",\"skullw\":\"skull width\", \"totlngth\":\"total length\",\"footlgth\":\"foot length\"}, inplace= True)"
   ]
  },
  {
   "cell_type": "code",
   "execution_count": 127,
   "id": "b86e9561",
   "metadata": {},
   "outputs": [
    {
     "data": {
      "text/html": [
       "<div>\n",
       "<style scoped>\n",
       "    .dataframe tbody tr th:only-of-type {\n",
       "        vertical-align: middle;\n",
       "    }\n",
       "\n",
       "    .dataframe tbody tr th {\n",
       "        vertical-align: top;\n",
       "    }\n",
       "\n",
       "    .dataframe thead th {\n",
       "        text-align: right;\n",
       "    }\n",
       "</style>\n",
       "<table border=\"1\" class=\"dataframe\">\n",
       "  <thead>\n",
       "    <tr style=\"text-align: right;\">\n",
       "      <th></th>\n",
       "      <th>case</th>\n",
       "      <th>site</th>\n",
       "      <th>Pop</th>\n",
       "      <th>sex</th>\n",
       "      <th>age</th>\n",
       "      <th>head length</th>\n",
       "      <th>skull width</th>\n",
       "      <th>total length</th>\n",
       "      <th>taill</th>\n",
       "      <th>foot length</th>\n",
       "      <th>earconch</th>\n",
       "      <th>eye</th>\n",
       "      <th>chest</th>\n",
       "      <th>belly</th>\n",
       "    </tr>\n",
       "  </thead>\n",
       "  <tbody>\n",
       "    <tr>\n",
       "      <th>0</th>\n",
       "      <td>1</td>\n",
       "      <td>1</td>\n",
       "      <td>Vic</td>\n",
       "      <td>m</td>\n",
       "      <td>8.0</td>\n",
       "      <td>94.1</td>\n",
       "      <td>60.4</td>\n",
       "      <td>89.0</td>\n",
       "      <td>36.0</td>\n",
       "      <td>74.5</td>\n",
       "      <td>54.5</td>\n",
       "      <td>15.2</td>\n",
       "      <td>28.0</td>\n",
       "      <td>36.0</td>\n",
       "    </tr>\n",
       "    <tr>\n",
       "      <th>1</th>\n",
       "      <td>2</td>\n",
       "      <td>1</td>\n",
       "      <td>Vic</td>\n",
       "      <td>f</td>\n",
       "      <td>6.0</td>\n",
       "      <td>92.5</td>\n",
       "      <td>57.6</td>\n",
       "      <td>91.5</td>\n",
       "      <td>36.5</td>\n",
       "      <td>72.5</td>\n",
       "      <td>51.2</td>\n",
       "      <td>16.0</td>\n",
       "      <td>28.5</td>\n",
       "      <td>33.0</td>\n",
       "    </tr>\n",
       "    <tr>\n",
       "      <th>2</th>\n",
       "      <td>3</td>\n",
       "      <td>1</td>\n",
       "      <td>Vic</td>\n",
       "      <td>f</td>\n",
       "      <td>6.0</td>\n",
       "      <td>94.0</td>\n",
       "      <td>60.0</td>\n",
       "      <td>95.5</td>\n",
       "      <td>39.0</td>\n",
       "      <td>75.4</td>\n",
       "      <td>51.9</td>\n",
       "      <td>15.5</td>\n",
       "      <td>30.0</td>\n",
       "      <td>34.0</td>\n",
       "    </tr>\n",
       "    <tr>\n",
       "      <th>3</th>\n",
       "      <td>4</td>\n",
       "      <td>1</td>\n",
       "      <td>Vic</td>\n",
       "      <td>f</td>\n",
       "      <td>6.0</td>\n",
       "      <td>93.2</td>\n",
       "      <td>57.1</td>\n",
       "      <td>92.0</td>\n",
       "      <td>38.0</td>\n",
       "      <td>76.1</td>\n",
       "      <td>52.2</td>\n",
       "      <td>15.2</td>\n",
       "      <td>28.0</td>\n",
       "      <td>34.0</td>\n",
       "    </tr>\n",
       "    <tr>\n",
       "      <th>4</th>\n",
       "      <td>5</td>\n",
       "      <td>1</td>\n",
       "      <td>Vic</td>\n",
       "      <td>f</td>\n",
       "      <td>2.0</td>\n",
       "      <td>91.5</td>\n",
       "      <td>56.3</td>\n",
       "      <td>85.5</td>\n",
       "      <td>36.0</td>\n",
       "      <td>71.0</td>\n",
       "      <td>53.2</td>\n",
       "      <td>15.1</td>\n",
       "      <td>28.5</td>\n",
       "      <td>33.0</td>\n",
       "    </tr>\n",
       "    <tr>\n",
       "      <th>...</th>\n",
       "      <td>...</td>\n",
       "      <td>...</td>\n",
       "      <td>...</td>\n",
       "      <td>...</td>\n",
       "      <td>...</td>\n",
       "      <td>...</td>\n",
       "      <td>...</td>\n",
       "      <td>...</td>\n",
       "      <td>...</td>\n",
       "      <td>...</td>\n",
       "      <td>...</td>\n",
       "      <td>...</td>\n",
       "      <td>...</td>\n",
       "      <td>...</td>\n",
       "    </tr>\n",
       "    <tr>\n",
       "      <th>99</th>\n",
       "      <td>100</td>\n",
       "      <td>7</td>\n",
       "      <td>other</td>\n",
       "      <td>m</td>\n",
       "      <td>1.0</td>\n",
       "      <td>89.5</td>\n",
       "      <td>56.0</td>\n",
       "      <td>81.5</td>\n",
       "      <td>36.5</td>\n",
       "      <td>66.0</td>\n",
       "      <td>46.8</td>\n",
       "      <td>14.8</td>\n",
       "      <td>23.0</td>\n",
       "      <td>27.0</td>\n",
       "    </tr>\n",
       "    <tr>\n",
       "      <th>100</th>\n",
       "      <td>101</td>\n",
       "      <td>7</td>\n",
       "      <td>other</td>\n",
       "      <td>m</td>\n",
       "      <td>1.0</td>\n",
       "      <td>88.6</td>\n",
       "      <td>54.7</td>\n",
       "      <td>82.5</td>\n",
       "      <td>39.0</td>\n",
       "      <td>64.4</td>\n",
       "      <td>48.0</td>\n",
       "      <td>14.0</td>\n",
       "      <td>25.0</td>\n",
       "      <td>33.0</td>\n",
       "    </tr>\n",
       "    <tr>\n",
       "      <th>101</th>\n",
       "      <td>102</td>\n",
       "      <td>7</td>\n",
       "      <td>other</td>\n",
       "      <td>f</td>\n",
       "      <td>6.0</td>\n",
       "      <td>92.4</td>\n",
       "      <td>55.0</td>\n",
       "      <td>89.0</td>\n",
       "      <td>38.0</td>\n",
       "      <td>63.5</td>\n",
       "      <td>45.4</td>\n",
       "      <td>13.0</td>\n",
       "      <td>25.0</td>\n",
       "      <td>30.0</td>\n",
       "    </tr>\n",
       "    <tr>\n",
       "      <th>102</th>\n",
       "      <td>103</td>\n",
       "      <td>7</td>\n",
       "      <td>other</td>\n",
       "      <td>m</td>\n",
       "      <td>4.0</td>\n",
       "      <td>91.5</td>\n",
       "      <td>55.2</td>\n",
       "      <td>82.5</td>\n",
       "      <td>36.5</td>\n",
       "      <td>62.9</td>\n",
       "      <td>45.9</td>\n",
       "      <td>15.4</td>\n",
       "      <td>25.0</td>\n",
       "      <td>29.0</td>\n",
       "    </tr>\n",
       "    <tr>\n",
       "      <th>103</th>\n",
       "      <td>104</td>\n",
       "      <td>7</td>\n",
       "      <td>other</td>\n",
       "      <td>f</td>\n",
       "      <td>3.0</td>\n",
       "      <td>93.6</td>\n",
       "      <td>59.9</td>\n",
       "      <td>89.0</td>\n",
       "      <td>40.0</td>\n",
       "      <td>67.6</td>\n",
       "      <td>46.0</td>\n",
       "      <td>14.8</td>\n",
       "      <td>28.5</td>\n",
       "      <td>33.5</td>\n",
       "    </tr>\n",
       "  </tbody>\n",
       "</table>\n",
       "<p>104 rows × 14 columns</p>\n",
       "</div>"
      ],
      "text/plain": [
       "     case  site    Pop sex  age  head length  skull width  total length  \\\n",
       "0       1     1    Vic   m  8.0         94.1         60.4          89.0   \n",
       "1       2     1    Vic   f  6.0         92.5         57.6          91.5   \n",
       "2       3     1    Vic   f  6.0         94.0         60.0          95.5   \n",
       "3       4     1    Vic   f  6.0         93.2         57.1          92.0   \n",
       "4       5     1    Vic   f  2.0         91.5         56.3          85.5   \n",
       "..    ...   ...    ...  ..  ...          ...          ...           ...   \n",
       "99    100     7  other   m  1.0         89.5         56.0          81.5   \n",
       "100   101     7  other   m  1.0         88.6         54.7          82.5   \n",
       "101   102     7  other   f  6.0         92.4         55.0          89.0   \n",
       "102   103     7  other   m  4.0         91.5         55.2          82.5   \n",
       "103   104     7  other   f  3.0         93.6         59.9          89.0   \n",
       "\n",
       "     taill  foot length  earconch   eye  chest  belly  \n",
       "0     36.0         74.5      54.5  15.2   28.0   36.0  \n",
       "1     36.5         72.5      51.2  16.0   28.5   33.0  \n",
       "2     39.0         75.4      51.9  15.5   30.0   34.0  \n",
       "3     38.0         76.1      52.2  15.2   28.0   34.0  \n",
       "4     36.0         71.0      53.2  15.1   28.5   33.0  \n",
       "..     ...          ...       ...   ...    ...    ...  \n",
       "99    36.5         66.0      46.8  14.8   23.0   27.0  \n",
       "100   39.0         64.4      48.0  14.0   25.0   33.0  \n",
       "101   38.0         63.5      45.4  13.0   25.0   30.0  \n",
       "102   36.5         62.9      45.9  15.4   25.0   29.0  \n",
       "103   40.0         67.6      46.0  14.8   28.5   33.5  \n",
       "\n",
       "[104 rows x 14 columns]"
      ]
     },
     "execution_count": 127,
     "metadata": {},
     "output_type": "execute_result"
    }
   ],
   "source": [
    "df"
   ]
  },
  {
   "cell_type": "code",
   "execution_count": 128,
   "id": "8140ee58",
   "metadata": {},
   "outputs": [
    {
     "data": {
      "text/html": [
       "<div>\n",
       "<style scoped>\n",
       "    .dataframe tbody tr th:only-of-type {\n",
       "        vertical-align: middle;\n",
       "    }\n",
       "\n",
       "    .dataframe tbody tr th {\n",
       "        vertical-align: top;\n",
       "    }\n",
       "\n",
       "    .dataframe thead th {\n",
       "        text-align: right;\n",
       "    }\n",
       "</style>\n",
       "<table border=\"1\" class=\"dataframe\">\n",
       "  <thead>\n",
       "    <tr style=\"text-align: right;\">\n",
       "      <th></th>\n",
       "      <th>case</th>\n",
       "      <th>site</th>\n",
       "      <th>Pop</th>\n",
       "      <th>sex</th>\n",
       "      <th>age</th>\n",
       "      <th>head length</th>\n",
       "      <th>skull width</th>\n",
       "      <th>total length</th>\n",
       "      <th>taill</th>\n",
       "      <th>foot length</th>\n",
       "      <th>earconch</th>\n",
       "      <th>eye</th>\n",
       "      <th>chest</th>\n",
       "      <th>belly</th>\n",
       "    </tr>\n",
       "  </thead>\n",
       "  <tbody>\n",
       "    <tr>\n",
       "      <th>count</th>\n",
       "      <td>104.000000</td>\n",
       "      <td>104.000000</td>\n",
       "      <td>104</td>\n",
       "      <td>104</td>\n",
       "      <td>104.000000</td>\n",
       "      <td>104.000000</td>\n",
       "      <td>104.000000</td>\n",
       "      <td>104.000000</td>\n",
       "      <td>104.000000</td>\n",
       "      <td>104.000000</td>\n",
       "      <td>104.000000</td>\n",
       "      <td>104.000000</td>\n",
       "      <td>104.000000</td>\n",
       "      <td>104.000000</td>\n",
       "    </tr>\n",
       "    <tr>\n",
       "      <th>unique</th>\n",
       "      <td>NaN</td>\n",
       "      <td>NaN</td>\n",
       "      <td>2</td>\n",
       "      <td>2</td>\n",
       "      <td>NaN</td>\n",
       "      <td>NaN</td>\n",
       "      <td>NaN</td>\n",
       "      <td>NaN</td>\n",
       "      <td>NaN</td>\n",
       "      <td>NaN</td>\n",
       "      <td>NaN</td>\n",
       "      <td>NaN</td>\n",
       "      <td>NaN</td>\n",
       "      <td>NaN</td>\n",
       "    </tr>\n",
       "    <tr>\n",
       "      <th>top</th>\n",
       "      <td>NaN</td>\n",
       "      <td>NaN</td>\n",
       "      <td>other</td>\n",
       "      <td>m</td>\n",
       "      <td>NaN</td>\n",
       "      <td>NaN</td>\n",
       "      <td>NaN</td>\n",
       "      <td>NaN</td>\n",
       "      <td>NaN</td>\n",
       "      <td>NaN</td>\n",
       "      <td>NaN</td>\n",
       "      <td>NaN</td>\n",
       "      <td>NaN</td>\n",
       "      <td>NaN</td>\n",
       "    </tr>\n",
       "    <tr>\n",
       "      <th>freq</th>\n",
       "      <td>NaN</td>\n",
       "      <td>NaN</td>\n",
       "      <td>58</td>\n",
       "      <td>61</td>\n",
       "      <td>NaN</td>\n",
       "      <td>NaN</td>\n",
       "      <td>NaN</td>\n",
       "      <td>NaN</td>\n",
       "      <td>NaN</td>\n",
       "      <td>NaN</td>\n",
       "      <td>NaN</td>\n",
       "      <td>NaN</td>\n",
       "      <td>NaN</td>\n",
       "      <td>NaN</td>\n",
       "    </tr>\n",
       "    <tr>\n",
       "      <th>mean</th>\n",
       "      <td>52.500000</td>\n",
       "      <td>3.625000</td>\n",
       "      <td>NaN</td>\n",
       "      <td>NaN</td>\n",
       "      <td>3.759615</td>\n",
       "      <td>92.602885</td>\n",
       "      <td>56.883654</td>\n",
       "      <td>87.088462</td>\n",
       "      <td>37.009615</td>\n",
       "      <td>67.800962</td>\n",
       "      <td>48.130769</td>\n",
       "      <td>15.046154</td>\n",
       "      <td>27.000000</td>\n",
       "      <td>32.586538</td>\n",
       "    </tr>\n",
       "    <tr>\n",
       "      <th>std</th>\n",
       "      <td>30.166206</td>\n",
       "      <td>2.349086</td>\n",
       "      <td>NaN</td>\n",
       "      <td>NaN</td>\n",
       "      <td>1.963231</td>\n",
       "      <td>3.573349</td>\n",
       "      <td>3.113426</td>\n",
       "      <td>4.310549</td>\n",
       "      <td>1.959518</td>\n",
       "      <td>8.012193</td>\n",
       "      <td>4.109380</td>\n",
       "      <td>1.050374</td>\n",
       "      <td>2.045597</td>\n",
       "      <td>2.761949</td>\n",
       "    </tr>\n",
       "    <tr>\n",
       "      <th>min</th>\n",
       "      <td>1.000000</td>\n",
       "      <td>1.000000</td>\n",
       "      <td>NaN</td>\n",
       "      <td>NaN</td>\n",
       "      <td>0.000000</td>\n",
       "      <td>82.500000</td>\n",
       "      <td>50.000000</td>\n",
       "      <td>75.000000</td>\n",
       "      <td>32.000000</td>\n",
       "      <td>0.000000</td>\n",
       "      <td>40.300000</td>\n",
       "      <td>12.800000</td>\n",
       "      <td>22.000000</td>\n",
       "      <td>25.000000</td>\n",
       "    </tr>\n",
       "    <tr>\n",
       "      <th>25%</th>\n",
       "      <td>26.750000</td>\n",
       "      <td>1.000000</td>\n",
       "      <td>NaN</td>\n",
       "      <td>NaN</td>\n",
       "      <td>2.000000</td>\n",
       "      <td>90.675000</td>\n",
       "      <td>54.975000</td>\n",
       "      <td>84.000000</td>\n",
       "      <td>35.875000</td>\n",
       "      <td>64.500000</td>\n",
       "      <td>44.800000</td>\n",
       "      <td>14.400000</td>\n",
       "      <td>25.500000</td>\n",
       "      <td>31.000000</td>\n",
       "    </tr>\n",
       "    <tr>\n",
       "      <th>50%</th>\n",
       "      <td>52.500000</td>\n",
       "      <td>3.000000</td>\n",
       "      <td>NaN</td>\n",
       "      <td>NaN</td>\n",
       "      <td>3.000000</td>\n",
       "      <td>92.800000</td>\n",
       "      <td>56.350000</td>\n",
       "      <td>88.000000</td>\n",
       "      <td>37.000000</td>\n",
       "      <td>67.950000</td>\n",
       "      <td>46.800000</td>\n",
       "      <td>14.900000</td>\n",
       "      <td>27.000000</td>\n",
       "      <td>32.500000</td>\n",
       "    </tr>\n",
       "    <tr>\n",
       "      <th>75%</th>\n",
       "      <td>78.250000</td>\n",
       "      <td>6.000000</td>\n",
       "      <td>NaN</td>\n",
       "      <td>NaN</td>\n",
       "      <td>5.000000</td>\n",
       "      <td>94.725000</td>\n",
       "      <td>58.100000</td>\n",
       "      <td>90.000000</td>\n",
       "      <td>38.000000</td>\n",
       "      <td>72.500000</td>\n",
       "      <td>52.000000</td>\n",
       "      <td>15.725000</td>\n",
       "      <td>28.000000</td>\n",
       "      <td>34.125000</td>\n",
       "    </tr>\n",
       "    <tr>\n",
       "      <th>max</th>\n",
       "      <td>104.000000</td>\n",
       "      <td>7.000000</td>\n",
       "      <td>NaN</td>\n",
       "      <td>NaN</td>\n",
       "      <td>9.000000</td>\n",
       "      <td>103.100000</td>\n",
       "      <td>68.600000</td>\n",
       "      <td>96.500000</td>\n",
       "      <td>43.000000</td>\n",
       "      <td>77.900000</td>\n",
       "      <td>56.200000</td>\n",
       "      <td>17.800000</td>\n",
       "      <td>32.000000</td>\n",
       "      <td>40.000000</td>\n",
       "    </tr>\n",
       "  </tbody>\n",
       "</table>\n",
       "</div>"
      ],
      "text/plain": [
       "              case        site    Pop  sex         age  head length  \\\n",
       "count   104.000000  104.000000    104  104  104.000000   104.000000   \n",
       "unique         NaN         NaN      2    2         NaN          NaN   \n",
       "top            NaN         NaN  other    m         NaN          NaN   \n",
       "freq           NaN         NaN     58   61         NaN          NaN   \n",
       "mean     52.500000    3.625000    NaN  NaN    3.759615    92.602885   \n",
       "std      30.166206    2.349086    NaN  NaN    1.963231     3.573349   \n",
       "min       1.000000    1.000000    NaN  NaN    0.000000    82.500000   \n",
       "25%      26.750000    1.000000    NaN  NaN    2.000000    90.675000   \n",
       "50%      52.500000    3.000000    NaN  NaN    3.000000    92.800000   \n",
       "75%      78.250000    6.000000    NaN  NaN    5.000000    94.725000   \n",
       "max     104.000000    7.000000    NaN  NaN    9.000000   103.100000   \n",
       "\n",
       "        skull width  total length       taill  foot length    earconch  \\\n",
       "count    104.000000    104.000000  104.000000   104.000000  104.000000   \n",
       "unique          NaN           NaN         NaN          NaN         NaN   \n",
       "top             NaN           NaN         NaN          NaN         NaN   \n",
       "freq            NaN           NaN         NaN          NaN         NaN   \n",
       "mean      56.883654     87.088462   37.009615    67.800962   48.130769   \n",
       "std        3.113426      4.310549    1.959518     8.012193    4.109380   \n",
       "min       50.000000     75.000000   32.000000     0.000000   40.300000   \n",
       "25%       54.975000     84.000000   35.875000    64.500000   44.800000   \n",
       "50%       56.350000     88.000000   37.000000    67.950000   46.800000   \n",
       "75%       58.100000     90.000000   38.000000    72.500000   52.000000   \n",
       "max       68.600000     96.500000   43.000000    77.900000   56.200000   \n",
       "\n",
       "               eye       chest       belly  \n",
       "count   104.000000  104.000000  104.000000  \n",
       "unique         NaN         NaN         NaN  \n",
       "top            NaN         NaN         NaN  \n",
       "freq           NaN         NaN         NaN  \n",
       "mean     15.046154   27.000000   32.586538  \n",
       "std       1.050374    2.045597    2.761949  \n",
       "min      12.800000   22.000000   25.000000  \n",
       "25%      14.400000   25.500000   31.000000  \n",
       "50%      14.900000   27.000000   32.500000  \n",
       "75%      15.725000   28.000000   34.125000  \n",
       "max      17.800000   32.000000   40.000000  "
      ]
     },
     "execution_count": 128,
     "metadata": {},
     "output_type": "execute_result"
    }
   ],
   "source": [
    "df.describe(include='all')"
   ]
  },
  {
   "cell_type": "markdown",
   "id": "59a98a7d",
   "metadata": {},
   "source": [
    "**Calculating the measures of center**"
   ]
  },
  {
   "cell_type": "code",
   "execution_count": 129,
   "id": "78cb7404",
   "metadata": {},
   "outputs": [
    {
     "name": "stdout",
     "output_type": "stream",
     "text": [
      "Measure of Center for Head Length:\n",
      "Mean: 92.60\n",
      "Median: 92.80\n",
      "Mode: 93.30\n"
     ]
    }
   ],
   "source": [
    "# Calculating the measure of center for the head length\n",
    "head_length_mean = df['head length'].mean()\n",
    "head_length_median = df['head length'].median()\n",
    "head_length_mode = df['head length'].mode()\n",
    "\n",
    "print(\"Measure of Center for Head Length:\")\n",
    "print(f\"Mean: {head_length_mean:.2f}\")\n",
    "print(f\"Median: {head_length_median:.2f}\")\n",
    "print(f\"Mode: {head_length_mode[0]:.2f}\")\n"
   ]
  },
  {
   "cell_type": "code",
   "execution_count": 130,
   "id": "40e9f3b0",
   "metadata": {},
   "outputs": [
    {
     "name": "stdout",
     "output_type": "stream",
     "text": [
      "Measure of Center for Skull Width:\n",
      "Mean: 56.88\n",
      "Median: 56.35\n",
      "Mode: 57.60\n"
     ]
    }
   ],
   "source": [
    "# Calculating the measure of centre for Skull width\n",
    "skull_width_mean = df['skull width'].mean()\n",
    "skull_width_median = df['skull width'].median()\n",
    "skull_width_mode = df['skull width'].mode()\n",
    "\n",
    "print(\"Measure of Center for Skull Width:\")\n",
    "print(f\"Mean: {skull_width_mean:.2f}\")\n",
    "print(f\"Median: {skull_width_median:.2f}\")\n",
    "print(f\"Mode: {skull_width_mode[0]:.2f}\")"
   ]
  },
  {
   "cell_type": "code",
   "execution_count": 131,
   "id": "e40df33b",
   "metadata": {},
   "outputs": [
    {
     "name": "stdout",
     "output_type": "stream",
     "text": [
      "Measure of Center for Tail Length:\n",
      "Mean: 37.01\n",
      "Median: 37.00\n",
      "Mode: 38.00\n"
     ]
    }
   ],
   "source": [
    "# Calculating the measure of centre for Tail Length\n",
    "tail_length_mean = df['taill'].mean()\n",
    "tail_length_median = df['taill'].median()\n",
    "tail_length_mode = df['taill'].mode()\n",
    "\n",
    "print(\"Measure of Center for Tail Length:\")\n",
    "print(f\"Mean: {tail_length_mean:.2f}\")\n",
    "print(f\"Median: {tail_length_median:.2f}\")\n",
    "print(f\"Mode: {tail_length_mode[0]:.2f}\")"
   ]
  },
  {
   "cell_type": "code",
   "execution_count": 132,
   "id": "a8848cb6",
   "metadata": {},
   "outputs": [
    {
     "name": "stdout",
     "output_type": "stream",
     "text": [
      "Measure of Center for Total Length:\n",
      "Mean: 87.09\n",
      "Median: 88.00\n",
      "Mode: 89.00\n"
     ]
    }
   ],
   "source": [
    "# Calculating the measure of centre for Total Length\n",
    "total_length_mean = df['total length'].mean()\n",
    "total_length_median = df['total length'].median()\n",
    "total_length_mode = df['total length'].mode()\n",
    "\n",
    "print(\"Measure of Center for Total Length:\")\n",
    "print(f\"Mean: {total_length_mean:.2f}\")\n",
    "print(f\"Median: {total_length_median:.2f}\")\n",
    "print(f\"Mode: {total_length_mode[0]:.2f}\")"
   ]
  },
  {
   "cell_type": "markdown",
   "id": "77bc3ec5",
   "metadata": {},
   "source": [
    "**Calculating the measures of spread**"
   ]
  },
  {
   "cell_type": "code",
   "execution_count": 133,
   "id": "fae357d7",
   "metadata": {},
   "outputs": [
    {
     "data": {
      "text/plain": [
       "np.float64(21.0)"
      ]
     },
     "execution_count": 133,
     "metadata": {},
     "output_type": "execute_result"
    }
   ],
   "source": [
    "# calculating the range for Head Length\n",
    "min_value = df['head length'].min()\n",
    "max_value = df['head length'].max()\n",
    "head_length_range = max_value - min_value\n",
    "head_length_range.round()\n"
   ]
  },
  {
   "cell_type": "code",
   "execution_count": 134,
   "id": "ae15cbe3",
   "metadata": {},
   "outputs": [
    {
     "data": {
      "text/plain": [
       "np.float64(19.0)"
      ]
     },
     "execution_count": 134,
     "metadata": {},
     "output_type": "execute_result"
    }
   ],
   "source": [
    "# calculating the range for Skull Width\n",
    "min_value = df['skull width'].min()\n",
    "max_value = df['skull width'].max()\n",
    "skull_width_range = max_value - min_value\n",
    "skull_width_range.round()"
   ]
  },
  {
   "cell_type": "code",
   "execution_count": 135,
   "id": "80f257da",
   "metadata": {},
   "outputs": [
    {
     "data": {
      "text/plain": [
       "np.float64(11.0)"
      ]
     },
     "execution_count": 135,
     "metadata": {},
     "output_type": "execute_result"
    }
   ],
   "source": [
    "# calculating the range for Tail Length\n",
    "min_value = df['taill'].min()\n",
    "max_value = df['taill'].max()\n",
    "tail_range = max_value - min_value\n",
    "tail_range.round()"
   ]
  },
  {
   "cell_type": "code",
   "execution_count": 136,
   "id": "10bdf1a8",
   "metadata": {},
   "outputs": [
    {
     "data": {
      "text/plain": [
       "np.float64(22.0)"
      ]
     },
     "execution_count": 136,
     "metadata": {},
     "output_type": "execute_result"
    }
   ],
   "source": [
    "# calculating the range for Total Length\n",
    "min_value = df['total length'].min()\n",
    "max_value = df['total length'].max()\n",
    "total_length_range = max_value - min_value\n",
    "total_length_range.round()"
   ]
  },
  {
   "cell_type": "code",
   "execution_count": 137,
   "id": "f8ab1510",
   "metadata": {},
   "outputs": [
    {
     "name": "stdout",
     "output_type": "stream",
     "text": [
      "Variance: 12.77\n",
      "Standard Deviation: 3.57\n"
     ]
    }
   ],
   "source": [
    "# Calculating the measures of spread for Head Length\n",
    "variance_of_head_length = df['head length'].var()\n",
    "std_of_head_length = df['head length'].std()\n",
    "print(f\"Variance: {variance_of_head_length:.2f}\")\n",
    "print(f\"Standard Deviation: {std_of_head_length:.2f}\")"
   ]
  },
  {
   "cell_type": "code",
   "execution_count": 138,
   "id": "b807ac3a",
   "metadata": {},
   "outputs": [
    {
     "name": "stdout",
     "output_type": "stream",
     "text": [
      "Variance: 9.69\n",
      "Standard Deviation: 3.11\n"
     ]
    }
   ],
   "source": [
    "# Calculating the measures of spread for Skull Width\n",
    "variance_of_skull_width = df['skull width'].var()\n",
    "std_of_skull_width = df['skull width'].std()\n",
    "print(f\"Variance: {variance_of_skull_width:.2f}\")\n",
    "print(f\"Standard Deviation: {std_of_skull_width:.2f}\")"
   ]
  },
  {
   "cell_type": "code",
   "execution_count": 139,
   "id": "318c91ae",
   "metadata": {},
   "outputs": [
    {
     "name": "stdout",
     "output_type": "stream",
     "text": [
      "Variance: 3.84\n",
      "Standard Deviation: 1.96\n"
     ]
    }
   ],
   "source": [
    "# Calculating the measures of spread for Tail Length\n",
    "variance_of_tail_length = df['taill'].var()\n",
    "std_of_tail_length = df['taill'].std()\n",
    "print(f\"Variance: {variance_of_tail_length:.2f}\")\n",
    "print(f\"Standard Deviation: {std_of_tail_length:.2f}\")"
   ]
  },
  {
   "cell_type": "code",
   "execution_count": 140,
   "id": "9eb6355b",
   "metadata": {},
   "outputs": [
    {
     "name": "stdout",
     "output_type": "stream",
     "text": [
      "Variance: 18.58\n",
      "Standard Deviation: 4.31\n"
     ]
    }
   ],
   "source": [
    "# Calculating the measures of spread for Total Length\n",
    "variance_of_total_length = df['total length'].var()\n",
    "std_of_total_length = df['total length'].std()\n",
    "print(f\"Variance: {variance_of_total_length:.2f}\")\n",
    "print(f\"Standard Deviation: {std_of_total_length:.2f}\")"
   ]
  },
  {
   "cell_type": "code",
   "execution_count": 141,
   "id": "baca5840",
   "metadata": {},
   "outputs": [
    {
     "name": "stdout",
     "output_type": "stream",
     "text": [
      "Q1: 90.675\n",
      "Q2: 92.8\n",
      "Q3: 94.725\n"
     ]
    }
   ],
   "source": [
    "# Calculating the Quartile values \n",
    "data1 = df['head length'].values\n",
    "q1_head = np.quantile(data1, 0.25)\n",
    "q2_head = np.quantile(data1, 0.50)\n",
    "q3_head = np.quantile(data1, 0.75)\n",
    "\n",
    "print(f\"Q1: {q1_head}\")\n",
    "print(f\"Q2: {q2_head}\")\n",
    "print(f\"Q3: {q3_head}\")"
   ]
  },
  {
   "cell_type": "code",
   "execution_count": 142,
   "id": "bd8fabf6",
   "metadata": {},
   "outputs": [
    {
     "name": "stdout",
     "output_type": "stream",
     "text": [
      "Q1: 54.975\n",
      "Q2: 56.350\n",
      "Q3: 58.1\n"
     ]
    }
   ],
   "source": [
    "# Calculating the Quartile values \n",
    "data2 = df['skull width'].values\n",
    "q1_skull = np.quantile(data2, 0.25)\n",
    "q2_skull = np.quantile(data2, 0.50)\n",
    "q3_skull = np.quantile(data2, 0.75)\n",
    "\n",
    "print(f\"Q1: {q1_skull}\")\n",
    "print(f\"Q2: {q2_skull:.3f}\")\n",
    "print(f\"Q3: {q3_skull}\")"
   ]
  },
  {
   "cell_type": "code",
   "execution_count": 143,
   "id": "5fb7d7ab",
   "metadata": {},
   "outputs": [
    {
     "name": "stdout",
     "output_type": "stream",
     "text": [
      "Q1: 35.875\n",
      "Q2: 37.0\n",
      "Q3: 38.0\n"
     ]
    }
   ],
   "source": [
    "# Calculating the Quartile values \n",
    "data3 = df['taill'].values\n",
    "q1_tail = np.quantile(data3, 0.25)\n",
    "q2_tail = np.quantile(data3, 0.50)\n",
    "q3_tail = np.quantile(data3, 0.75)\n",
    "\n",
    "print(f\"Q1: {q1_tail}\")\n",
    "print(f\"Q2: {q2_tail}\")\n",
    "print(f\"Q3: {q3_tail}\")"
   ]
  },
  {
   "cell_type": "code",
   "execution_count": 144,
   "id": "4f47b702",
   "metadata": {},
   "outputs": [
    {
     "name": "stdout",
     "output_type": "stream",
     "text": [
      "Q1: 84.0\n",
      "Q2: 88.0\n",
      "Q3: 90.0\n"
     ]
    }
   ],
   "source": [
    "# Calculating the Quartile values \n",
    "data4 = df['total length'].values\n",
    "q1_tot = np.quantile(data4, 0.25)\n",
    "q2_tot = np.quantile(data4, 0.50)\n",
    "q3_tot= np.quantile(data4, 0.75)\n",
    "\n",
    "print(f\"Q1: {q1_tot}\")\n",
    "print(f\"Q2: {q2_tot}\")\n",
    "print(f\"Q3: {q3_tot}\")"
   ]
  },
  {
   "cell_type": "code",
   "execution_count": 145,
   "id": "be0ebaa6",
   "metadata": {},
   "outputs": [
    {
     "name": "stdout",
     "output_type": "stream",
     "text": [
      "IQR: 4.05\n"
     ]
    }
   ],
   "source": [
    "# Interquartile Range for Head Length\n",
    "iqr_head = q3_head - q1_head\n",
    "print(f\"IQR: {iqr_head:.2f}\")"
   ]
  },
  {
   "cell_type": "code",
   "execution_count": 146,
   "id": "a9027cf3",
   "metadata": {},
   "outputs": [
    {
     "name": "stdout",
     "output_type": "stream",
     "text": [
      "IQR: 3.12\n"
     ]
    }
   ],
   "source": [
    "# Interquartile Range for Skull Width\n",
    "iqr_skull = q3_skull - q1_skull\n",
    "print(f\"IQR: {iqr_skull:.2f}\")"
   ]
  },
  {
   "cell_type": "code",
   "execution_count": 147,
   "id": "d6c60220",
   "metadata": {},
   "outputs": [
    {
     "name": "stdout",
     "output_type": "stream",
     "text": [
      "IQR: 2.12\n"
     ]
    }
   ],
   "source": [
    "# Interquartile Range for Tail Length\n",
    "iqr_tail = q3_tail - q1_tail\n",
    "print(f\"IQR: {iqr_tail:.2f}\")"
   ]
  },
  {
   "cell_type": "code",
   "execution_count": 148,
   "id": "b8b0a9d5",
   "metadata": {},
   "outputs": [
    {
     "name": "stdout",
     "output_type": "stream",
     "text": [
      "IQR: 6.00\n"
     ]
    }
   ],
   "source": [
    "# Interquartile Range for Total Length\n",
    "iqr_tot = q3_tot - q1_tot\n",
    "print(f\"IQR: {iqr_tot:.2f}\")"
   ]
  },
  {
   "cell_type": "code",
   "execution_count": 154,
   "id": "25fb3f5c",
   "metadata": {},
   "outputs": [
    {
     "name": "stdout",
     "output_type": "stream",
     "text": [
      "Lower Bound: 84.6\n",
      "Upper Bound: 100.80\n"
     ]
    }
   ],
   "source": [
    "# Calculating the outlier thresholds for Head Length\n",
    "lower_bound_head = q1_head - (1.5 * iqr_head)\n",
    "upper_bound_head = q3_head + (1.5 * iqr_head)\n",
    "\n",
    "print(f\"Lower Bound: {lower_bound_head}\")\n",
    "print(f\"Upper Bound: {upper_bound_head:.2f}\")"
   ]
  },
  {
   "cell_type": "code",
   "execution_count": 155,
   "id": "2f91b56d",
   "metadata": {},
   "outputs": [
    {
     "name": "stdout",
     "output_type": "stream",
     "text": [
      "Lower Bound: 50.2875\n",
      "Upper Bound: 62.79\n"
     ]
    }
   ],
   "source": [
    "# Calculating the outlier thresholds for skull Width\n",
    "lower_bound_skull = q1_skull - (1.5 * iqr_skull)\n",
    "upper_bound_skull = q3_skull + (1.5 * iqr_skull)\n",
    "\n",
    "print(f\"Lower Bound: {lower_bound_skull}\")\n",
    "print(f\"Upper Bound: {upper_bound_skull:.2f}\")"
   ]
  },
  {
   "cell_type": "code",
   "execution_count": 156,
   "id": "480e5a12",
   "metadata": {},
   "outputs": [
    {
     "name": "stdout",
     "output_type": "stream",
     "text": [
      "Lower Bound: 32.6875\n",
      "Upper Bound: 41.19\n"
     ]
    }
   ],
   "source": [
    "# Calculating the outlier thresholds for Head Length\n",
    "lower_bound_tail = q1_tail - (1.5 * iqr_tail)\n",
    "upper_bound_tail = q3_tail + (1.5 * iqr_tail)\n",
    "\n",
    "print(f\"Lower Bound: {lower_bound_tail}\")\n",
    "print(f\"Upper Bound: {upper_bound_tail:.2f}\")"
   ]
  },
  {
   "cell_type": "code",
   "execution_count": 157,
   "id": "d1542233",
   "metadata": {},
   "outputs": [
    {
     "name": "stdout",
     "output_type": "stream",
     "text": [
      "Lower Bound: 75.0\n",
      "Upper Bound: 99.00\n"
     ]
    }
   ],
   "source": [
    "# Calculating the outlier thresholds for Total Length\n",
    "lower_bound_tot = q1_tot - (1.5 * iqr_tot)\n",
    "upper_bound_tot = q3_tot + (1.5 * iqr_tot)\n",
    "\n",
    "print(f\"Lower Bound: {lower_bound_tot}\")\n",
    "print(f\"Upper Bound: {upper_bound_tot:.2f}\")"
   ]
  },
  {
   "cell_type": "code",
   "execution_count": 158,
   "id": "533a6459",
   "metadata": {},
   "outputs": [
    {
     "name": "stdout",
     "output_type": "stream",
     "text": [
      "Outliers: [103.1 102.5  82.5]\n"
     ]
    }
   ],
   "source": [
    "# Detecting Outliers For Head Length\n",
    "outliers_head = data1[(data1 < lower_bound_head) | (data1 > upper_bound_head)]\n",
    "print(f\"Outliers: {outliers_head}\")"
   ]
  },
  {
   "cell_type": "code",
   "execution_count": 159,
   "id": "09359caa",
   "metadata": {},
   "outputs": [
    {
     "name": "stdout",
     "output_type": "stream",
     "text": [
      "Outliers: [67.7 63.2 63.  63.2 64.2 62.8 50.  68.6]\n"
     ]
    }
   ],
   "source": [
    "# Detecting Outliers For Skull Width\n",
    "outliers_skull = data2[(data2 < lower_bound_skull) | (data2 > upper_bound_skull)]\n",
    "print(f\"Outliers: {outliers_skull}\")"
   ]
  },
  {
   "cell_type": "code",
   "execution_count": 160,
   "id": "1efd73f2",
   "metadata": {},
   "outputs": [
    {
     "name": "stdout",
     "output_type": "stream",
     "text": [
      "Outliers: [32.  32.  43.  41.5]\n"
     ]
    }
   ],
   "source": [
    "# Detecting Outliers For Tail Length\n",
    "outliers_tail = data3[(data3 < lower_bound_tail) | (data3 > upper_bound_tail)]\n",
    "print(f\"Outliers: {outliers_tail}\")"
   ]
  },
  {
   "cell_type": "code",
   "execution_count": 161,
   "id": "1bb378fb",
   "metadata": {},
   "outputs": [
    {
     "name": "stdout",
     "output_type": "stream",
     "text": [
      "Outliers: []\n"
     ]
    }
   ],
   "source": [
    "# Detecting Outliers For Total Length\n",
    "outliers_tot = data4[(data4 < lower_bound_tot) | (data4 > upper_bound_tot)]\n",
    "print(f\"Outliers: {outliers_tot}\")"
   ]
  },
  {
   "cell_type": "code",
   "execution_count": 162,
   "id": "d0e54c1e",
   "metadata": {},
   "outputs": [
    {
     "data": {
      "image/png": "[encoded data removed]",
      "text/plain": [
       "<Figure size 1000x600 with 1 Axes>"
      ]
     },
     "metadata": {},
     "output_type": "display_data"
    },
    {
     "name": "stdout",
     "output_type": "stream",
     "text": [
      "Q1 (25th percentile): 90.67\n",
      "Q2 (Median, 50th percentile): 92.80\n",
      "Q3 (75th percentile): 94.72\n",
      "IQR (Q3 - Q1): 4.05\n",
      "Lower Bound for Outliers: 84.60\n",
      "Upper Bound for Outliers: 100.80\n",
      "Outliers Detected: [np.float64(103.1), np.float64(102.5), np.float64(82.5)]\n"
     ]
    }
   ],
   "source": [
    "plt.figure(figsize=(10, 6))\n",
    "box = plt.boxplot(data1, vert=False, patch_artist=True,\n",
    "                  boxprops=dict(facecolor=\"skyblue\", color=\"black\"),\n",
    "                  medianprops=dict(color=\"red\", linewidth=2),\n",
    "                  whiskerprops=dict(color=\"black\"),\n",
    "                  capprops=dict(color=\"black\"),\n",
    "                  flierprops=dict(markerfacecolor=\"orange\", marker='o', markersize=8, linestyle=\"none\"))\n",
    "\n",
    "# Annotate Quartiles\n",
    "plt.axvline(q1_head, color=\"blue\", linestyle=\"--\", label=f\"Q1 = {q1_head:.1f}\")\n",
    "plt.axvline(q2_head, color=\"red\", linestyle=\"--\", label=f\"Median (Q2) = {q2_head:.1f}\")\n",
    "plt.axvline(q3_head, color=\"green\", linestyle=\"--\", label=f\"Q3 = {q3_head:.1f}\")\n",
    "\n",
    "# Annotate outliers if present\n",
    "for outlier in outliers_head:\n",
    "    plt.text(outlier, 1.05, f\"{outlier:.0f}\", ha=\"center\", va=\"bottom\", color=\"darkorange\", fontsize=9)\n",
    "\n",
    "# Titles and labels\n",
    "plt.title(\"Boxplot of the Head Length of Possum with Quartiles & Outliers\", fontsize=14)\n",
    "plt.xlabel(\"Data (%)\")\n",
    "plt.legend()\n",
    "\n",
    "plt.show()\n",
    "\n",
    "# Print results\n",
    "print(f\"Q1 (25th percentile): {q1_head:.2f}\")\n",
    "print(f\"Q2 (Median, 50th percentile): {q2_head:.2f}\")\n",
    "print(f\"Q3 (75th percentile): {q3_head:.2f}\")\n",
    "print(f\"IQR (Q3 - Q1): {iqr_head:.2f}\")\n",
    "print(f\"Lower Bound for Outliers: {lower_bound_head:.2f}\")\n",
    "print(f\"Upper Bound for Outliers: {upper_bound_head:.2f}\")\n",
    "print(f\"Outliers Detected: {list(outliers_head)}\")\n"
   ]
  },
  {
   "cell_type": "code",
   "execution_count": 165,
   "id": "ce0e4ca6",
   "metadata": {},
   "outputs": [
    {
     "data": {
      "image/png": "[encoded data removed]",
      "text/plain": [
       "<Figure size 1000x600 with 1 Axes>"
      ]
     },
     "metadata": {},
     "output_type": "display_data"
    },
    {
     "name": "stdout",
     "output_type": "stream",
     "text": [
      "Q1 (25th percentile): 54.98\n",
      "Q2 (Median, 50th percentile): 56.35\n",
      "Q3 (75th percentile): 58.10\n",
      "IQR (Q3 - Q1): 3.12\n",
      "Lower Bound for Outliers: 50.29\n",
      "Upper Bound for Outliers: 62.79\n",
      "Outliers Detected: [np.float64(67.7), np.float64(63.2), np.float64(63.0), np.float64(63.2), np.float64(64.2), np.float64(62.8), np.float64(50.0), np.float64(68.6)]\n"
     ]
    }
   ],
   "source": [
    "plt.figure(figsize=(10, 6))\n",
    "box = plt.boxplot(data2, vert=False, patch_artist=True,\n",
    "                  boxprops=dict(facecolor=\"skyblue\", color=\"black\"),\n",
    "                  medianprops=dict(color=\"red\", linewidth=2),\n",
    "                  whiskerprops=dict(color=\"black\"),\n",
    "                  capprops=dict(color=\"black\"),\n",
    "                  flierprops=dict(markerfacecolor=\"orange\", marker='o', markersize=8, linestyle=\"none\"))\n",
    "\n",
    "# Annotate Quartiles\n",
    "plt.axvline(q1_skull, color=\"blue\", linestyle=\"--\", label=f\"Q1 = {q1_skull:.1f}\")\n",
    "plt.axvline(q2_skull, color=\"red\", linestyle=\"--\", label=f\"Median (Q2) = {q2_skull:.1f}\")\n",
    "plt.axvline(q3_skull, color=\"green\", linestyle=\"--\", label=f\"Q3 = {q3_skull:.1f}\")\n",
    "\n",
    "# Annotate outliers if present\n",
    "for outlier in outliers_skull:\n",
    "    plt.text(outlier, 1.05, f\"{outlier:.0f}\", ha=\"center\", va=\"bottom\", color=\"darkorange\", fontsize=9)\n",
    "\n",
    "# Titles and labels\n",
    "plt.title(\"Boxplot of the Skull Width of Possum with Quartiles & Outliers\", fontsize=14)\n",
    "plt.xlabel(\"Data (%)\")\n",
    "plt.legend()\n",
    "\n",
    "plt.show()\n",
    "\n",
    "# Print results\n",
    "print(f\"Q1 (25th percentile): {q1_skull:.2f}\")\n",
    "print(f\"Q2 (Median, 50th percentile): {q2_skull:.2f}\")\n",
    "print(f\"Q3 (75th percentile): {q3_skull:.2f}\")\n",
    "print(f\"IQR (Q3 - Q1): {iqr_skull:.2f}\")\n",
    "print(f\"Lower Bound for Outliers: {lower_bound_skull:.2f}\")\n",
    "print(f\"Upper Bound for Outliers: {upper_bound_skull:.2f}\")\n",
    "print(f\"Outliers Detected: {list(outliers_skull)}\")\n"
   ]
  },
  {
   "cell_type": "code",
   "execution_count": 166,
   "id": "7e778d2d",
   "metadata": {},
   "outputs": [
    {
     "data": {
      "image/png": "[encoded data removed]",
      "text/plain": [
       "<Figure size 1000x600 with 1 Axes>"
      ]
     },
     "metadata": {},
     "output_type": "display_data"
    },
    {
     "name": "stdout",
     "output_type": "stream",
     "text": [
      "Q1 (25th percentile): 35.88\n",
      "Q2 (Median, 50th percentile): 37.00\n",
      "Q3 (75th percentile): 38.00\n",
      "IQR (Q3 - Q1): 2.12\n",
      "Lower Bound for Outliers: 32.69\n",
      "Upper Bound for Outliers: 41.19\n",
      "Outliers Detected: [np.float64(32.0), np.float64(32.0), np.float64(43.0), np.float64(41.5)]\n"
     ]
    }
   ],
   "source": [
    "plt.figure(figsize=(10, 6))\n",
    "box = plt.boxplot(data3, vert=False, patch_artist=True,\n",
    "                  boxprops=dict(facecolor=\"skyblue\", color=\"black\"),\n",
    "                  medianprops=dict(color=\"red\", linewidth=2),\n",
    "                  whiskerprops=dict(color=\"black\"),\n",
    "                  capprops=dict(color=\"black\"),\n",
    "                  flierprops=dict(markerfacecolor=\"orange\", marker='o', markersize=8, linestyle=\"none\"))\n",
    "\n",
    "# Annotate Quartiles\n",
    "plt.axvline(q1_tail, color=\"blue\", linestyle=\"--\", label=f\"Q1 = {q1_tail:.1f}\")\n",
    "plt.axvline(q2_tail, color=\"red\", linestyle=\"--\", label=f\"Median (Q2) = {q2_tail:.1f}\")\n",
    "plt.axvline(q3_tail, color=\"green\", linestyle=\"--\", label=f\"Q3 = {q3_tail:.1f}\")\n",
    "\n",
    "# Annotate outliers if present\n",
    "for outlier in outliers_tail:\n",
    "    plt.text(outlier, 1.05, f\"{outlier:.0f}\", ha=\"center\", va=\"bottom\", color=\"darkorange\", fontsize=9)\n",
    "\n",
    "# Titles and labels\n",
    "plt.title(\"Boxplot of the Tail Length of Possum with Quartiles & Outliers\", fontsize=14)\n",
    "plt.xlabel(\"Data (%)\")\n",
    "plt.legend()\n",
    "\n",
    "plt.show()\n",
    "\n",
    "# Print results\n",
    "print(f\"Q1 (25th percentile): {q1_tail:.2f}\")\n",
    "print(f\"Q2 (Median, 50th percentile): {q2_tail:.2f}\")\n",
    "print(f\"Q3 (75th percentile): {q3_tail:.2f}\")\n",
    "print(f\"IQR (Q3 - Q1): {iqr_tail:.2f}\")\n",
    "print(f\"Lower Bound for Outliers: {lower_bound_tail:.2f}\")\n",
    "print(f\"Upper Bound for Outliers: {upper_bound_tail:.2f}\")\n",
    "print(f\"Outliers Detected: {list(outliers_tail)}\")\n"
   ]
  },
  {
   "cell_type": "code",
   "execution_count": 168,
   "id": "44b65179",
   "metadata": {},
   "outputs": [
    {
     "data": {
      "image/png": "[encoded data removed]",
      "text/plain": [
       "<Figure size 1000x600 with 1 Axes>"
      ]
     },
     "metadata": {},
     "output_type": "display_data"
    },
    {
     "name": "stdout",
     "output_type": "stream",
     "text": [
      "Q1 (25th percentile): 84.00\n",
      "Q2 (Median, 50th percentile): 88.00\n",
      "Q3 (75th percentile): 90.00\n",
      "IQR (Q3 - Q1): 6.00\n",
      "Lower Bound for Outliers: 75.00\n",
      "Upper Bound for Outliers: 99.00\n",
      "Outliers Detected: []\n"
     ]
    }
   ],
   "source": [
    "plt.figure(figsize=(10, 6))\n",
    "box = plt.boxplot(data4, vert=False, patch_artist=True,\n",
    "                  boxprops=dict(facecolor=\"skyblue\", color=\"black\"),\n",
    "                  medianprops=dict(color=\"red\", linewidth=2),\n",
    "                  whiskerprops=dict(color=\"black\"),\n",
    "                  capprops=dict(color=\"black\"),\n",
    "                  flierprops=dict(markerfacecolor=\"orange\", marker='o', markersize=8, linestyle=\"none\"))\n",
    "\n",
    "# Annotate Quartiles\n",
    "plt.axvline(q1_tot, color=\"blue\", linestyle=\"--\", label=f\"Q1 = {q1_tot:.1f}\")\n",
    "plt.axvline(q2_tot, color=\"red\", linestyle=\"--\", label=f\"Median (Q2) = {q2_tot:.1f}\")\n",
    "plt.axvline(q3_tot, color=\"green\", linestyle=\"--\", label=f\"Q3 = {q3_tot:.1f}\")\n",
    "\n",
    "# Annotate outliers if present\n",
    "for outlier in outliers_tot:\n",
    "    plt.text(outlier, 1.05, f\"{outlier:.0f}\", ha=\"center\", va=\"bottom\", color=\"darkorange\", fontsize=9)\n",
    "\n",
    "# Titles and labels\n",
    "plt.title(\"Boxplot of the Total Length of Possum with Quartiles & Outliers\", fontsize=14)\n",
    "plt.xlabel(\"Data (%)\")\n",
    "plt.legend()\n",
    "\n",
    "plt.show()\n",
    "\n",
    "# Print results\n",
    "print(f\"Q1 (25th percentile): {q1_tot:.2f}\")\n",
    "print(f\"Q2 (Median, 50th percentile): {q2_tot:.2f}\")\n",
    "print(f\"Q3 (75th percentile): {q3_tot:.2f}\")\n",
    "print(f\"IQR (Q3 - Q1): {iqr_tot:.2f}\")\n",
    "print(f\"Lower Bound for Outliers: {lower_bound_tot:.2f}\")\n",
    "print(f\"Upper Bound for Outliers: {upper_bound_tot:.2f}\")\n",
    "print(f\"Outliers Detected: {list(outliers_tot)}\")\n"
   ]
  },
  {
   "cell_type": "code",
   "execution_count": 152,
   "id": "9ba902f8",
   "metadata": {},
   "outputs": [
    {
     "name": "stdout",
     "output_type": "stream",
     "text": [
      "Skewness: -0.056\n"
     ]
    }
   ],
   "source": [
    "# Skewness\n",
    "skewness = df['head length'].skew()\n",
    "print(f\"Skewness: {skewness:.3f}\")\n"
   ]
  },
  {
   "cell_type": "code",
   "execution_count": null,
   "id": "3ec5ab0c",
   "metadata": {},
   "outputs": [
    {
     "name": "stdout",
     "output_type": "stream",
     "text": [
      "Kurtosis: 0.891\n"
     ]
    }
   ],
   "source": [
    "kurtosis = df['head length'].kurt()\n",
    "print(f\"Kurtosis: {kurtosis:.3f}\")"
   ]
  }
 ],
 "metadata": {
  "kernelspec": {
   "display_name": "my_venv (3.13.7)",
   "language": "python",
   "name": "python3"
  },
  "language_info": {
   "codemirror_mode": {
    "name": "ipython",
    "version": 3
   },
   "file_extension": ".py",
   "mimetype": "text/x-python",
   "name": "python",
   "nbconvert_exporter": "python",
   "pygments_lexer": "ipython3",
   "version": "3.13.7"
  }
 },
 "nbformat": 4,
 "nbformat_minor": 5
}
