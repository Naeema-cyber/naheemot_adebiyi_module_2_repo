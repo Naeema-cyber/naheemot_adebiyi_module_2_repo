{
 "cells": [
  {
   "cell_type": "markdown",
   "id": "088353e9",
   "metadata": {},
   "source": [
    "### What is Hypothesis Testing?\n",
    "Hypothesis testing is a structured method used to determine if the findings of a study provide evidence to support a specific theory relevant to a larger population.\n",
    "\n",
    "Hypothesis Testing is a type of statistical analysis in which you put your assumptions about a population parameter to the test. It is used to estimate the relationship between 2 statistical variables. When performing hypothesis testing, you must understand different data types, such as nominal data.\n",
    "The process of hypothesis testing involves four key steps: defining the hypotheses, developing a plan for analysis, examining the sample data, and interpreting the final results.\n",
    "\n",
    "**Hypothesis Testing Formula**\n",
    "Z = ( x̅ – μ0 ) / (σ /√n)\n",
    "\n",
    "Here, x̅ is the sample mean,\n",
    "μ0 is the population mean,\n",
    "σ is the standard deviation,\n",
    "n is the sample size.\n",
    "\n"
   ]
  },
  {
   "cell_type": "markdown",
   "id": "65c37754",
   "metadata": {},
   "source": [
    "### Types of Hypothesis Testing"
   ]
  },
  {
   "cell_type": "markdown",
   "id": "d4b6cac1",
   "metadata": {},
   "source": [
    "1. *Z - Test*\n",
    "\n",
    "To determine whether a discovery or relationship is statistically significant, hypothesis testing uses a z-test. It usually checks to see if two means are the same (the null hypothesis). Only when the population standard deviation is known and the sample size is 30 data points or more, can a z-test be applied.\n",
    "\n",
    "Formula\n",
    "$$\n",
    "Z=\\frac{(\\bar{X}-\\mu_{0})}{s}\n",
    "$$\n",
    "\n",
    "Where:\n",
    "\n",
    "Z = The Z-score (or Z-statistic)\n",
    "\n",
    "x̄ = The mean of the sample\n",
    "\n",
    "μ₀ = The hypothesized population mean\n",
    "\n",
    "σ = The known standard deviation of the population\n",
    "\n",
    "n = The sample size"
   ]
  },
  {
   "cell_type": "markdown",
   "id": "82668327",
   "metadata": {},
   "source": [
    "2. *T - Test*\n",
    "\n",
    "A statistical test called a t-test is employed to compare the means of two groups. To determine whether two groups differ or if a procedure or treatment affects the population of interest, it is frequently used in hypothesis testing.\n",
    "\n",
    "Formula\n",
    "$$\n",
    "t=\\frac{m-\\mu}{s / \\sqrt{n}}\n",
    "$$\n",
    "t\t=\tStudent's t-test\n",
    "\n",
    "m\t=\tmean\n",
    "\n",
    "µ\t=\ttheoretical value\n",
    "\n",
    "s\t=\tstandard deviation\n",
    "\n",
    "{n}\t=\tvariable set size\n"
   ]
  },
  {
   "cell_type": "markdown",
   "id": "28fe42ad",
   "metadata": {},
   "source": [
    "3. *Chi-Square* \n",
    "\n",
    "You utilize a Chi-square test for hypothesis testing concerning whether your data is as predicted. To determine if the expected and observed results are well-fitted, the Chi-square test analyzes the differences between categorical variables from a random sample. The test's fundamental premise is that the observed values in your data should be compared to the predicted values that would be present if the null hypothesis were true.\n",
    "\n",
    "Formula:\n",
    "\n",
    "χ2 = ∑(Oi – Ei)2/Ei\n",
    "\n",
    "where\n",
    "\n",
    "Oi = observed value (actual value)\n",
    "Ei = expected value.\n",
    "\n"
   ]
  },
  {
   "cell_type": "markdown",
   "id": "a4b37599",
   "metadata": {},
   "source": [
    "3. *ANOVA* \n",
    "\n",
    "ANOVA is the primary analysis technique for traditional experimental design, the foundation of scientific investigation. It is a practical statistical approach for comparing the means of two or more groups and determining whether they have a significant difference.\n",
    "\n",
    "ANOVA, which stands for Analysis of Variance, is a technique that determines whether the averages of three or more independent groups differ significantly from one another. Now, let’s understand what is analysis of variance used for. Here are the objectives of learning ANOVA:\n",
    "\n",
    "- If there is a difference between the means of three or more groups, it can be found using analysis of variance (ANOVA). F-tests are used in ANOVA to test for mean equality statistically. ANOVA compares the degree of variation within each group to the variation between groups.\n",
    "\n",
    "- Testing hypotheses is a structured process that uses ANOVA to examine hypotheses. The null hypothesis is that the means of the several groups are equal, and you would perform ANOVA to determine how your groups respond. There is a significant difference between the two populations if the difference between them is statistically significant\n",
    "\n",
    "-ANOVA helps determine which features are ideal for model training. It reduces the model's complexity by minimizing the number of input variables. ANOVA statistics can be used to ascertain an independent variable's influence on a target variable.\n",
    "\n",
    "**Types of ANOVA**\n",
    "\n",
    "The ANOVA test can be performed using three different methods, depending on how many independent variables (IVs) are used. Here are the types of ANOVA:\n",
    "\n",
    "*One-Way ANOVA*\n",
    "\n",
    "The one-way analysis of variance, or ANOVA, examines whether the means of two or more independent or unrelated groups differ statistically significantly. It is often used to investigate whether fluctuations or different quantities of a single independent variable or factor affect a dependent variable.\n",
    "\n",
    "*Two-Way ANOVA*\n",
    "\n",
    "The two-way ANOVA test compares the means of more than two groups with varying amounts of a second variable in addition to being independent. It is utilized to determine each independent variable's main effect and whether there is an interaction effect between them. A two-way ANOVA test is predicated on a few assumptions.\n",
    "\n",
    "**Factorial ANOVA*\n",
    "\n",
    "Factorial ANOVA is a statistical test used to examine the effect of multiple independent variables on a dependent variable and their interactions. It is essential that your variable of interest be continuous, regularly distributed, and have a comparable distribution among your groups.\n",
    "\n",
    "*Welch’s F-test ANOVA*\n",
    "\n",
    "Welch's ANOVA compares two or more means when the assumption of equal variances is violated to determine whether two means are equal. Even if your data deviates from the premise of homogeneity of variances, you can still use it as an alternative. Welch's Test is useful for conducting an ANOVA statistics analysis when the homogeneity of variances assumption is not satisfied, mainly when sample sizes are unequal.\n",
    "\n",
    "\n",
    "\n",
    "\n"
   ]
  }
 ],
 "metadata": {
  "language_info": {
   "name": "python"
  }
 },
 "nbformat": 4,
 "nbformat_minor": 5
}
