{
 "cells": [
  {
   "cell_type": "markdown",
   "id": "088353e9",
   "metadata": {},
   "source": [
    "### What is Hypothesis Testing?\n",
    "Hypothesis testing is a structured method used to determine if the findings of a study provide evidence to support a specific theory relevant to a larger population.\n",
    "\n",
    "Hypothesis Testing is a type of statistical analysis in which you put your assumptions about a population parameter to the test. It is used to estimate the relationship between 2 statistical variables. When performing hypothesis testing, you must understand different data types, such as nominal data.\n",
    "The process of hypothesis testing involves four key steps: defining the hypotheses, developing a plan for analysis, examining the sample data, and interpreting the final results.\n",
    "\n",
    "**Hypothesis Testing Formula**\n",
    "Z = ( x̅ – μ0 ) / (σ /√n)\n",
    "\n",
    "Here, x̅ is the sample mean,\n",
    "μ0 is the population mean,\n",
    "σ is the standard deviation,\n",
    "n is the sample size.\n",
    "\n"
   ]
  },
  {
   "cell_type": "markdown",
   "id": "65c37754",
   "metadata": {},
   "source": [
    "### Types of Hypothesis Testing"
   ]
  },
  {
   "cell_type": "markdown",
   "id": "d4b6cac1",
   "metadata": {},
   "source": [
    "1. *Z - Test*\n",
    "\n",
    "To determine whether a discovery or relationship is statistically significant, hypothesis testing uses a z-test. It usually checks to see if two means are the same (the null hypothesis). Only when the population standard deviation is known and the sample size is 30 data points or more, can a z-test be applied."
   ]
  },
  {
   "cell_type": "markdown",
   "id": "82668327",
   "metadata": {},
   "source": [
    "2. T Test\n",
    "A statistical test called a t-test is employed to compare the means of two groups. To determine whether two groups differ or if a procedure or treatment affects the population of interest, it is frequently used in hypothesis testing."
   ]
  }
 ],
 "metadata": {
  "language_info": {
   "name": "python"
  }
 },
 "nbformat": 4,
 "nbformat_minor": 5
}
