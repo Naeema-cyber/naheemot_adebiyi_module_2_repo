{
 "cells": [
  {
   "cell_type": "markdown",
   "id": "f8531e40",
   "metadata": {},
   "source": [
    "### ALGEBRA TASK"
   ]
  },
  {
   "cell_type": "code",
   "execution_count": 4,
   "id": "c6fa63e5",
   "metadata": {},
   "outputs": [],
   "source": [
    "# Importing the necessary library\n",
    "import numpy as np\n",
    "\n"
   ]
  },
  {
   "cell_type": "code",
   "execution_count": 5,
   "id": "fb4ff2ad",
   "metadata": {},
   "outputs": [
    {
     "name": "stdout",
     "output_type": "stream",
     "text": [
      "[[80 70 90]\n",
      " [60 85 75]\n",
      " [95 88 92]\n",
      " [70 60 65]]\n",
      "(4, 3)\n"
     ]
    }
   ],
   "source": [
    "# 3.1 Representing the data as a matrix\n",
    "student= np.array([[80, 70, 90], [60, 85, 75], [95, 88, 92], [70,60,65]])\n",
    "print(student)\n",
    "print(student.shape)"
   ]
  },
  {
   "cell_type": "code",
   "execution_count": 6,
   "id": "ab9f9810",
   "metadata": {},
   "outputs": [
    {
     "name": "stdout",
     "output_type": "stream",
     "text": [
      "Total Score for Student 1 is : 240\n",
      "Total Score for Student 2 is : 220\n",
      "Total Score for Student 3 is : 275\n",
      "Total Score for Student 4 is : 195\n"
     ]
    }
   ],
   "source": [
    "# 3.2 Total Scores per Student (Vector Addition)\n",
    "student_1 = np.array([80, 70, 90])\n",
    "sum_student_1 = np.sum(student_1)\n",
    "student_2 = np.array([60, 85, 75]) \n",
    "sum_student_2 = np.sum(student_2)\n",
    "student_3 = np.array([95, 88, 92])\n",
    "sum_student_3 = np.sum(student_3)\n",
    "student_4 = np.array([70, 60, 65])\n",
    "sum_student_4 = np.sum(student_4)\n",
    "print(f\"Total Score for Student 1 is :\", sum_student_1)\n",
    "print(f\"Total Score for Student 2 is :\", sum_student_2)\n",
    "print(f\"Total Score for Student 3 is :\", sum_student_3)\n",
    "print(f\"Total Score for Student 4 is :\", sum_student_4)"
   ]
  },
  {
   "cell_type": "code",
   "execution_count": 7,
   "id": "923f3120",
   "metadata": {},
   "outputs": [
    {
     "name": "stdout",
     "output_type": "stream",
     "text": [
      "[160 120 190 140]\n"
     ]
    }
   ],
   "source": [
    "# 3.3 Applying weights (Scalar multiplication)\n",
    "scores =np.array([80, 60, 95, 70])\n",
    "\n",
    "scaled_scores = scores * 2\n",
    "print(scaled_scores)\n"
   ]
  },
  {
   "cell_type": "markdown",
   "id": "488b743c",
   "metadata": {},
   "source": [
    "```\n",
    "Student     Math  English  Science \n",
    "Student 1   80      70      90 \n",
    "Student 2   60      85      75 \n",
    "Student 3   95      88      92 \n",
    "Student 4   70      60      65 \n",
    " \n"
   ]
  },
  {
   "cell_type": "code",
   "execution_count": 8,
   "id": "444cd459",
   "metadata": {},
   "outputs": [
    {
     "name": "stdout",
     "output_type": "stream",
     "text": [
      "Average Score for math is : 76.25\n",
      "The average score for English is : 75.75\n",
      "The average score for Science is: 80.5\n"
     ]
    }
   ],
   "source": [
    "# 3.4 Average Score per Subject (Matrix Operation)\n",
    "math = np.array([80, 60, 95, 70])\n",
    "math_avg = np.average(math)\n",
    "print(f\"Average Score for math is :\", math_avg)\n",
    "\n",
    "eng = np.array([70, 85, 88, 60])\n",
    "eng_avg = np.average(eng)\n",
    "print(f\"The average score for English is :\", eng_avg)\n",
    "\n",
    "science = np.array([90, 75, 92, 65])\n",
    "science_avg = np.average(science)\n",
    "print(f\"The average score for Science is:\", science_avg)\n",
    "\n"
   ]
  },
  {
   "cell_type": "code",
   "execution_count": 9,
   "id": "f403aa75",
   "metadata": {},
   "outputs": [
    {
     "name": "stdout",
     "output_type": "stream",
     "text": [
      " The final grade for student 1 is : [40. 21. 18.]\n",
      " The final grade for student 2 is : [30.  25.5 15. ]\n",
      " The final grade for student 3 is : [47.5 26.4 18.4]\n",
      " The final grade for student 4 is : [35. 18. 13.]\n"
     ]
    }
   ],
   "source": [
    "# 3.5 Final Grades using Matrix Multiplication\n",
    "student1 = np.array([80, 70, 90])\n",
    "scalar_weight = np.array([0.5, 0.3, 0.2])\n",
    "grade1 = (student1 * scalar_weight)\n",
    "student2 = np.array([60, 85, 75])\n",
    "grade2 = (student2 * scalar_weight)\n",
    "student3 = np.array([95, 88, 92])\n",
    "grade3 = (student3 * scalar_weight)\n",
    "student4 = np.array([70, 60, 65])\n",
    "grade4 = (student4 * scalar_weight)\n",
    "print(f\" The final grade for student 1 is :\", grade1)\n",
    "print(f\" The final grade for student 2 is :\", grade2)\n",
    "print(f\" The final grade for student 3 is :\", grade3)\n",
    "print(f\" The final grade for student 4 is :\", grade4)"
   ]
  },
  {
   "cell_type": "code",
   "execution_count": 10,
   "id": "f2984fe5",
   "metadata": {},
   "outputs": [
    {
     "name": "stdout",
     "output_type": "stream",
     "text": [
      "The compared grade for student 1 and student 2 is : [ 20 -15  15]\n"
     ]
    }
   ],
   "source": [
    "# 3.6 Comparing students (Vector Subtraction)\n",
    "\n",
    "student1 = np.array([80, 70, 90])\n",
    "student2 = np.array([60, 85, 75])\n",
    "compared_grades = np.subtract(student1,student2)\n",
    "print(f\"The compared grade for student 1 and student 2 is :\", compared_grades)"
   ]
  },
  {
   "cell_type": "markdown",
   "id": "334d8595",
   "metadata": {},
   "source": [
    "## ADD-ON EXERCISES"
   ]
  },
  {
   "cell_type": "code",
   "execution_count": 11,
   "id": "881a0497",
   "metadata": {},
   "outputs": [
    {
     "name": "stdout",
     "output_type": "stream",
     "text": [
      "Students:\n",
      "[[65 80 95 55]\n",
      " [60 72 88 90]\n",
      " [72 75 98 85]\n",
      " [80 78 76 80]\n",
      " [65 95 80 68]]\n"
     ]
    }
   ],
   "source": [
    "# 1. Create a new 5x3 matrix of scores (5 students, 4 subjects). Compute each student's total score and the average per subject. Subjects are: maths, English, Science, P.H.E\n",
    "students = np.array([[65, 80, 95, 55], [60, 72, 88, 90], [72, 75, 98, 85], [80, 78, 76, 80],[65, 95, 80, 68]])\n",
    "\n",
    "print(\"Students:\")\n",
    "print(students)"
   ]
  },
  {
   "cell_type": "markdown",
   "id": "acb6dd31",
   "metadata": {},
   "source": [
    " 1. Create a new 5x3 matrix of scores (5 students, 4 subjects). Compute each student's total score and the average per subject. Subjects are: maths, English, Science, P.H.E\n",
    "students = np.array\n",
    "\\begin{bmatrix}\n",
    "students & Maths & English & Science & P.H.E\\\\\n",
    "    student1 & 65 & 80 & 95 & 55\\\\\n",
    "    student2 & 60 & 72 & 88 & 90 \\\\\n",
    "    student3 & 72 & 75 & 98 & 85 \\\\\n",
    "    student4 & 80 & 78 & 76 & 80 \\\\\n",
    "    student5 & 65 & 95 & 80 & 68 \\\\\n",
    "\\end{bmatrix}\n",
    "    \n",
    "\n"
   ]
  },
  {
   "cell_type": "code",
   "execution_count": 12,
   "id": "789daea3",
   "metadata": {},
   "outputs": [
    {
     "name": "stdout",
     "output_type": "stream",
     "text": [
      " Student 1 total score is : 295\n",
      " Student 2 total score is : 310\n",
      " Student 3 total score is : 330\n",
      " Student 4 total score is : 314\n",
      " Student 5 total score is : 308\n"
     ]
    }
   ],
   "source": [
    "# 1.1 Student's total score\n",
    "students_1_sum= np.sum([65, 80, 95, 55])\n",
    "students_2_sum = np.sum([60, 72, 88, 90])\n",
    "students_3_sum = np.sum([72, 75, 98, 85])\n",
    "students_4_sum = np.sum([80, 78, 76, 80])\n",
    "students_5_sum = np.sum([65, 95, 80, 68])\n",
    "print(f\" Student 1 total score is :\",students_1_sum)\n",
    "print(f\" Student 2 total score is :\",students_2_sum)\n",
    "print(f\" Student 3 total score is :\",students_3_sum)\n",
    "print(f\" Student 4 total score is :\",students_4_sum)\n",
    "print(f\" Student 5 total score is :\",students_5_sum)"
   ]
  },
  {
   "cell_type": "markdown",
   "id": "50b7c5c9",
   "metadata": {},
   "source": [
    "\\begin{bmatrix}\n",
    "65&80&95&55\\\\\n",
    "60&72&88&90 \\\\\n",
    "72&75&98&85 \\\\\n",
    "80&78&76&80 \\\\\n",
    "65&95&80&68 \\\\\n",
    "\\end{bmatrix}\n",
    "    "
   ]
  },
  {
   "cell_type": "code",
   "execution_count": 13,
   "id": "8e2b531d",
   "metadata": {},
   "outputs": [
    {
     "name": "stdout",
     "output_type": "stream",
     "text": [
      "Average maths score: 68.4\n",
      "Average English score: 80.0\n",
      "Average Science score: 87.4\n",
      "Average P.H.E Score: 75.6\n"
     ]
    }
   ],
   "source": [
    "# 1.2 Average score per subject\n",
    "maths_avg = np.average([65,60,72,80,65])\n",
    "engl_avg = np.average([80,72,75,78,95])\n",
    "sci_avg = np.average([95,88,98,76,80])\n",
    "avg_phe = np.average([55,90,85,80,68])\n",
    "print(f\"Average maths score:\", maths_avg)\n",
    "print(f\"Average English score:\",  engl_avg)\n",
    "print(f\"Average Science score:\", sci_avg)\n",
    "print(f\"Average P.H.E Score:\", avg_phe)"
   ]
  },
  {
   "cell_type": "code",
   "execution_count": 14,
   "id": "ea98ea42",
   "metadata": {},
   "outputs": [
    {
     "data": {
      "text/plain": [
       "array([285, 264, 294, 228, 240])"
      ]
     },
     "execution_count": 14,
     "metadata": {},
     "output_type": "execute_result"
    }
   ],
   "source": [
    "# 2. Suppose one subject is (e.g science) is 3 times more important than others. Apply scalar multiplication and recompute totals.\n",
    "science_matrix = np.array([95,88,98,76,80])\n",
    "total = science_matrix * 3\n",
    "total"
   ]
  },
  {
   "cell_type": "code",
   "execution_count": 15,
   "id": "5af0f38f",
   "metadata": {},
   "outputs": [
    {
     "data": {
      "text/plain": [
       "array([76. , 73.8, 81.7, 78.4, 75.8])"
      ]
     },
     "execution_count": 15,
     "metadata": {},
     "output_type": "execute_result"
    }
   ],
   "source": [
    "# 3. Define new weights for grading (40%, 20%, 30%, 10%). Compute final grades using matrix multiplication.\n",
    "weights = np.array([0.4, 0.2, 0.3, 0.1])\n",
    "final_grades = students @ weights\n",
    "final_grades"
   ]
  },
  {
   "cell_type": "code",
   "execution_count": 16,
   "id": "4b1cd9e8",
   "metadata": {},
   "outputs": [
    {
     "data": {
      "text/plain": [
       "array([-8, -3, 22,  5])"
      ]
     },
     "execution_count": 16,
     "metadata": {},
     "output_type": "execute_result"
    }
   ],
   "source": [
    "# 4. Compare Student 3 and Student 4 using vector subtraction. Who performed better in each subject?\n",
    "\n",
    "third_student = students[2]\n",
    "fourth_student = students[3]\n",
    "\n",
    "compared_scores = np.subtract(third_student,fourth_student)\n",
    "compared_scores"
   ]
  }
 ],
 "metadata": {
  "kernelspec": {
   "display_name": "my_venv (3.13.7)",
   "language": "python",
   "name": "python3"
  },
  "language_info": {
   "codemirror_mode": {
    "name": "ipython",
    "version": 3
   },
   "file_extension": ".py",
   "mimetype": "text/x-python",
   "name": "python",
   "nbconvert_exporter": "python",
   "pygments_lexer": "ipython3",
   "version": "3.13.7"
  }
 },
 "nbformat": 4,
 "nbformat_minor": 5
}
