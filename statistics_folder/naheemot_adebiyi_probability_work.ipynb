{
 "cells": [
  {
   "cell_type": "code",
   "execution_count": 1,
   "id": "3669829c",
   "metadata": {},
   "outputs": [],
   "source": [
    "import pandas as pd\n",
    "import numpy as numpy\n",
    "from zipfile import ZipFile\n",
    "from functools import reduce\n",
    "import matplotlib.pyplot as plt\n",
    "from scipy import stats\n",
    "import os"
   ]
  },
  {
   "cell_type": "code",
   "execution_count": 2,
   "id": "a001582b",
   "metadata": {},
   "outputs": [],
   "source": [
    "path = r\"C:\\Users\\ncc45554\\Downloads\\kaggle_olist_dataset.zip\"\n",
    "\n",
    "extracted_file = \"data_files\""
   ]
  },
  {
   "cell_type": "code",
   "execution_count": 5,
   "id": "94efb066",
   "metadata": {},
   "outputs": [],
   "source": [
    "with ZipFile(path, \"r\") as f:\n",
    "    f.extractall(\"data_files\")"
   ]
  },
  {
   "cell_type": "code",
   "execution_count": 7,
   "id": "6d438fbd",
   "metadata": {},
   "outputs": [],
   "source": [
    "data_frames = {}\n",
    "\n",
    "for file in os.listdir(extracted_file):\n",
    "    if file.endswith(\"csv\"):\n",
    "        file_path = os.path.join(extracted_file,file)\n",
    "        data_frames[file] = pd.read_csv(file_path)\n"
   ]
  },
  {
   "cell_type": "code",
   "execution_count": 8,
   "id": "db6cc779",
   "metadata": {},
   "outputs": [
    {
     "name": "stdout",
     "output_type": "stream",
     "text": [
      "olist_customers_dataset.csv\n",
      "olist_geolocation_dataset.csv\n",
      "olist_orders_dataset.csv\n",
      "olist_order_items_dataset.csv\n",
      "olist_order_payments_dataset.csv\n",
      "olist_order_reviews_dataset.csv\n",
      "olist_products_dataset.csv\n",
      "olist_sellers_dataset.csv\n",
      "product_category_name_translation.csv\n"
     ]
    }
   ],
   "source": [
    "for name, df in data_frames.items():\n",
    "    print(f\"{name}\")\n",
    " "
   ]
  },
  {
   "cell_type": "code",
   "execution_count": 10,
   "id": "bd0cde90",
   "metadata": {},
   "outputs": [
    {
     "name": "stdout",
     "output_type": "stream",
     "text": [
      "(99441, 5)\n",
      "Index(['customer_id', 'customer_unique_id', 'customer_zip_code_prefix',\n",
      "       'customer_city', 'customer_state'],\n",
      "      dtype='object')\n"
     ]
    }
   ],
   "source": [
    "customers = pd.read_csv(r\"data_files\\olist_customers_dataset.csv\")\n",
    "customers.head()\n",
    "print(customers.shape)\n",
    "print(customers.columns)"
   ]
  },
  {
   "cell_type": "code",
   "execution_count": 11,
   "id": "786b6d84",
   "metadata": {},
   "outputs": [
    {
     "name": "stdout",
     "output_type": "stream",
     "text": [
      "(1000163, 5)\n",
      "Index(['geolocation_zip_code_prefix', 'geolocation_lat', 'geolocation_lng',\n",
      "       'geolocation_city', 'geolocation_state'],\n",
      "      dtype='object')\n"
     ]
    }
   ],
   "source": [
    "geolocation = pd.read_csv(r\"data_files\\olist_geolocation_dataset.csv\")\n",
    "geolocation.head()\n",
    "print(geolocation.shape)\n",
    "print(geolocation.columns)"
   ]
  },
  {
   "cell_type": "code",
   "execution_count": 12,
   "id": "81274935",
   "metadata": {},
   "outputs": [
    {
     "name": "stdout",
     "output_type": "stream",
     "text": [
      "(112650, 7)\n",
      "Index(['order_id', 'order_item_id', 'product_id', 'seller_id',\n",
      "       'shipping_limit_date', 'price', 'freight_value'],\n",
      "      dtype='object')\n"
     ]
    }
   ],
   "source": [
    "order_items = pd.read_csv(r\"data_files\\olist_order_items_dataset.csv\")\n",
    "order_items.head()\n",
    "print(order_items.shape)\n",
    "print(order_items.columns)"
   ]
  },
  {
   "cell_type": "code",
   "execution_count": 14,
   "id": "a4da8c24",
   "metadata": {},
   "outputs": [
    {
     "name": "stdout",
     "output_type": "stream",
     "text": [
      "Index(['order_id', 'payment_sequential', 'payment_type',\n",
      "       'payment_installments', 'payment_value'],\n",
      "      dtype='object')\n",
      "(103886, 5)\n"
     ]
    }
   ],
   "source": [
    "order_payment = pd.read_csv(r\"data_files\\olist_order_payments_dataset.csv\")\n",
    "order_payment.head()\n",
    "print(order_payment.columns)\n",
    "print(order_payment.shape)"
   ]
  },
  {
   "cell_type": "code",
   "execution_count": 15,
   "id": "28f87d4a",
   "metadata": {},
   "outputs": [
    {
     "name": "stdout",
     "output_type": "stream",
     "text": [
      "Index(['review_id', 'order_id', 'review_score', 'review_comment_title',\n",
      "       'review_comment_message', 'review_creation_date',\n",
      "       'review_answer_timestamp'],\n",
      "      dtype='object')\n",
      "(99224, 7)\n"
     ]
    }
   ],
   "source": [
    "order_reviews = pd.read_csv(r\"data_files\\olist_order_reviews_dataset.csv\")\n",
    "order_reviews.head()\n",
    "print(order_reviews.columns)\n",
    "print(order_reviews.shape)"
   ]
  },
  {
   "cell_type": "code",
   "execution_count": 17,
   "id": "3f9f515f",
   "metadata": {},
   "outputs": [
    {
     "name": "stdout",
     "output_type": "stream",
     "text": [
      "Index(['order_id', 'customer_id', 'order_status', 'order_purchase_timestamp',\n",
      "       'order_approved_at', 'order_delivered_carrier_date',\n",
      "       'order_delivered_customer_date', 'order_estimated_delivery_date'],\n",
      "      dtype='object')\n",
      "(99441, 8)\n"
     ]
    }
   ],
   "source": [
    "order_data = pd.read_csv(r\"data_files\\olist_orders_dataset.csv\")\n",
    "order_data.head()\n",
    "print(order_data.columns)\n",
    "print(order_data.shape)"
   ]
  },
  {
   "cell_type": "code",
   "execution_count": 18,
   "id": "413375b8",
   "metadata": {},
   "outputs": [
    {
     "name": "stdout",
     "output_type": "stream",
     "text": [
      "Index(['product_id', 'product_category_name', 'product_name_lenght',\n",
      "       'product_description_lenght', 'product_photos_qty', 'product_weight_g',\n",
      "       'product_length_cm', 'product_height_cm', 'product_width_cm'],\n",
      "      dtype='object')\n",
      "(32951, 9)\n"
     ]
    }
   ],
   "source": [
    "product = pd.read_csv(r\"data_files\\olist_products_dataset.csv\")\n",
    "product.head()\n",
    "print(product.columns)\n",
    "print(product.shape)"
   ]
  },
  {
   "cell_type": "code",
   "execution_count": 19,
   "id": "2c91c05c",
   "metadata": {},
   "outputs": [
    {
     "name": "stdout",
     "output_type": "stream",
     "text": [
      "Index(['review_id', 'order_id', 'review_score', 'review_comment_title',\n",
      "       'review_comment_message', 'review_creation_date',\n",
      "       'review_answer_timestamp'],\n",
      "      dtype='object')\n",
      "(99224, 7)\n"
     ]
    }
   ],
   "source": [
    "sellers = pd.read_csv(r\"data_files\\olist_sellers_dataset.csv\")\n",
    "sellers.head()\n",
    "print(order_reviews.columns)\n",
    "print(order_reviews.shape)"
   ]
  },
  {
   "cell_type": "code",
   "execution_count": 20,
   "id": "b3e02eb4",
   "metadata": {},
   "outputs": [
    {
     "name": "stdout",
     "output_type": "stream",
     "text": [
      "Index(['product_category_name', 'product_category_name_english'], dtype='object')\n",
      "(71, 2)\n"
     ]
    }
   ],
   "source": [
    "product_category = pd.read_csv(r\"data_files\\product_category_name_translation.csv\")\n",
    "product_category.head()\n",
    "print(product_category.columns)\n",
    "print(product_category.shape)"
   ]
  },
  {
   "cell_type": "code",
   "execution_count": 21,
   "id": "a54f60de",
   "metadata": {},
   "outputs": [
    {
     "name": "stdout",
     "output_type": "stream",
     "text": [
      "olist_customers_dataset.csv: ['customer_id', 'customer_unique_id', 'customer_zip_code_prefix', 'customer_city', 'customer_state']\n",
      "olist_geolocation_dataset.csv: ['geolocation_zip_code_prefix', 'geolocation_lat', 'geolocation_lng', 'geolocation_city', 'geolocation_state']\n",
      "olist_orders_dataset.csv: ['order_id', 'customer_id', 'order_status', 'order_purchase_timestamp', 'order_approved_at', 'order_delivered_carrier_date', 'order_delivered_customer_date', 'order_estimated_delivery_date']\n",
      "olist_order_items_dataset.csv: ['order_id', 'order_item_id', 'product_id', 'seller_id', 'shipping_limit_date', 'price', 'freight_value']\n",
      "olist_order_payments_dataset.csv: ['order_id', 'payment_sequential', 'payment_type', 'payment_installments', 'payment_value']\n",
      "olist_order_reviews_dataset.csv: ['review_id', 'order_id', 'review_score', 'review_comment_title', 'review_comment_message', 'review_creation_date', 'review_answer_timestamp']\n",
      "olist_products_dataset.csv: ['product_id', 'product_category_name', 'product_name_lenght', 'product_description_lenght', 'product_photos_qty', 'product_weight_g', 'product_length_cm', 'product_height_cm', 'product_width_cm']\n",
      "olist_sellers_dataset.csv: ['seller_id', 'seller_zip_code_prefix', 'seller_city', 'seller_state']\n",
      "product_category_name_translation.csv: ['product_category_name', 'product_category_name_english']\n"
     ]
    }
   ],
   "source": [
    "for name, df in data_frames.items():\n",
    "    print(f\"{name}: {list(df.columns)}\")"
   ]
  },
  {
   "cell_type": "code",
   "execution_count": 22,
   "id": "7c56c5b4",
   "metadata": {},
   "outputs": [
    {
     "name": "stdout",
     "output_type": "stream",
     "text": [
      "Common columns across all CSVs: set()\n"
     ]
    }
   ],
   "source": [
    "# Get sets of columns for each file\n",
    "columns_per_file = {name: set(df.columns) for name, df in data_frames.items()}\n",
    "\n",
    "# Intersection (columns that appear in every file)\n",
    "common_cols = reduce(set.intersection, columns_per_file.values())\n",
    "print(\"Common columns across all CSVs:\", common_cols)"
   ]
  },
  {
   "cell_type": "markdown",
   "id": "a440fd6c",
   "metadata": {},
   "source": [
    "**MERGING DATASET AND WHY THEY SHOULD BE MERGED**\n",
    "1. **Customers ↔ Orders**\n",
    "\n",
    "* **Key:** `customer_id`\n",
    "\n",
    "* **Why:** Orders are made by customers. You can attach customer info (city, state, etc.) to each order.\n",
    "\n",
    "Merge: `order_data` ↔ `customers`\n",
    "\n",
    "\n",
    "2. **Orders ↔ Order Items**\n",
    "\n",
    "* **Key:** `order_id`\n",
    "\n",
    "* **Why:** Each order has one or more items. This links orders to products and sellers.\n",
    "\n",
    "Merge: `order_data` ↔ `order_items`\n",
    "\n",
    "\n",
    "3. **Order Items ↔ Products**\n",
    "\n",
    "* **Key:** `product_id`\n",
    "\n",
    "* **Why:** Each item corresponds to a product. You can bring in product details (category, dimensions, weight).\n",
    "\n",
    "Merge: `order_items` ↔ `product`\n",
    "\n",
    "\n",
    "4. **Products ↔ Product Category Translation**\n",
    "\n",
    "* **Key:** `product_category_name`\n",
    "\n",
    "* **Why:** Product categories are in Portuguese, and this dataset provides English translations.\n",
    "\n",
    "Merge: `product` ↔ `product_category`\n",
    "\n",
    "\n",
    "5. **Order Items ↔ Sellers**\n",
    "\n",
    "* **Key:** `seller_id`\n",
    "\n",
    "* **Why:** Each item is sold by a seller. This lets you connect sellers’ locations to orders.\n",
    "Merge: `order_items` ↔ `sellers`\n",
    "\n",
    "\n",
    "6. **Orders ↔ Payments**\n",
    "\n",
    "* **Key:** `order_id`\n",
    "* **Why:** Every order has a payment record (method, value, installments).\n",
    "\n",
    "Merge: `order_data` ↔ `order_payment`\n",
    "\n",
    "\n",
    "**Orders ↔ Reviews**\n",
    "\n",
    "* **Key:** `order_id`\n",
    "\n",
    "* **Why:** Customers leave reviews for orders (scores, comments)\n",
    "\n",
    "Merge: `order_data` ↔ `order_reviews`\n",
    "\n",
    "\n",
    "8. **Customers ↔ Geolocation**\n",
    "\n",
    "* **Key:** `zip_code_prefix` (`customer_zip_code_prefix` vs `geolocation_zip_code_prefix`)\n",
    "\n",
    "* **Why:** To attach latitude/longitude and city/state to customers.\n",
    "Note: Multiple geolocations can share the same ZIP prefix → requires aggregation or nearest match.\n",
    "\n",
    "Merge: `customers` ↔ `geolocation`"
   ]
  },
  {
   "cell_type": "code",
   "execution_count": null,
   "id": "5a278473",
   "metadata": {},
   "outputs": [],
   "source": [
    "#1. Customers + Orders\n"
   ]
  }
 ],
 "metadata": {
  "kernelspec": {
   "display_name": "my_venv",
   "language": "python",
   "name": "python3"
  },
  "language_info": {
   "codemirror_mode": {
    "name": "ipython",
    "version": 3
   },
   "file_extension": ".py",
   "mimetype": "text/x-python",
   "name": "python",
   "nbconvert_exporter": "python",
   "pygments_lexer": "ipython3",
   "version": "3.13.5"
  }
 },
 "nbformat": 4,
 "nbformat_minor": 5
}
