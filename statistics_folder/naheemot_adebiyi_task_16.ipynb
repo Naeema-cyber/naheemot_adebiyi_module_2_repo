{
 "cells": [
  {
   "cell_type": "code",
   "execution_count": 9,
   "id": "bdb21adf",
   "metadata": {},
   "outputs": [],
   "source": [
    "import numpy as np"
   ]
  },
  {
   "cell_type": "markdown",
   "id": "7f219654",
   "metadata": {},
   "source": [
    "Let A = [[2,-1],\n",
    "        [0,3]]\n",
    "\n",
    "Let B = [[1,4],\n",
    "         [-2,5]]\n",
    "\n",
    "Let scalar (c = 2), (d = 3)\n",
    "\n",
    "\n",
    "* 1. Compute the following: (cA), (dB), and (c + d)A\n",
    "* 2. Using the results gotten, Verify the scalar multiplication properties.\n",
    "* 3. Find the transpose of both matrices:\n",
    "* 4. Check if (A) and (B) are invertible by computing their determinants. If they are invertible, find: A-1 and B-1.\n",
    "\n",
    "Compute the following: (cA), (dB), and (C+d)A\n",
    "```\n",
    "\n",
    "A = [2   -1]    [0  3]\n",
    "\n",
    "\n",
    "B = [1  4]      [-2 5]\n",
    "\n",
    "scalar c = 2, d = 3"
   ]
  },
  {
   "cell_type": "code",
   "execution_count": null,
   "id": "b7b64388",
   "metadata": {},
   "outputs": [
    {
     "name": "stdout",
     "output_type": "stream",
     "text": [
      "A =  [[ 2 -1]\n",
      " [ 0  3]]\n",
      "B =  [[ 1  4]\n",
      " [-2  5]]\n"
     ]
    }
   ],
   "source": [
    "A = np.array([[2,-1],[0,3]])\n",
    "B = np.array([[1,4],[-2,5]])\n",
    "c = 2\n",
    "d = 3\n",
    "print(f\"A = \", A)\n",
    "print(f\"B = \", B)"
   ]
  },
  {
   "cell_type": "code",
   "execution_count": null,
   "id": "5db1caf9",
   "metadata": {},
   "outputs": [
    {
     "name": "stdout",
     "output_type": "stream",
     "text": [
      "[[ 4 -2]\n",
      " [ 0  6]]\n"
     ]
    }
   ],
   "source": [
    "# The result of the scalar multiplication cA is:\n",
    "cA = c * A\n",
    "print(cA)"
   ]
  },
  {
   "cell_type": "code",
   "execution_count": 19,
   "id": "a4088811",
   "metadata": {},
   "outputs": [
    {
     "name": "stdout",
     "output_type": "stream",
     "text": [
      "[[ 3 12]\n",
      " [-6 15]]\n"
     ]
    }
   ],
   "source": [
    "# The result of the scalar multiplication dB is:\n",
    "dB = d * B\n",
    "print(dB)"
   ]
  },
  {
   "cell_type": "code",
   "execution_count": 20,
   "id": "085791ba",
   "metadata": {},
   "outputs": [
    {
     "name": "stdout",
     "output_type": "stream",
     "text": [
      "[[10 -5]\n",
      " [ 0 15]]\n"
     ]
    }
   ],
   "source": [
    "# The result of (c+d)A is:\n",
    "ass_dist  = np.sum(c +d ) * A\n",
    "print(ass_dist)"
   ]
  },
  {
   "cell_type": "markdown",
   "id": "96876b55",
   "metadata": {},
   "source": [
    "### 2.Using the result gotten, verify the scalar multiplication properties."
   ]
  },
  {
   "cell_type": "code",
   "execution_count": 24,
   "id": "4fb67d02",
   "metadata": {},
   "outputs": [
    {
     "name": "stdout",
     "output_type": "stream",
     "text": [
      "Associative property:\n",
      "(c.d)A = c(dA): True\n"
     ]
    }
   ],
   "source": [
    "# Associativity of scalar matrix (c.d)A = c.(dA)\n",
    "left = (c*d)*A\n",
    "right = c*(d*A)\n",
    "print(f\"Associative property:\")\n",
    "print(f\"(c.d)A = c(dA): {np.array_equal(left, right)}\")\n"
   ]
  },
  {
   "cell_type": "code",
   "execution_count": null,
   "id": "39911de8",
   "metadata": {},
   "outputs": [
    {
     "name": "stdout",
     "output_type": "stream",
     "text": [
      "Distributive property:\n",
      "c(A+B)) = (c.A)+(c.B): True\n"
     ]
    }
   ],
   "source": [
    "# Distributivity over matrix addition c(A + B) = cA + cB\n",
    "new_left = c*(A + B)\n",
    "new_right = (c*A) + (c*B)\n",
    "print(f\"Distributive property:\")\n",
    "print(f\"c(A+B)) = (c.A)+(c.B): {np.array_equal(new_left, new_right)}\") "
   ]
  },
  {
   "cell_type": "code",
   "execution_count": 28,
   "id": "6ee791b8",
   "metadata": {},
   "outputs": [
    {
     "name": "stdout",
     "output_type": "stream",
     "text": [
      "Distributivity over scalar addition property:\n",
      "(c+d)A = (c.A) + (d.A): True\n"
     ]
    }
   ],
   "source": [
    "# Distributivity over scalar addition (c+d)A = cA + dA\n",
    "left_new = (c + d) * A\n",
    "right_new = (c*A) + (d*A)\n",
    "print(f\"Distributivity over scalar addition property:\")\n",
    "print(f\"(c+d)A = (c.A) + (d.A): {np.array_equal(left_new, right_new)}\")"
   ]
  },
  {
   "cell_type": "code",
   "execution_count": 29,
   "id": "e5c9d085",
   "metadata": {},
   "outputs": [
    {
     "name": "stdout",
     "output_type": "stream",
     "text": [
      "Matrix A: [[ 2 -1]\n",
      " [ 0  3]]\n",
      "Transpose A^T: [[ 2  0]\n",
      " [-1  3]]\n",
      "Matrix B: [[ 1  4]\n",
      " [-2  5]]\n",
      "Transpose B^T: [[ 1 -2]\n",
      " [ 4  5]]\n"
     ]
    }
   ],
   "source": [
    "# 3. Find the transpose of both matrices\n",
    "print(\"Matrix A:\", A)\n",
    "print(\"Transpose A^T:\", A.T)\n",
    "print(\"Matrix B:\", B)\n",
    "print(\"Transpose B^T:\", B.T)"
   ]
  },
  {
   "cell_type": "code",
   "execution_count": 34,
   "id": "f5ef3f86",
   "metadata": {},
   "outputs": [
    {
     "name": "stdout",
     "output_type": "stream",
     "text": [
      "[[ 2 -1]\n",
      " [ 0  3]]\n",
      "Determinant of A: 6.0\n",
      "Inverse of A: [[0.5        0.16666667]\n",
      " [0.         0.33333333]]\n",
      "[[ 1  4]\n",
      " [-2  5]]\n",
      "Determinant of B: 13.0\n",
      "Inverse of B: [[ 0.38461538 -0.30769231]\n",
      " [ 0.15384615  0.07692308]]\n"
     ]
    }
   ],
   "source": [
    "# 4. Find the inverse of both matrices\n",
    "print(A)\n",
    "print(\"Determinant of A:\", np.linalg.det(A))\n",
    "print(\"Inverse of A:\", np.linalg.inv(A))\n",
    "\n",
    "print(B)\n",
    "print(\"Determinant of B:\", np.linalg.det(B))\n",
    "print(\"Inverse of B:\", np.linalg.inv(B))\n"
   ]
  }
 ],
 "metadata": {
  "kernelspec": {
   "display_name": "my_venv (3.13.7)",
   "language": "python",
   "name": "python3"
  },
  "language_info": {
   "codemirror_mode": {
    "name": "ipython",
    "version": 3
   },
   "file_extension": ".py",
   "mimetype": "text/x-python",
   "name": "python",
   "nbconvert_exporter": "python",
   "pygments_lexer": "ipython3",
   "version": "3.13.7"
  }
 },
 "nbformat": 4,
 "nbformat_minor": 5
}
