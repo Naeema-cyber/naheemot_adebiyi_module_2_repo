{
 "cells": [
  {
   "cell_type": "markdown",
   "id": "e10363de",
   "metadata": {},
   "source": [
    "### **Understanding Numpy**"
   ]
  },
  {
   "cell_type": "markdown",
   "id": "073db019",
   "metadata": {},
   "source": [
    "- Numpy (Numerical Python) is the foundation library for scientific computing in python. It provides N-dimensional array object and tools for working with these arrays.\n",
    "- Think of NumPy as the engine that powers most data science libraries - pandas uses NumPy arrarys internally, scikit-learn expects NumPy arrays for machine learning, and matplotlib uses NumPy for plotting.\n",
    "- NumPy operations are implemented in C, making them 10-100x faster than pure Python.\n",
    "- NumPy arrays store data more compactly than python lists.\n",
    "- Vectorization: Perform operations on entire arrays without writing loops.\n",
    "- Work with arrays of different shapes seamlessly.\n",
    "- Foundation for pandas, scikit-learn, matplotlib, and more."
   ]
  },
  {
   "cell_type": "code",
   "execution_count": 1,
   "id": "d7e7c1ae",
   "metadata": {},
   "outputs": [
    {
     "name": "stdout",
     "output_type": "stream",
     "text": [
      "Numpy version: 2.3.2\n"
     ]
    }
   ],
   "source": [
    "# import all necessary libraries\n",
    "\n",
    "import numpy as np\n",
    "import matplotlib.pyplot as plt\n",
    "import time\n",
    "\n",
    "# Check NumPy version \n",
    "print(f\"Numpy version: {np.__version__}\")\n",
    "\n",
    "# Display settings for cleaner output\n",
    "np.set_printoptions(precision=3, suppress=True)\n"
   ]
  },
  {
   "cell_type": "markdown",
   "id": "ed715113",
   "metadata": {},
   "source": [
    "* Creating Numpy Arrays"
   ]
  },
  {
   "cell_type": "code",
   "execution_count": 7,
   "id": "a630176d",
   "metadata": {},
   "outputs": [
    {
     "name": "stdout",
     "output_type": "stream",
     "text": [
      "1D arrays: [1 2 3 4 5]\n",
      "2D array:\n",
      " [[1 2 3]\n",
      " [4 5 6]]\n",
      "3D array:\n",
      " [[[1 2]\n",
      "  [3 4]]\n",
      "\n",
      " [[5 6]\n",
      "  [7 8]]]\n"
     ]
    }
   ],
   "source": [
    "# Creating arrays from python lists\n",
    "# 1D array: A simple sequence of numbers\n",
    "arr1d = np.array([1, 2, 3, 4, 5])\n",
    "\n",
    "# 2D array: Think of this as a matrix or table with rows and columns\n",
    "arr2d = np.array([[1,2,3],\n",
    "                  [4,5,6]])\n",
    "\n",
    "# 3D array: Like a stack of 2D arrays - useful for images, time series, etc.\n",
    "arr3d = np.array([[[1, 2], [3, 4]],\n",
    "                  [[5,6], [7, 8]]])\n",
    "\n",
    "print(\"1D arrays:\", arr1d)\n",
    "print(\"2D array:\\n\", arr2d)\n",
    "print(\"3D array:\\n\", arr3d)"
   ]
  },
  {
   "cell_type": "markdown",
   "id": "5d6282ba",
   "metadata": {},
   "source": [
    "#### Creating Special Arrays in Numpy"
   ]
  },
  {
   "cell_type": "code",
   "execution_count": 9,
   "id": "8f9076ff",
   "metadata": {},
   "outputs": [
    {
     "name": "stdout",
     "output_type": "stream",
     "text": [
      "Zeros array (3x4):\n",
      " [[0. 0. 0. 0.]\n",
      " [0. 0. 0. 0.]\n",
      " [0. 0. 0. 0.]]\n",
      "Ones array shape: (2, 3, 4)\n",
      "Empty array (contains random values):\n",
      " [[0. 0.]\n",
      " [0. 0.]]\n"
     ]
    }
   ],
   "source": [
    "# Creating arrays filled with zeros - useful for initializing arrays\n",
    "zeros = np.zeros((3,4))\n",
    "\n",
    "# Creating arrays filled with ones - often used as starting points\n",
    "ones = np.ones((2, 3, 4))   # 3D array: 2 layers, 3 rows, 4 columns\n",
    "\n",
    "# Empty array - faster than zeros/ones but contains random values\n",
    "empty = np.empty((2, 2))\n",
    "\n",
    "print(\"Zeros array (3x4):\\n\", zeros) \n",
    "print(\"Ones array shape:\", ones.shape)\n",
    "print(\"Empty array (contains random values):\\n\", empty)"
   ]
  },
  {
   "cell_type": "code",
   "execution_count": 10,
   "id": "9fe8f3fa",
   "metadata": {},
   "outputs": [
    {
     "name": "stdout",
     "output_type": "stream",
     "text": [
      "Range array: [0 2 4 6 8]\n",
      "Linspace array: [0.   0.25 0.5  0.75 1.  ]\n",
      "Logspace array: [  1.      3.162  10.     31.623 100.   ]\n"
     ]
    }
   ],
   "source": [
    "# Range arrays - like python's range() but more powerful\n",
    "range_arr = np.arange(0, 10, 2)\n",
    "print(\"Range array:\", range_arr)\n",
    "\n",
    "# Linearly spaced arrays\n",
    "linspace_arr = np.linspace(0, 1, 5)\n",
    "print(\"Linspace array:\", linspace_arr)\n",
    "\n",
    "# Logarithmically spaced arrays\n",
    "logspace_arr = np.logspace(0, 2, 5)\n",
    "print(\"Logspace array:\", logspace_arr)"
   ]
  },
  {
   "cell_type": "code",
   "execution_count": 11,
   "id": "bcf2ddde",
   "metadata": {},
   "outputs": [
    {
     "name": "stdout",
     "output_type": "stream",
     "text": [
      "Identity matrix:\n",
      " [[1. 0. 0. 0.]\n",
      " [0. 1. 0. 0.]\n",
      " [0. 0. 1. 0.]\n",
      " [0. 0. 0. 1.]]\n",
      "Diagonal matrix:\n",
      " [[1 0 0 0]\n",
      " [0 2 0 0]\n",
      " [0 0 3 0]\n",
      " [0 0 0 4]]\n",
      "Full array (filled with 7):\n",
      " [[7 7 7]\n",
      " [7 7 7]\n",
      " [7 7 7]]\n"
     ]
    }
   ],
   "source": [
    "identity = np.eye(4)\n",
    "diagonal = np.diag([1, 2, 3, 4])\n",
    "full_arr = np.full((3, 3), 7)\n",
    "\n",
    "print(\"Identity matrix:\\n\", identity)\n",
    "print(\"Diagonal matrix:\\n\", diagonal)\n",
    "print(\"Full array (filled with 7):\\n\", full_arr)"
   ]
  },
  {
   "cell_type": "markdown",
   "id": "798627a9",
   "metadata": {},
   "source": [
    "#### Numpy Data Types (dtypes)"
   ]
  },
  {
   "cell_type": "code",
   "execution_count": 12,
   "id": "86f0932d",
   "metadata": {},
   "outputs": [
    {
     "name": "stdout",
     "output_type": "stream",
     "text": [
      "Integer array dtype: int32\n",
      "Float array dtype: float64\n",
      "Boolean array dtype: bool\n",
      "Converted array dtype: float32\n",
      "int32 uses 4 bytes per element\n",
      "float64 uses 8 bytes per element\n"
     ]
    }
   ],
   "source": [
    "int_arr = np.array([1, 2, 3], dtype=np.int32)\n",
    "float_arr = np.array([1, 2, 3], dtype=np.float64)\n",
    "bool_arr = np.array([True, False, True], dtype=np.bool_)\n",
    "converted = int_arr.astype(np.float32)\n",
    "\n",
    "print(\"Integer array dtype:\", int_arr.dtype)\n",
    "print(\"Float array dtype:\", float_arr.dtype)\n",
    "print(\"Boolean array dtype:\", bool_arr.dtype)\n",
    "print(\"Converted array dtype:\", converted.dtype)\n",
    "\n",
    "print(f\"int32 uses {int_arr.itemsize} bytes per element\")\n",
    "print(f\"float64 uses {float_arr.itemsize} bytes per element\")"
   ]
  },
  {
   "cell_type": "code",
   "execution_count": null,
   "id": "cb1e8d28",
   "metadata": {},
   "outputs": [],
   "source": [
    "arr = np.random.randn(3, 4, 5)\n",
    "print(\"Shape:\", arr.shape)\n",
    "print(\"Size:\", arr.size)\n",
    "print(\"Ndim:\", arr.ndim)"
   ]
  }
 ],
 "metadata": {
  "kernelspec": {
   "display_name": "my_venv",
   "language": "python",
   "name": "python3"
  },
  "language_info": {
   "codemirror_mode": {
    "name": "ipython",
    "version": 3
   },
   "file_extension": ".py",
   "mimetype": "text/x-python",
   "name": "python",
   "nbconvert_exporter": "python",
   "pygments_lexer": "ipython3",
   "version": "3.13.5"
  }
 },
 "nbformat": 4,
 "nbformat_minor": 5
}
